{
 "cells": [
  {
   "cell_type": "markdown",
   "id": "afb4878f",
   "metadata": {},
   "source": [
    "# Lead Case Study"
   ]
  },
  {
   "cell_type": "markdown",
   "id": "029902f5",
   "metadata": {},
   "source": [
    "## Step 1 : Reading & Understanding the Data "
   ]
  },
  {
   "cell_type": "markdown",
   "id": "5960c3f9",
   "metadata": {},
   "source": [
    "#### Import Necessary Libraries"
   ]
  },
  {
   "cell_type": "code",
   "execution_count": 1,
   "id": "c0b3953d",
   "metadata": {},
   "outputs": [],
   "source": [
    "import numpy as np\n",
    "import pandas as pd\n",
    "import matplotlib.pyplot as plt\n",
    "import seaborn as sns\n",
    "%matplotlib inline\n",
    "from sklearn.preprocessing import StandardScaler\n",
    "import warnings\n",
    "warnings.filterwarnings('ignore')"
   ]
  },
  {
   "cell_type": "code",
   "execution_count": 2,
   "id": "19849e20",
   "metadata": {},
   "outputs": [],
   "source": [
    "# Import dataset\n",
    "leads_df = pd.read_csv(\"Leads.csv\")"
   ]
  },
  {
   "cell_type": "markdown",
   "id": "2f6ccd0e",
   "metadata": {},
   "source": [
    "#### Inspecting the Data"
   ]
  },
  {
   "cell_type": "code",
   "execution_count": 3,
   "id": "b41c355d",
   "metadata": {},
   "outputs": [
    {
     "data": {
      "text/html": [
       "<div>\n",
       "<style scoped>\n",
       "    .dataframe tbody tr th:only-of-type {\n",
       "        vertical-align: middle;\n",
       "    }\n",
       "\n",
       "    .dataframe tbody tr th {\n",
       "        vertical-align: top;\n",
       "    }\n",
       "\n",
       "    .dataframe thead th {\n",
       "        text-align: right;\n",
       "    }\n",
       "</style>\n",
       "<table border=\"1\" class=\"dataframe\">\n",
       "  <thead>\n",
       "    <tr style=\"text-align: right;\">\n",
       "      <th></th>\n",
       "      <th>Prospect ID</th>\n",
       "      <th>Lead Number</th>\n",
       "      <th>Lead Origin</th>\n",
       "      <th>Lead Source</th>\n",
       "      <th>Do Not Email</th>\n",
       "      <th>Do Not Call</th>\n",
       "      <th>Converted</th>\n",
       "      <th>TotalVisits</th>\n",
       "      <th>Total Time Spent on Website</th>\n",
       "      <th>Page Views Per Visit</th>\n",
       "      <th>...</th>\n",
       "      <th>Get updates on DM Content</th>\n",
       "      <th>Lead Profile</th>\n",
       "      <th>City</th>\n",
       "      <th>Asymmetrique Activity Index</th>\n",
       "      <th>Asymmetrique Profile Index</th>\n",
       "      <th>Asymmetrique Activity Score</th>\n",
       "      <th>Asymmetrique Profile Score</th>\n",
       "      <th>I agree to pay the amount through cheque</th>\n",
       "      <th>A free copy of Mastering The Interview</th>\n",
       "      <th>Last Notable Activity</th>\n",
       "    </tr>\n",
       "  </thead>\n",
       "  <tbody>\n",
       "    <tr>\n",
       "      <th>0</th>\n",
       "      <td>7927b2df-8bba-4d29-b9a2-b6e0beafe620</td>\n",
       "      <td>660737</td>\n",
       "      <td>API</td>\n",
       "      <td>Olark Chat</td>\n",
       "      <td>No</td>\n",
       "      <td>No</td>\n",
       "      <td>0</td>\n",
       "      <td>0.0</td>\n",
       "      <td>0</td>\n",
       "      <td>0.0</td>\n",
       "      <td>...</td>\n",
       "      <td>No</td>\n",
       "      <td>Select</td>\n",
       "      <td>Select</td>\n",
       "      <td>02.Medium</td>\n",
       "      <td>02.Medium</td>\n",
       "      <td>15.0</td>\n",
       "      <td>15.0</td>\n",
       "      <td>No</td>\n",
       "      <td>No</td>\n",
       "      <td>Modified</td>\n",
       "    </tr>\n",
       "    <tr>\n",
       "      <th>1</th>\n",
       "      <td>2a272436-5132-4136-86fa-dcc88c88f482</td>\n",
       "      <td>660728</td>\n",
       "      <td>API</td>\n",
       "      <td>Organic Search</td>\n",
       "      <td>No</td>\n",
       "      <td>No</td>\n",
       "      <td>0</td>\n",
       "      <td>5.0</td>\n",
       "      <td>674</td>\n",
       "      <td>2.5</td>\n",
       "      <td>...</td>\n",
       "      <td>No</td>\n",
       "      <td>Select</td>\n",
       "      <td>Select</td>\n",
       "      <td>02.Medium</td>\n",
       "      <td>02.Medium</td>\n",
       "      <td>15.0</td>\n",
       "      <td>15.0</td>\n",
       "      <td>No</td>\n",
       "      <td>No</td>\n",
       "      <td>Email Opened</td>\n",
       "    </tr>\n",
       "    <tr>\n",
       "      <th>2</th>\n",
       "      <td>8cc8c611-a219-4f35-ad23-fdfd2656bd8a</td>\n",
       "      <td>660727</td>\n",
       "      <td>Landing Page Submission</td>\n",
       "      <td>Direct Traffic</td>\n",
       "      <td>No</td>\n",
       "      <td>No</td>\n",
       "      <td>1</td>\n",
       "      <td>2.0</td>\n",
       "      <td>1532</td>\n",
       "      <td>2.0</td>\n",
       "      <td>...</td>\n",
       "      <td>No</td>\n",
       "      <td>Potential Lead</td>\n",
       "      <td>Mumbai</td>\n",
       "      <td>02.Medium</td>\n",
       "      <td>01.High</td>\n",
       "      <td>14.0</td>\n",
       "      <td>20.0</td>\n",
       "      <td>No</td>\n",
       "      <td>Yes</td>\n",
       "      <td>Email Opened</td>\n",
       "    </tr>\n",
       "    <tr>\n",
       "      <th>3</th>\n",
       "      <td>0cc2df48-7cf4-4e39-9de9-19797f9b38cc</td>\n",
       "      <td>660719</td>\n",
       "      <td>Landing Page Submission</td>\n",
       "      <td>Direct Traffic</td>\n",
       "      <td>No</td>\n",
       "      <td>No</td>\n",
       "      <td>0</td>\n",
       "      <td>1.0</td>\n",
       "      <td>305</td>\n",
       "      <td>1.0</td>\n",
       "      <td>...</td>\n",
       "      <td>No</td>\n",
       "      <td>Select</td>\n",
       "      <td>Mumbai</td>\n",
       "      <td>02.Medium</td>\n",
       "      <td>01.High</td>\n",
       "      <td>13.0</td>\n",
       "      <td>17.0</td>\n",
       "      <td>No</td>\n",
       "      <td>No</td>\n",
       "      <td>Modified</td>\n",
       "    </tr>\n",
       "    <tr>\n",
       "      <th>4</th>\n",
       "      <td>3256f628-e534-4826-9d63-4a8b88782852</td>\n",
       "      <td>660681</td>\n",
       "      <td>Landing Page Submission</td>\n",
       "      <td>Google</td>\n",
       "      <td>No</td>\n",
       "      <td>No</td>\n",
       "      <td>1</td>\n",
       "      <td>2.0</td>\n",
       "      <td>1428</td>\n",
       "      <td>1.0</td>\n",
       "      <td>...</td>\n",
       "      <td>No</td>\n",
       "      <td>Select</td>\n",
       "      <td>Mumbai</td>\n",
       "      <td>02.Medium</td>\n",
       "      <td>01.High</td>\n",
       "      <td>15.0</td>\n",
       "      <td>18.0</td>\n",
       "      <td>No</td>\n",
       "      <td>No</td>\n",
       "      <td>Modified</td>\n",
       "    </tr>\n",
       "  </tbody>\n",
       "</table>\n",
       "<p>5 rows × 37 columns</p>\n",
       "</div>"
      ],
      "text/plain": [
       "                            Prospect ID  Lead Number              Lead Origin  \\\n",
       "0  7927b2df-8bba-4d29-b9a2-b6e0beafe620       660737                      API   \n",
       "1  2a272436-5132-4136-86fa-dcc88c88f482       660728                      API   \n",
       "2  8cc8c611-a219-4f35-ad23-fdfd2656bd8a       660727  Landing Page Submission   \n",
       "3  0cc2df48-7cf4-4e39-9de9-19797f9b38cc       660719  Landing Page Submission   \n",
       "4  3256f628-e534-4826-9d63-4a8b88782852       660681  Landing Page Submission   \n",
       "\n",
       "      Lead Source Do Not Email Do Not Call  Converted  TotalVisits  \\\n",
       "0      Olark Chat           No          No          0          0.0   \n",
       "1  Organic Search           No          No          0          5.0   \n",
       "2  Direct Traffic           No          No          1          2.0   \n",
       "3  Direct Traffic           No          No          0          1.0   \n",
       "4          Google           No          No          1          2.0   \n",
       "\n",
       "   Total Time Spent on Website  Page Views Per Visit  ...  \\\n",
       "0                            0                   0.0  ...   \n",
       "1                          674                   2.5  ...   \n",
       "2                         1532                   2.0  ...   \n",
       "3                          305                   1.0  ...   \n",
       "4                         1428                   1.0  ...   \n",
       "\n",
       "  Get updates on DM Content    Lead Profile    City  \\\n",
       "0                        No          Select  Select   \n",
       "1                        No          Select  Select   \n",
       "2                        No  Potential Lead  Mumbai   \n",
       "3                        No          Select  Mumbai   \n",
       "4                        No          Select  Mumbai   \n",
       "\n",
       "  Asymmetrique Activity Index Asymmetrique Profile Index  \\\n",
       "0                   02.Medium                  02.Medium   \n",
       "1                   02.Medium                  02.Medium   \n",
       "2                   02.Medium                    01.High   \n",
       "3                   02.Medium                    01.High   \n",
       "4                   02.Medium                    01.High   \n",
       "\n",
       "  Asymmetrique Activity Score Asymmetrique Profile Score  \\\n",
       "0                        15.0                       15.0   \n",
       "1                        15.0                       15.0   \n",
       "2                        14.0                       20.0   \n",
       "3                        13.0                       17.0   \n",
       "4                        15.0                       18.0   \n",
       "\n",
       "  I agree to pay the amount through cheque  \\\n",
       "0                                       No   \n",
       "1                                       No   \n",
       "2                                       No   \n",
       "3                                       No   \n",
       "4                                       No   \n",
       "\n",
       "  A free copy of Mastering The Interview Last Notable Activity  \n",
       "0                                     No              Modified  \n",
       "1                                     No          Email Opened  \n",
       "2                                    Yes          Email Opened  \n",
       "3                                     No              Modified  \n",
       "4                                     No              Modified  \n",
       "\n",
       "[5 rows x 37 columns]"
      ]
     },
     "execution_count": 3,
     "metadata": {},
     "output_type": "execute_result"
    }
   ],
   "source": [
    "leads_df.head()"
   ]
  },
  {
   "cell_type": "code",
   "execution_count": 4,
   "id": "bea5ee9e",
   "metadata": {},
   "outputs": [
    {
     "data": {
      "text/plain": [
       "(9240, 37)"
      ]
     },
     "execution_count": 4,
     "metadata": {},
     "output_type": "execute_result"
    }
   ],
   "source": [
    "leads_df.shape"
   ]
  },
  {
   "cell_type": "code",
   "execution_count": 5,
   "id": "9877c2fd",
   "metadata": {
    "scrolled": false
   },
   "outputs": [
    {
     "name": "stdout",
     "output_type": "stream",
     "text": [
      "<class 'pandas.core.frame.DataFrame'>\n",
      "RangeIndex: 9240 entries, 0 to 9239\n",
      "Data columns (total 37 columns):\n",
      " #   Column                                         Non-Null Count  Dtype  \n",
      "---  ------                                         --------------  -----  \n",
      " 0   Prospect ID                                    9240 non-null   object \n",
      " 1   Lead Number                                    9240 non-null   int64  \n",
      " 2   Lead Origin                                    9240 non-null   object \n",
      " 3   Lead Source                                    9204 non-null   object \n",
      " 4   Do Not Email                                   9240 non-null   object \n",
      " 5   Do Not Call                                    9240 non-null   object \n",
      " 6   Converted                                      9240 non-null   int64  \n",
      " 7   TotalVisits                                    9103 non-null   float64\n",
      " 8   Total Time Spent on Website                    9240 non-null   int64  \n",
      " 9   Page Views Per Visit                           9103 non-null   float64\n",
      " 10  Last Activity                                  9137 non-null   object \n",
      " 11  Country                                        6779 non-null   object \n",
      " 12  Specialization                                 7802 non-null   object \n",
      " 13  How did you hear about X Education             7033 non-null   object \n",
      " 14  What is your current occupation                6550 non-null   object \n",
      " 15  What matters most to you in choosing a course  6531 non-null   object \n",
      " 16  Search                                         9240 non-null   object \n",
      " 17  Magazine                                       9240 non-null   object \n",
      " 18  Newspaper Article                              9240 non-null   object \n",
      " 19  X Education Forums                             9240 non-null   object \n",
      " 20  Newspaper                                      9240 non-null   object \n",
      " 21  Digital Advertisement                          9240 non-null   object \n",
      " 22  Through Recommendations                        9240 non-null   object \n",
      " 23  Receive More Updates About Our Courses         9240 non-null   object \n",
      " 24  Tags                                           5887 non-null   object \n",
      " 25  Lead Quality                                   4473 non-null   object \n",
      " 26  Update me on Supply Chain Content              9240 non-null   object \n",
      " 27  Get updates on DM Content                      9240 non-null   object \n",
      " 28  Lead Profile                                   6531 non-null   object \n",
      " 29  City                                           7820 non-null   object \n",
      " 30  Asymmetrique Activity Index                    5022 non-null   object \n",
      " 31  Asymmetrique Profile Index                     5022 non-null   object \n",
      " 32  Asymmetrique Activity Score                    5022 non-null   float64\n",
      " 33  Asymmetrique Profile Score                     5022 non-null   float64\n",
      " 34  I agree to pay the amount through cheque       9240 non-null   object \n",
      " 35  A free copy of Mastering The Interview         9240 non-null   object \n",
      " 36  Last Notable Activity                          9240 non-null   object \n",
      "dtypes: float64(4), int64(3), object(30)\n",
      "memory usage: 2.6+ MB\n"
     ]
    }
   ],
   "source": [
    "leads_df.info()"
   ]
  },
  {
   "cell_type": "code",
   "execution_count": 6,
   "id": "afc12284",
   "metadata": {
    "scrolled": true
   },
   "outputs": [
    {
     "data": {
      "text/html": [
       "<div>\n",
       "<style scoped>\n",
       "    .dataframe tbody tr th:only-of-type {\n",
       "        vertical-align: middle;\n",
       "    }\n",
       "\n",
       "    .dataframe tbody tr th {\n",
       "        vertical-align: top;\n",
       "    }\n",
       "\n",
       "    .dataframe thead th {\n",
       "        text-align: right;\n",
       "    }\n",
       "</style>\n",
       "<table border=\"1\" class=\"dataframe\">\n",
       "  <thead>\n",
       "    <tr style=\"text-align: right;\">\n",
       "      <th></th>\n",
       "      <th>Lead Number</th>\n",
       "      <th>Converted</th>\n",
       "      <th>TotalVisits</th>\n",
       "      <th>Total Time Spent on Website</th>\n",
       "      <th>Page Views Per Visit</th>\n",
       "      <th>Asymmetrique Activity Score</th>\n",
       "      <th>Asymmetrique Profile Score</th>\n",
       "    </tr>\n",
       "  </thead>\n",
       "  <tbody>\n",
       "    <tr>\n",
       "      <th>count</th>\n",
       "      <td>9240.000000</td>\n",
       "      <td>9240.000000</td>\n",
       "      <td>9103.000000</td>\n",
       "      <td>9240.000000</td>\n",
       "      <td>9103.000000</td>\n",
       "      <td>5022.000000</td>\n",
       "      <td>5022.000000</td>\n",
       "    </tr>\n",
       "    <tr>\n",
       "      <th>mean</th>\n",
       "      <td>617188.435606</td>\n",
       "      <td>0.385390</td>\n",
       "      <td>3.445238</td>\n",
       "      <td>487.698268</td>\n",
       "      <td>2.362820</td>\n",
       "      <td>14.306252</td>\n",
       "      <td>16.344883</td>\n",
       "    </tr>\n",
       "    <tr>\n",
       "      <th>std</th>\n",
       "      <td>23405.995698</td>\n",
       "      <td>0.486714</td>\n",
       "      <td>4.854853</td>\n",
       "      <td>548.021466</td>\n",
       "      <td>2.161418</td>\n",
       "      <td>1.386694</td>\n",
       "      <td>1.811395</td>\n",
       "    </tr>\n",
       "    <tr>\n",
       "      <th>min</th>\n",
       "      <td>579533.000000</td>\n",
       "      <td>0.000000</td>\n",
       "      <td>0.000000</td>\n",
       "      <td>0.000000</td>\n",
       "      <td>0.000000</td>\n",
       "      <td>7.000000</td>\n",
       "      <td>11.000000</td>\n",
       "    </tr>\n",
       "    <tr>\n",
       "      <th>25%</th>\n",
       "      <td>596484.500000</td>\n",
       "      <td>0.000000</td>\n",
       "      <td>1.000000</td>\n",
       "      <td>12.000000</td>\n",
       "      <td>1.000000</td>\n",
       "      <td>14.000000</td>\n",
       "      <td>15.000000</td>\n",
       "    </tr>\n",
       "    <tr>\n",
       "      <th>50%</th>\n",
       "      <td>615479.000000</td>\n",
       "      <td>0.000000</td>\n",
       "      <td>3.000000</td>\n",
       "      <td>248.000000</td>\n",
       "      <td>2.000000</td>\n",
       "      <td>14.000000</td>\n",
       "      <td>16.000000</td>\n",
       "    </tr>\n",
       "    <tr>\n",
       "      <th>75%</th>\n",
       "      <td>637387.250000</td>\n",
       "      <td>1.000000</td>\n",
       "      <td>5.000000</td>\n",
       "      <td>936.000000</td>\n",
       "      <td>3.000000</td>\n",
       "      <td>15.000000</td>\n",
       "      <td>18.000000</td>\n",
       "    </tr>\n",
       "    <tr>\n",
       "      <th>max</th>\n",
       "      <td>660737.000000</td>\n",
       "      <td>1.000000</td>\n",
       "      <td>251.000000</td>\n",
       "      <td>2272.000000</td>\n",
       "      <td>55.000000</td>\n",
       "      <td>18.000000</td>\n",
       "      <td>20.000000</td>\n",
       "    </tr>\n",
       "  </tbody>\n",
       "</table>\n",
       "</div>"
      ],
      "text/plain": [
       "         Lead Number    Converted  TotalVisits  Total Time Spent on Website  \\\n",
       "count    9240.000000  9240.000000  9103.000000                  9240.000000   \n",
       "mean   617188.435606     0.385390     3.445238                   487.698268   \n",
       "std     23405.995698     0.486714     4.854853                   548.021466   \n",
       "min    579533.000000     0.000000     0.000000                     0.000000   \n",
       "25%    596484.500000     0.000000     1.000000                    12.000000   \n",
       "50%    615479.000000     0.000000     3.000000                   248.000000   \n",
       "75%    637387.250000     1.000000     5.000000                   936.000000   \n",
       "max    660737.000000     1.000000   251.000000                  2272.000000   \n",
       "\n",
       "       Page Views Per Visit  Asymmetrique Activity Score  \\\n",
       "count           9103.000000                  5022.000000   \n",
       "mean               2.362820                    14.306252   \n",
       "std                2.161418                     1.386694   \n",
       "min                0.000000                     7.000000   \n",
       "25%                1.000000                    14.000000   \n",
       "50%                2.000000                    14.000000   \n",
       "75%                3.000000                    15.000000   \n",
       "max               55.000000                    18.000000   \n",
       "\n",
       "       Asymmetrique Profile Score  \n",
       "count                 5022.000000  \n",
       "mean                    16.344883  \n",
       "std                      1.811395  \n",
       "min                     11.000000  \n",
       "25%                     15.000000  \n",
       "50%                     16.000000  \n",
       "75%                     18.000000  \n",
       "max                     20.000000  "
      ]
     },
     "execution_count": 6,
     "metadata": {},
     "output_type": "execute_result"
    }
   ],
   "source": [
    "leads_df.describe()"
   ]
  },
  {
   "cell_type": "markdown",
   "id": "75f3859e",
   "metadata": {},
   "source": [
    "## Step 2 : Data Quality Checks"
   ]
  },
  {
   "cell_type": "markdown",
   "id": "e22882f4",
   "metadata": {},
   "source": [
    "##### Duplicate Value Checks"
   ]
  },
  {
   "cell_type": "code",
   "execution_count": 7,
   "id": "784715f4",
   "metadata": {
    "scrolled": true
   },
   "outputs": [
    {
     "data": {
      "text/plain": [
       "True"
      ]
     },
     "execution_count": 7,
     "metadata": {},
     "output_type": "execute_result"
    }
   ],
   "source": [
    "# Checking for duplicates values\n",
    "sum(leads_df.duplicated(subset = \"Prospect ID\"))==0"
   ]
  },
  {
   "cell_type": "code",
   "execution_count": 8,
   "id": "cbcc27ab",
   "metadata": {
    "scrolled": true
   },
   "outputs": [
    {
     "data": {
      "text/plain": [
       "True"
      ]
     },
     "execution_count": 8,
     "metadata": {},
     "output_type": "execute_result"
    }
   ],
   "source": [
    "sum(leads_df.duplicated(subset = \"Lead Number\"))==0"
   ]
  },
  {
   "cell_type": "markdown",
   "id": "4823602c",
   "metadata": {},
   "source": [
    "No duplicate value found in Prospect ID & Lead Number. These columns are used to indicate the ID number of people contacted and are of no significance, so will drop these columns."
   ]
  },
  {
   "cell_type": "markdown",
   "id": "fb98bdab",
   "metadata": {},
   "source": [
    "##### Null Value Checks"
   ]
  },
  {
   "cell_type": "code",
   "execution_count": 9,
   "id": "93db393d",
   "metadata": {},
   "outputs": [
    {
     "data": {
      "text/plain": [
       "Prospect ID                                         0\n",
       "Lead Number                                         0\n",
       "Lead Origin                                         0\n",
       "Lead Source                                        36\n",
       "Do Not Email                                        0\n",
       "Do Not Call                                         0\n",
       "Converted                                           0\n",
       "TotalVisits                                       137\n",
       "Total Time Spent on Website                         0\n",
       "Page Views Per Visit                              137\n",
       "Last Activity                                     103\n",
       "Country                                          2461\n",
       "Specialization                                   1438\n",
       "How did you hear about X Education               2207\n",
       "What is your current occupation                  2690\n",
       "What matters most to you in choosing a course    2709\n",
       "Search                                              0\n",
       "Magazine                                            0\n",
       "Newspaper Article                                   0\n",
       "X Education Forums                                  0\n",
       "Newspaper                                           0\n",
       "Digital Advertisement                               0\n",
       "Through Recommendations                             0\n",
       "Receive More Updates About Our Courses              0\n",
       "Tags                                             3353\n",
       "Lead Quality                                     4767\n",
       "Update me on Supply Chain Content                   0\n",
       "Get updates on DM Content                           0\n",
       "Lead Profile                                     2709\n",
       "City                                             1420\n",
       "Asymmetrique Activity Index                      4218\n",
       "Asymmetrique Profile Index                       4218\n",
       "Asymmetrique Activity Score                      4218\n",
       "Asymmetrique Profile Score                       4218\n",
       "I agree to pay the amount through cheque            0\n",
       "A free copy of Mastering The Interview              0\n",
       "Last Notable Activity                               0\n",
       "dtype: int64"
      ]
     },
     "execution_count": 9,
     "metadata": {},
     "output_type": "execute_result"
    }
   ],
   "source": [
    "# Checking for NULL Values\n",
    "leads_df.isnull().sum()"
   ]
  },
  {
   "cell_type": "code",
   "execution_count": 10,
   "id": "ed14119c",
   "metadata": {
    "scrolled": false
   },
   "outputs": [
    {
     "data": {
      "text/plain": [
       "Prospect ID                                       0.00\n",
       "Lead Number                                       0.00\n",
       "Lead Origin                                       0.00\n",
       "Lead Source                                       0.39\n",
       "Do Not Email                                      0.00\n",
       "Do Not Call                                       0.00\n",
       "Converted                                         0.00\n",
       "TotalVisits                                       1.48\n",
       "Total Time Spent on Website                       0.00\n",
       "Page Views Per Visit                              1.48\n",
       "Last Activity                                     1.11\n",
       "Country                                          26.63\n",
       "Specialization                                   15.56\n",
       "How did you hear about X Education               23.89\n",
       "What is your current occupation                  29.11\n",
       "What matters most to you in choosing a course    29.32\n",
       "Search                                            0.00\n",
       "Magazine                                          0.00\n",
       "Newspaper Article                                 0.00\n",
       "X Education Forums                                0.00\n",
       "Newspaper                                         0.00\n",
       "Digital Advertisement                             0.00\n",
       "Through Recommendations                           0.00\n",
       "Receive More Updates About Our Courses            0.00\n",
       "Tags                                             36.29\n",
       "Lead Quality                                     51.59\n",
       "Update me on Supply Chain Content                 0.00\n",
       "Get updates on DM Content                         0.00\n",
       "Lead Profile                                     29.32\n",
       "City                                             15.37\n",
       "Asymmetrique Activity Index                      45.65\n",
       "Asymmetrique Profile Index                       45.65\n",
       "Asymmetrique Activity Score                      45.65\n",
       "Asymmetrique Profile Score                       45.65\n",
       "I agree to pay the amount through cheque          0.00\n",
       "A free copy of Mastering The Interview            0.00\n",
       "Last Notable Activity                             0.00\n",
       "dtype: float64"
      ]
     },
     "execution_count": 10,
     "metadata": {},
     "output_type": "execute_result"
    }
   ],
   "source": [
    "# Checking percentage of NULL values in each column\n",
    "round(100*(leads_df.isnull().sum()/len(leads_df.index)), 2)"
   ]
  },
  {
   "cell_type": "markdown",
   "id": "3a73b254",
   "metadata": {},
   "source": [
    "## Step 3 : Exploratory Data Analysis (EDA)"
   ]
  },
  {
   "cell_type": "markdown",
   "id": "4c9db4df",
   "metadata": {},
   "source": [
    "### Data Cleaning"
   ]
  },
  {
   "cell_type": "code",
   "execution_count": 11,
   "id": "d31cae5d",
   "metadata": {},
   "outputs": [],
   "source": [
    "# Converting SELECT value to NA value\n",
    "leads_df= leads_df.replace('Select', np.nan)"
   ]
  },
  {
   "cell_type": "code",
   "execution_count": 12,
   "id": "67dfcd9a",
   "metadata": {},
   "outputs": [],
   "source": [
    "# Dropping 'Prospect ID' and 'Lead Number' columns\n",
    "leads_df.drop(['Prospect ID','Lead Number'], 1, inplace = True)"
   ]
  },
  {
   "cell_type": "code",
   "execution_count": 13,
   "id": "7888db10",
   "metadata": {},
   "outputs": [],
   "source": [
    "# Dropping column more than 45% NULL Values\n",
    "cols=leads_df.columns[round((leads_df.isnull().sum()/len(leads_df))*100)>=45]\n",
    "leads_df=leads_df.drop(cols,1)"
   ]
  },
  {
   "cell_type": "code",
   "execution_count": 14,
   "id": "beaa2d14",
   "metadata": {
    "scrolled": false
   },
   "outputs": [
    {
     "data": {
      "text/plain": [
       "Lead Origin                                       0.00\n",
       "Lead Source                                       0.39\n",
       "Do Not Email                                      0.00\n",
       "Do Not Call                                       0.00\n",
       "Converted                                         0.00\n",
       "TotalVisits                                       1.48\n",
       "Total Time Spent on Website                       0.00\n",
       "Page Views Per Visit                              1.48\n",
       "Last Activity                                     1.11\n",
       "Country                                          26.63\n",
       "Specialization                                   36.58\n",
       "What is your current occupation                  29.11\n",
       "What matters most to you in choosing a course    29.32\n",
       "Search                                            0.00\n",
       "Magazine                                          0.00\n",
       "Newspaper Article                                 0.00\n",
       "X Education Forums                                0.00\n",
       "Newspaper                                         0.00\n",
       "Digital Advertisement                             0.00\n",
       "Through Recommendations                           0.00\n",
       "Receive More Updates About Our Courses            0.00\n",
       "Tags                                             36.29\n",
       "Update me on Supply Chain Content                 0.00\n",
       "Get updates on DM Content                         0.00\n",
       "City                                             39.71\n",
       "I agree to pay the amount through cheque          0.00\n",
       "A free copy of Mastering The Interview            0.00\n",
       "Last Notable Activity                             0.00\n",
       "dtype: float64"
      ]
     },
     "execution_count": 14,
     "metadata": {},
     "output_type": "execute_result"
    }
   ],
   "source": [
    "# Re-checking NULL value percentage in each column \n",
    "round(100*(leads_df.isnull().sum()/len(leads_df.index)), 2)"
   ]
  },
  {
   "cell_type": "markdown",
   "id": "0b527df5",
   "metadata": {},
   "source": [
    "### Categorical Variable Analysis"
   ]
  },
  {
   "cell_type": "markdown",
   "id": "fb90aaf3",
   "metadata": {},
   "source": [
    "#### 1. Analysing Country column"
   ]
  },
  {
   "cell_type": "code",
   "execution_count": 15,
   "id": "48e47501",
   "metadata": {},
   "outputs": [
    {
     "data": {
      "text/plain": [
       "India                   6492\n",
       "NaN                     2461\n",
       "United States             69\n",
       "United Arab Emirates      53\n",
       "Singapore                 24\n",
       "Saudi Arabia              21\n",
       "United Kingdom            15\n",
       "Australia                 13\n",
       "Qatar                     10\n",
       "Bahrain                    7\n",
       "Hong Kong                  7\n",
       "Oman                       6\n",
       "France                     6\n",
       "unknown                    5\n",
       "Kuwait                     4\n",
       "South Africa               4\n",
       "Canada                     4\n",
       "Nigeria                    4\n",
       "Germany                    4\n",
       "Sweden                     3\n",
       "Philippines                2\n",
       "Uganda                     2\n",
       "Italy                      2\n",
       "Bangladesh                 2\n",
       "Netherlands                2\n",
       "Asia/Pacific Region        2\n",
       "China                      2\n",
       "Belgium                    2\n",
       "Ghana                      2\n",
       "Kenya                      1\n",
       "Sri Lanka                  1\n",
       "Tanzania                   1\n",
       "Malaysia                   1\n",
       "Liberia                    1\n",
       "Switzerland                1\n",
       "Denmark                    1\n",
       "Russia                     1\n",
       "Vietnam                    1\n",
       "Indonesia                  1\n",
       "Name: Country, dtype: int64"
      ]
     },
     "execution_count": 15,
     "metadata": {},
     "output_type": "execute_result"
    }
   ],
   "source": [
    "# Checking value counts of 'country' column\n",
    "leads_df['Country'].value_counts(dropna = False)"
   ]
  },
  {
   "cell_type": "code",
   "execution_count": 16,
   "id": "58380e8d",
   "metadata": {
    "scrolled": false
   },
   "outputs": [
    {
     "data": {
      "image/png": "[encoded data removed]",
      "text/plain": [
       "<Figure size 864x360 with 1 Axes>"
      ]
     },
     "metadata": {
      "needs_background": "light"
     },
     "output_type": "display_data"
    }
   ],
   "source": [
    "# Visualising the data spread in 'country' column\n",
    "plt.figure(figsize=(12,5))\n",
    "plt1=sns.countplot(leads_df.Country, hue=leads_df.Converted)\n",
    "plt1.set_xticklabels(plt1.get_xticklabels(),rotation=90)\n",
    "plt.show()"
   ]
  },
  {
   "cell_type": "markdown",
   "id": "4ee2e364",
   "metadata": {},
   "source": [
    "Country 'India' is most recurring value, so we impute the missing values with 'India'"
   ]
  },
  {
   "cell_type": "code",
   "execution_count": 17,
   "id": "6ec78972",
   "metadata": {},
   "outputs": [],
   "source": [
    "# Replacing missing data in country column with 'India'\n",
    "leads_df['Country'] = leads_df['Country'].replace(np.nan, 'India')"
   ]
  },
  {
   "cell_type": "code",
   "execution_count": 18,
   "id": "1a02203e",
   "metadata": {},
   "outputs": [
    {
     "data": {
      "image/png": "[encoded data removed]",
      "text/plain": [
       "<Figure size 864x360 with 1 Axes>"
      ]
     },
     "metadata": {
      "needs_background": "light"
     },
     "output_type": "display_data"
    }
   ],
   "source": [
    "# Re-Checking the data spread in 'country' column after data imputation\n",
    "plt.figure(figsize=(12,5))\n",
    "plt1=sns.countplot(leads_df.Country, hue=leads_df.Converted)\n",
    "plt1.set_xticklabels(plt1.get_xticklabels(),rotation=90)\n",
    "plt.show()"
   ]
  },
  {
   "cell_type": "markdown",
   "id": "a11574a2",
   "metadata": {},
   "source": [
    "From above graph we can see that values of 'India' is quite high which indicates this data is highly skewed. It will influence the model incorrectly so we will drop this column."
   ]
  },
  {
   "cell_type": "markdown",
   "id": "662439bf",
   "metadata": {},
   "source": [
    "#### 2. Analysing Specialization column"
   ]
  },
  {
   "cell_type": "code",
   "execution_count": 19,
   "id": "04a6b5ba",
   "metadata": {},
   "outputs": [
    {
     "data": {
      "text/plain": [
       "NaN                                  3380\n",
       "Finance Management                    976\n",
       "Human Resource Management             848\n",
       "Marketing Management                  838\n",
       "Operations Management                 503\n",
       "Business Administration               403\n",
       "IT Projects Management                366\n",
       "Supply Chain Management               349\n",
       "Banking, Investment And Insurance     338\n",
       "Travel and Tourism                    203\n",
       "Media and Advertising                 203\n",
       "International Business                178\n",
       "Healthcare Management                 159\n",
       "Hospitality Management                114\n",
       "E-COMMERCE                            112\n",
       "Retail Management                     100\n",
       "Rural and Agribusiness                 73\n",
       "E-Business                             57\n",
       "Services Excellence                    40\n",
       "Name: Specialization, dtype: int64"
      ]
     },
     "execution_count": 19,
     "metadata": {},
     "output_type": "execute_result"
    }
   ],
   "source": [
    "# Checking value counts of 'specialization' column\n",
    "leads_df['Specialization'].value_counts(dropna = False)"
   ]
  },
  {
   "cell_type": "code",
   "execution_count": 20,
   "id": "f011de1b",
   "metadata": {
    "scrolled": false
   },
   "outputs": [
    {
     "data": {
      "image/png": "[encoded data removed]",
      "text/plain": [
       "<Figure size 864x360 with 1 Axes>"
      ]
     },
     "metadata": {
      "needs_background": "light"
     },
     "output_type": "display_data"
    }
   ],
   "source": [
    "# Visualising data spread in 'specialization' column\n",
    "plt.figure(figsize=(12,5))\n",
    "plt3=sns.countplot(leads_df.Specialization, hue=leads_df.Converted)\n",
    "plt3.set_xticklabels(plt3.get_xticklabels(),rotation=90)\n",
    "plt.show()"
   ]
  },
  {
   "cell_type": "markdown",
   "id": "48ea8d97",
   "metadata": {},
   "source": [
    "From the above graph we can conclude that Leads may not have mentioned their specializations because\n",
    "1. Chosen specialization is not in list.\n",
    "2. They might still be students.\n",
    "\n",
    "Hence we will replace NA values with the term 'Not Specified'"
   ]
  },
  {
   "cell_type": "code",
   "execution_count": 21,
   "id": "60abdaaf",
   "metadata": {},
   "outputs": [],
   "source": [
    "# Replacing missing data in 'specialization' column with 'not specified'\n",
    "leads_df['Specialization'] = leads_df['Specialization'].replace(np.nan, 'Not Specified')"
   ]
  },
  {
   "cell_type": "code",
   "execution_count": 22,
   "id": "5fbe14fe",
   "metadata": {},
   "outputs": [
    {
     "data": {
      "image/png": "[encoded data removed]",
      "text/plain": [
       "<Figure size 864x360 with 1 Axes>"
      ]
     },
     "metadata": {
      "needs_background": "light"
     },
     "output_type": "display_data"
    }
   ],
   "source": [
    "# Re-Checking the data spread in 'specialization' column after data correction\n",
    "plt.figure(figsize=(12,5))\n",
    "plt3=sns.countplot(leads_df.Specialization, hue=leads_df.Converted)\n",
    "plt3.set_xticklabels(plt3.get_xticklabels(),rotation=90)\n",
    "plt.show()"
   ]
  },
  {
   "cell_type": "markdown",
   "id": "eced1a67",
   "metadata": {},
   "source": [
    "We can see that leads having different types of 'Management' specializations are more in number. Thus there is higher chance of management leads converting. So we will combine all the different 'management' specialization under 'Management Specialization'."
   ]
  },
  {
   "cell_type": "code",
   "execution_count": 23,
   "id": "7333cacf",
   "metadata": {},
   "outputs": [],
   "source": [
    "# Combining different management branches under one specialization\n",
    "leads_df['Specialization'] = leads_df['Specialization'].replace(['Finance Management','Human Resource Management',\n",
    "                                                           'Marketing Management','Operations Management',\n",
    "                                                           'IT Projects Management','Supply Chain Management',\n",
    "                                                    'Healthcare Management','Hospitality Management',\n",
    "                                                           'Retail Management'] ,'Management_Specializations') "
   ]
  },
  {
   "cell_type": "code",
   "execution_count": 24,
   "id": "8a9406b3",
   "metadata": {},
   "outputs": [
    {
     "data": {
      "image/png": "[encoded data removed]",
      "text/plain": [
       "<Figure size 864x360 with 1 Axes>"
      ]
     },
     "metadata": {
      "needs_background": "light"
     },
     "output_type": "display_data"
    }
   ],
   "source": [
    "# Re-Checking the spread of data in 'specialization' column after data correction\n",
    "plt.figure(figsize=(12,5))\n",
    "plt3=sns.countplot(leads_df.Specialization, hue=leads_df.Converted)\n",
    "plt3.set_xticklabels(plt3.get_xticklabels(),rotation=90)\n",
    "plt.show()"
   ]
  },
  {
   "cell_type": "markdown",
   "id": "6e1f199a",
   "metadata": {},
   "source": [
    "#### 3. Analysing City column"
   ]
  },
  {
   "cell_type": "code",
   "execution_count": 25,
   "id": "d4320ff4",
   "metadata": {},
   "outputs": [
    {
     "data": {
      "text/plain": [
       "NaN                            3669\n",
       "Mumbai                         3222\n",
       "Thane & Outskirts               752\n",
       "Other Cities                    686\n",
       "Other Cities of Maharashtra     457\n",
       "Other Metro Cities              380\n",
       "Tier II Cities                   74\n",
       "Name: City, dtype: int64"
      ]
     },
     "execution_count": 25,
     "metadata": {},
     "output_type": "execute_result"
    }
   ],
   "source": [
    "# Checking value counts of 'city' column\n",
    "leads_df['City'].value_counts(dropna = False)"
   ]
  },
  {
   "cell_type": "code",
   "execution_count": 26,
   "id": "038d97c6",
   "metadata": {},
   "outputs": [
    {
     "data": {
      "image/png": "[encoded data removed]",
      "text/plain": [
       "<Figure size 864x360 with 1 Axes>"
      ]
     },
     "metadata": {
      "needs_background": "light"
     },
     "output_type": "display_data"
    }
   ],
   "source": [
    "# Visualising data spread in 'city' column\n",
    "plt.figure(figsize=(12,5))\n",
    "plt2=sns.countplot(leads_df.City, hue=leads_df.Converted)\n",
    "plt2.set_xticklabels(plt2.get_xticklabels(),rotation=90)\n",
    "plt.show()"
   ]
  },
  {
   "cell_type": "markdown",
   "id": "ef5a909d",
   "metadata": {},
   "source": [
    "'Mumbai' is most recurring value, so we impute the missing values with 'Mumbai'"
   ]
  },
  {
   "cell_type": "code",
   "execution_count": 27,
   "id": "6d24de59",
   "metadata": {},
   "outputs": [],
   "source": [
    "# replacing 'city' column missing data with ie 'Mumbai'\n",
    "leads_df['City'] = leads_df['City'].replace(np.nan, 'Mumbai')"
   ]
  },
  {
   "cell_type": "code",
   "execution_count": 28,
   "id": "78093251",
   "metadata": {},
   "outputs": [
    {
     "data": {
      "image/png": "[encoded data removed]",
      "text/plain": [
       "<Figure size 864x360 with 1 Axes>"
      ]
     },
     "metadata": {
      "needs_background": "light"
     },
     "output_type": "display_data"
    }
   ],
   "source": [
    "# Re-Checking data in 'city' column after data imputation\n",
    "plt.figure(figsize=(12,5))\n",
    "plt2=sns.countplot(leads_df.City, hue=leads_df.Converted)\n",
    "plt2.set_xticklabels(plt2.get_xticklabels(),rotation=90)\n",
    "plt.show()"
   ]
  },
  {
   "cell_type": "markdown",
   "id": "48d6e71f",
   "metadata": {},
   "source": [
    "The data of this column is not highly skewed and hence we will retain this column."
   ]
  },
  {
   "cell_type": "markdown",
   "id": "a0bb338e",
   "metadata": {},
   "source": [
    "#### 4. Analysing 'What matters most to you in choosing a course' column"
   ]
  },
  {
   "cell_type": "code",
   "execution_count": 29,
   "id": "5c4bf7a8",
   "metadata": {},
   "outputs": [
    {
     "data": {
      "text/plain": [
       "Better Career Prospects      6528\n",
       "NaN                          2709\n",
       "Flexibility & Convenience       2\n",
       "Other                           1\n",
       "Name: What matters most to you in choosing a course, dtype: int64"
      ]
     },
     "execution_count": 29,
     "metadata": {},
     "output_type": "execute_result"
    }
   ],
   "source": [
    "# Checking value counts of 'What matters most to you in choosing a course' column\n",
    "leads_df['What matters most to you in choosing a course'].value_counts(dropna = False)"
   ]
  },
  {
   "cell_type": "code",
   "execution_count": 30,
   "id": "39154896",
   "metadata": {},
   "outputs": [],
   "source": [
    "# Replacing 'What matters most to you in choosing a course' column missing data with most reccuring value 'Better Career Prospects'\n",
    "leads_df['What matters most to you in choosing a course'] = leads_df['What matters most to you in choosing a course'].replace(np.nan, 'Better Career Prospects')"
   ]
  },
  {
   "cell_type": "code",
   "execution_count": 31,
   "id": "4255ad00",
   "metadata": {},
   "outputs": [
    {
     "data": {
      "image/png": "[encoded data removed]",
      "text/plain": [
       "<Figure size 864x360 with 1 Axes>"
      ]
     },
     "metadata": {
      "needs_background": "light"
     },
     "output_type": "display_data"
    }
   ],
   "source": [
    "# Visualising the data in 'What matters most to you in choosing a course' column after data imputation\n",
    "plt.figure(figsize=(12,5))\n",
    "plt5=sns.countplot(leads_df['What matters most to you in choosing a course'], hue=leads_df.Converted)\n",
    "plt5.set_xticklabels(plt5.get_xticklabels(),rotation=90)\n",
    "plt.show()"
   ]
  },
  {
   "cell_type": "markdown",
   "id": "91cd0dd9",
   "metadata": {},
   "source": [
    "Data is skewed towards 'Better Career Prospect' and hence this column will be dropped."
   ]
  },
  {
   "cell_type": "markdown",
   "id": "ea5caebc",
   "metadata": {},
   "source": [
    "#### 5. Analysing 'What is your current occupation' column"
   ]
  },
  {
   "cell_type": "code",
   "execution_count": 32,
   "id": "12e3064e",
   "metadata": {},
   "outputs": [
    {
     "data": {
      "text/plain": [
       "Unemployed              5600\n",
       "NaN                     2690\n",
       "Working Professional     706\n",
       "Student                  210\n",
       "Other                     16\n",
       "Housewife                 10\n",
       "Businessman                8\n",
       "Name: What is your current occupation, dtype: int64"
      ]
     },
     "execution_count": 32,
     "metadata": {},
     "output_type": "execute_result"
    }
   ],
   "source": [
    "# Checking value counts of 'What is your current occupation' column\n",
    "leads_df['What is your current occupation'].value_counts(dropna = False)"
   ]
  },
  {
   "cell_type": "code",
   "execution_count": 33,
   "id": "a33dddc5",
   "metadata": {},
   "outputs": [
    {
     "data": {
      "image/png": "[encoded data removed]",
      "text/plain": [
       "<Figure size 864x360 with 1 Axes>"
      ]
     },
     "metadata": {
      "needs_background": "light"
     },
     "output_type": "display_data"
    }
   ],
   "source": [
    "# Visualising data spread in 'What is your current occupation' column\n",
    "plt.figure(figsize=(12,5))\n",
    "plt4=sns.countplot(leads_df['What is your current occupation'], hue=leads_df.Converted)\n",
    "plt4.set_xticklabels(plt4.get_xticklabels(),rotation=90)\n",
    "plt.show()"
   ]
  },
  {
   "cell_type": "code",
   "execution_count": 34,
   "id": "0c67cc0d",
   "metadata": {},
   "outputs": [],
   "source": [
    "# Replacing 'What is your current occupation' column missing data with most reccuring value ie 'Unemployed'\n",
    "leads_df['What is your current occupation'] = leads_df['What is your current occupation'].replace(np.nan, 'Unemployed')"
   ]
  },
  {
   "cell_type": "code",
   "execution_count": 35,
   "id": "95f3d449",
   "metadata": {},
   "outputs": [
    {
     "data": {
      "image/png": "[encoded data removed]",
      "text/plain": [
       "<Figure size 864x360 with 1 Axes>"
      ]
     },
     "metadata": {
      "needs_background": "light"
     },
     "output_type": "display_data"
    }
   ],
   "source": [
    "# Re-Checking data spread in 'What is your current occupation' column after data imputation\n",
    "plt.figure(figsize=(12,5))\n",
    "plt4=sns.countplot(leads_df['What is your current occupation'], hue=leads_df.Converted)\n",
    "plt4.set_xticklabels(plt4.get_xticklabels(),rotation=90)\n",
    "plt.show()"
   ]
  },
  {
   "cell_type": "markdown",
   "id": "226c43f1",
   "metadata": {},
   "source": [
    "The data look skewed in favor of 'Unemployed' leads but we found a trend: leads who are 'working professionals' are more likely to get converted. Hence we will retain this column."
   ]
  },
  {
   "cell_type": "markdown",
   "id": "2aa5a423",
   "metadata": {},
   "source": [
    "#### 6.  Analysing Tags column"
   ]
  },
  {
   "cell_type": "code",
   "execution_count": 36,
   "id": "f937560a",
   "metadata": {},
   "outputs": [
    {
     "data": {
      "text/plain": [
       "NaN                                                  3353\n",
       "Will revert after reading the email                  2072\n",
       "Ringing                                              1203\n",
       "Interested in other courses                           513\n",
       "Already a student                                     465\n",
       "Closed by Horizzon                                    358\n",
       "switched off                                          240\n",
       "Busy                                                  186\n",
       "Lost to EINS                                          175\n",
       "Not doing further education                           145\n",
       "Interested  in full time MBA                          117\n",
       "Graduation in progress                                111\n",
       "invalid number                                         83\n",
       "Diploma holder (Not Eligible)                          63\n",
       "wrong number given                                     47\n",
       "opp hangup                                             33\n",
       "number not provided                                    27\n",
       "in touch with EINS                                     12\n",
       "Lost to Others                                          7\n",
       "Still Thinking                                          6\n",
       "Want to take admission but has financial problems       6\n",
       "In confusion whether part time or DLP                   5\n",
       "Interested in Next batch                                5\n",
       "Lateral student                                         3\n",
       "Shall take in the next coming month                     2\n",
       "University not recognized                               2\n",
       "Recognition issue (DEC approval)                        1\n",
       "Name: Tags, dtype: int64"
      ]
     },
     "execution_count": 36,
     "metadata": {},
     "output_type": "execute_result"
    }
   ],
   "source": [
    "# Checking value counts of 'tags' column\n",
    "leads_df.Tags.value_counts(dropna = False)"
   ]
  },
  {
   "cell_type": "code",
   "execution_count": 37,
   "id": "e350f649",
   "metadata": {},
   "outputs": [],
   "source": [
    "# Replace 'tags' column missing data with 'not specified'\n",
    "leads_df['Tags'] = leads_df['Tags'].replace(np.nan, 'Not Specified')"
   ]
  },
  {
   "cell_type": "code",
   "execution_count": 38,
   "id": "4041a818",
   "metadata": {},
   "outputs": [
    {
     "data": {
      "image/png": "[encoded data removed]",
      "text/plain": [
       "<Figure size 864x360 with 1 Axes>"
      ]
     },
     "metadata": {
      "needs_background": "light"
     },
     "output_type": "display_data"
    }
   ],
   "source": [
    "# Visualising the spread of data in 'tags' column\n",
    "plt.figure(figsize=(12,5))\n",
    "plt6=sns.countplot(leads_df['Tags'], hue=leads_df.Converted)\n",
    "plt6.set_xticklabels(plt6.get_xticklabels(),rotation=90)\n",
    "plt.show()"
   ]
  },
  {
   "cell_type": "markdown",
   "id": "852306ea",
   "metadata": {},
   "source": [
    "Leads that are tagged 'Will revert after reading mail' have highest chances of being converted followed by 'Lost To EINS', 'Closed By Horizon and 'Busy'. Also there is a lot of data with very low frequence, so for better understanding we will merge them into 'Other_Tags'."
   ]
  },
  {
   "cell_type": "code",
   "execution_count": 39,
   "id": "acb9aea8",
   "metadata": {},
   "outputs": [],
   "source": [
    "# Replace 'tags' column low frequency data with term 'Other_Tags'\n",
    "leads_df['Tags'] = leads_df['Tags'].replace(['In confusion whether part time or DLP', 'in touch with EINS','Diploma holder (Not Eligible)',\n",
    "                                     'Approached upfront','Graduation in progress','number not provided', 'opp hangup','Still Thinking',\n",
    "                                    'Lost to Others','Shall take in the next coming month','Lateral student','Interested in Next batch',\n",
    "                                    'Recognition issue (DEC approval)','Want to take admission but has financial problems',\n",
    "                                    'University not recognized'], 'Other_Tags')"
   ]
  },
  {
   "cell_type": "code",
   "execution_count": 40,
   "id": "676e16cd",
   "metadata": {},
   "outputs": [
    {
     "data": {
      "image/png": "[encoded data removed]",
      "text/plain": [
       "<Figure size 864x360 with 1 Axes>"
      ]
     },
     "metadata": {
      "needs_background": "light"
     },
     "output_type": "display_data"
    }
   ],
   "source": [
    "# Visualising the spread of data in 'tags' column after merging columns\n",
    "plt.figure(figsize=(12,5))\n",
    "plt6=sns.countplot(leads_df['Tags'], hue=leads_df.Converted)\n",
    "plt6.set_xticklabels(plt6.get_xticklabels(),rotation=90)\n",
    "plt.show()"
   ]
  },
  {
   "cell_type": "markdown",
   "id": "21b8ba1c",
   "metadata": {},
   "source": [
    "There are still a few more of the data points can be merged under Other_Tags column which are showing low frequency to improve the visualization spread."
   ]
  },
  {
   "cell_type": "code",
   "execution_count": 41,
   "id": "97a1d786",
   "metadata": {},
   "outputs": [],
   "source": [
    "# Replace 'tags' column low frequency data with term 'Other_Tags'\n",
    "leads_df['Tags'] = leads_df['Tags'].replace(['switched off',\n",
    "                                      'Already a student',\n",
    "                                      'Not doing further education',\n",
    "                                      'invalid number',\n",
    "                                      'wrong number given',\n",
    "                                      'Interested  in full time MBA'] , 'Other_Tags')"
   ]
  },
  {
   "cell_type": "code",
   "execution_count": 42,
   "id": "89f6e499",
   "metadata": {},
   "outputs": [
    {
     "data": {
      "image/png": "[encoded data removed]",
      "text/plain": [
       "<Figure size 864x360 with 1 Axes>"
      ]
     },
     "metadata": {
      "needs_background": "light"
     },
     "output_type": "display_data"
    }
   ],
   "source": [
    "# Visualising the spread of data in 'tags' column after data merging\n",
    "plt.figure(figsize=(12,5))\n",
    "plt6=sns.countplot(leads_df['Tags'], hue=leads_df.Converted)\n",
    "plt6.set_xticklabels(plt6.get_xticklabels(),rotation=90)\n",
    "plt.show()"
   ]
  },
  {
   "cell_type": "markdown",
   "id": "f7e0c4f0",
   "metadata": {},
   "source": [
    "Leads tagged 'Will revert after reading mail' have highest chances of being converted followed by 'Lost To EINS', 'Closed By Horizon and 'Busy' and efforts should be made to generate more leads from these tags.\n",
    "\n",
    "'Ringing' and 'Not Specified' tagged leads are more in number and hence efforts should be made to maximize conversion from these tags."
   ]
  },
  {
   "cell_type": "markdown",
   "id": "666fbf87",
   "metadata": {},
   "source": [
    "#### 7. Analysing Last Activity column"
   ]
  },
  {
   "cell_type": "code",
   "execution_count": 43,
   "id": "27d05d4d",
   "metadata": {},
   "outputs": [
    {
     "data": {
      "text/plain": [
       "Email Opened                    3437\n",
       "SMS Sent                        2745\n",
       "Olark Chat Conversation          973\n",
       "Page Visited on Website          640\n",
       "Converted to Lead                428\n",
       "Email Bounced                    326\n",
       "Email Link Clicked               267\n",
       "Form Submitted on Website        116\n",
       "NaN                              103\n",
       "Unreachable                       93\n",
       "Unsubscribed                      61\n",
       "Had a Phone Conversation          30\n",
       "Approached upfront                 9\n",
       "View in browser link Clicked       6\n",
       "Email Received                     2\n",
       "Email Marked Spam                  2\n",
       "Visited Booth in Tradeshow         1\n",
       "Resubscribed to emails             1\n",
       "Name: Last Activity, dtype: int64"
      ]
     },
     "execution_count": 43,
     "metadata": {},
     "output_type": "execute_result"
    }
   ],
   "source": [
    "# Checking value counts of 'Last Activity' column\n",
    "leads_df['Last Activity'].value_counts(dropna = False)"
   ]
  },
  {
   "cell_type": "markdown",
   "id": "ffe813f0",
   "metadata": {},
   "source": [
    "There are lots of the data points with very low frequency which we can merge together with term 'Other_Tags' along with the missing values as well as they are low in number."
   ]
  },
  {
   "cell_type": "code",
   "execution_count": 44,
   "id": "5e9994f8",
   "metadata": {},
   "outputs": [],
   "source": [
    "leads_df['Last Activity'] = leads_df['Last Activity'].replace(['Unreachable',\n",
    "                                      'Unsubscribed',\n",
    "                                      'Had a Phone Conversation',\n",
    "                                      'Approached upfront',\n",
    "                                      'View in browser link Clicked',\n",
    "                                      'Email Received', 'Email Marked Spam', 'Visited Booth in Tradeshow', \n",
    "                                      'Resubscribed to emails'] , 'Other_Tags')\n",
    "leads_df['Last Activity'] = leads_df['Last Activity'].replace(np.nan, 'Other_Tags')"
   ]
  },
  {
   "cell_type": "code",
   "execution_count": 45,
   "id": "89846fa8",
   "metadata": {},
   "outputs": [
    {
     "data": {
      "image/png": "[encoded data removed]",
      "text/plain": [
       "<Figure size 864x360 with 1 Axes>"
      ]
     },
     "metadata": {
      "needs_background": "light"
     },
     "output_type": "display_data"
    }
   ],
   "source": [
    "# Visualising data spread in 'Last Activity' column after data imputation\n",
    "plt.figure(figsize=(12,5))\n",
    "plt8=sns.countplot(leads_df['Last Activity'], hue=leads_df.Converted)\n",
    "plt8.set_xticklabels(plt8.get_xticklabels(),rotation=90)\n",
    "plt.show()"
   ]
  },
  {
   "cell_type": "markdown",
   "id": "e824f277",
   "metadata": {},
   "source": [
    "From above we can see that for leads having last activity as 'SMS Sent' have the most conversion rate.\n",
    "\n",
    "'Email Opened' brings maximum no.of leads and has second most conversion as well."
   ]
  },
  {
   "cell_type": "markdown",
   "id": "266e49a7",
   "metadata": {},
   "source": [
    "#### 8. Analysing Lead Source column"
   ]
  },
  {
   "cell_type": "code",
   "execution_count": 46,
   "id": "5220a343",
   "metadata": {},
   "outputs": [
    {
     "data": {
      "text/plain": [
       "Google               2868\n",
       "Direct Traffic       2543\n",
       "Olark Chat           1755\n",
       "Organic Search       1154\n",
       "Reference             534\n",
       "Welingak Website      142\n",
       "Referral Sites        125\n",
       "Facebook               55\n",
       "NaN                    36\n",
       "bing                    6\n",
       "google                  5\n",
       "Click2call              4\n",
       "Press_Release           2\n",
       "Social Media            2\n",
       "Live Chat               2\n",
       "youtubechannel          1\n",
       "testone                 1\n",
       "Pay per Click Ads       1\n",
       "welearnblog_Home        1\n",
       "WeLearn                 1\n",
       "blog                    1\n",
       "NC_EDM                  1\n",
       "Name: Lead Source, dtype: int64"
      ]
     },
     "execution_count": 46,
     "metadata": {},
     "output_type": "execute_result"
    }
   ],
   "source": [
    "# Checking all value counts of 'Lead Source' column\n",
    "leads_df['Lead Source'].value_counts(dropna = False)"
   ]
  },
  {
   "cell_type": "markdown",
   "id": "2c86fd6c",
   "metadata": {},
   "source": [
    "We see a lot of the data points with very low frequency which we can merge together with one term 'Others' along with the missing values as well as they are low in number.\n",
    "\n",
    "Datapoints like 'google' and 'Google' which are same and 'Facebook' and 'Social Media' which are similar are merged together."
   ]
  },
  {
   "cell_type": "code",
   "execution_count": 47,
   "id": "8c04ccde",
   "metadata": {},
   "outputs": [],
   "source": [
    "leads_df['Lead Source'] = leads_df['Lead Source'].replace(['bing',\n",
    "                                    'Click2call',\n",
    "                                    'Press_Release',\n",
    "                                    'Live Chat',\n",
    "                                    'youtubechannel',\n",
    "                                    'testone', \n",
    "                                    'Pay per Click Ads',\n",
    "                                    'welearnblog_Home',\n",
    "                                    'WeLearn',\n",
    "                                    'blog',\n",
    "                                    'NC_EDM'] , 'Others')\n",
    "leads_df['Lead Source'] = leads_df['Lead Source'].replace(['google'], 'Google')\n",
    "leads_df['Lead Source'] = leads_df['Lead Source'].replace(['Facebook'], 'Social Media')\n",
    "leads_df['Lead Source'] = leads_df['Lead Source'].replace(np.nan, 'Others')"
   ]
  },
  {
   "cell_type": "code",
   "execution_count": 48,
   "id": "51e08105",
   "metadata": {},
   "outputs": [
    {
     "data": {
      "image/png": "[encoded data removed]",
      "text/plain": [
       "<Figure size 864x360 with 1 Axes>"
      ]
     },
     "metadata": {
      "needs_background": "light"
     },
     "output_type": "display_data"
    }
   ],
   "source": [
    "# Checking data spread in 'Lead Source' column after data imputation\n",
    "plt.figure(figsize=(12,5))\n",
    "plt7=sns.countplot(leads_df['Lead Source'], hue=leads_df.Converted)\n",
    "plt7.set_xticklabels(plt7.get_xticklabels(),rotation=90)\n",
    "plt.show()"
   ]
  },
  {
   "cell_type": "markdown",
   "id": "14b02491",
   "metadata": {},
   "source": [
    "'Google' and 'Direct Traffic' generate number amount of leads and lead conversions while some like 'Welingak Website', 'Reference' and 'Others' are having maximum conversion of leads. This is a very significant column hence we shall retain it.\n",
    "\n",
    "To improve overall lead conversion rate, focus should be on improving lead conversion of 'direct traffic' and 'google leads' and efforts should be put to generate more leads from 'reference' and 'welingak website' as they are conversion rate is very strong."
   ]
  },
  {
   "cell_type": "markdown",
   "id": "a20d21b0",
   "metadata": {},
   "source": [
    "#### 9. Analysing 'Lead Origin' column"
   ]
  },
  {
   "cell_type": "code",
   "execution_count": 49,
   "id": "bbf31263",
   "metadata": {},
   "outputs": [
    {
     "data": {
      "text/plain": [
       "Landing Page Submission    4886\n",
       "API                        3580\n",
       "Lead Add Form               718\n",
       "Lead Import                  55\n",
       "Quick Add Form                1\n",
       "Name: Lead Origin, dtype: int64"
      ]
     },
     "execution_count": 49,
     "metadata": {},
     "output_type": "execute_result"
    }
   ],
   "source": [
    "# Checking value counts of 'Lead Origin' column\n",
    "leads_df['Lead Origin'].value_counts(dropna = False)"
   ]
  },
  {
   "cell_type": "code",
   "execution_count": 50,
   "id": "53885a00",
   "metadata": {},
   "outputs": [
    {
     "data": {
      "image/png": "[encoded data removed]",
      "text/plain": [
       "<Figure size 864x360 with 1 Axes>"
      ]
     },
     "metadata": {
      "needs_background": "light"
     },
     "output_type": "display_data"
    }
   ],
   "source": [
    "# Visualising data spread in 'Lead Origin' column\n",
    "plt.figure(figsize=(12,5))\n",
    "plt9=sns.countplot(leads_df['Lead Origin'], hue=leads_df.Converted)\n",
    "plt9.set_xticklabels(plt9.get_xticklabels(),rotation=90)\n",
    "plt.show()"
   ]
  },
  {
   "cell_type": "markdown",
   "id": "70cdb7ed",
   "metadata": {},
   "source": [
    "- This is very significant column as we can see that 'Lead Add Form' is a very good origin of leads due to its very strong conversion rate.\n",
    "- Lead Import and Quick Add Form get very few leads.\n",
    "- 'Landing Page Submissions' and 'API' bring a higher amount of leads and see more lead conversion as well.\n",
    "- To improve overall lead conversion rate, we have to improve lead converion of API and Landing Page Submission origin and generate more leads from Lead Add Form."
   ]
  },
  {
   "cell_type": "markdown",
   "id": "93926524",
   "metadata": {},
   "source": [
    "#### 10.  Analysing 'Do Not Email' column"
   ]
  },
  {
   "cell_type": "code",
   "execution_count": 51,
   "id": "a05bfd02",
   "metadata": {},
   "outputs": [
    {
     "data": {
      "text/plain": [
       "No     8506\n",
       "Yes     734\n",
       "Name: Do Not Email, dtype: int64"
      ]
     },
     "execution_count": 51,
     "metadata": {},
     "output_type": "execute_result"
    }
   ],
   "source": [
    "# Checking value counts of 'Do Not Email' column\n",
    "leads_df['Do Not Email'].value_counts(dropna = False)"
   ]
  },
  {
   "cell_type": "code",
   "execution_count": 52,
   "id": "41cb51b8",
   "metadata": {},
   "outputs": [
    {
     "data": {
      "image/png": "[encoded data removed]",
      "text/plain": [
       "<Figure size 864x360 with 1 Axes>"
      ]
     },
     "metadata": {
      "needs_background": "light"
     },
     "output_type": "display_data"
    }
   ],
   "source": [
    "# Visualising the spread of data in 'Do Not Email' column\n",
    "plt.figure(figsize=(12,5))\n",
    "plt10=sns.countplot(leads_df['Do Not Email'], hue=leads_df.Converted)\n",
    "plt10.set_xticklabels(plt10.get_xticklabels(),rotation=90)\n",
    "plt.show()"
   ]
  },
  {
   "cell_type": "markdown",
   "id": "b98481dc",
   "metadata": {},
   "source": [
    "#### 11. Analysing 'Do Not Call' column"
   ]
  },
  {
   "cell_type": "code",
   "execution_count": 53,
   "id": "640a5468",
   "metadata": {},
   "outputs": [
    {
     "data": {
      "text/plain": [
       "No     9238\n",
       "Yes       2\n",
       "Name: Do Not Call, dtype: int64"
      ]
     },
     "execution_count": 53,
     "metadata": {},
     "output_type": "execute_result"
    }
   ],
   "source": [
    "# Checking value counts of 'Do Not Call' column\n",
    "leads_df['Do Not Call'].value_counts(dropna = False)"
   ]
  },
  {
   "cell_type": "code",
   "execution_count": 54,
   "id": "c3a874c3",
   "metadata": {},
   "outputs": [
    {
     "data": {
      "image/png": "[encoded data removed]",
      "text/plain": [
       "<Figure size 864x360 with 1 Axes>"
      ]
     },
     "metadata": {
      "needs_background": "light"
     },
     "output_type": "display_data"
    }
   ],
   "source": [
    "# Visualising data spread in 'Do Not Call' column\n",
    "plt.figure(figsize=(12,5))\n",
    "plt11=sns.countplot(leads_df['Do Not Call'], hue=leads_df.Converted)\n",
    "plt11.set_xticklabels(plt11.get_xticklabels(),rotation=90)\n",
    "plt.show()"
   ]
  },
  {
   "cell_type": "markdown",
   "id": "4794c987",
   "metadata": {},
   "source": [
    "We will retain 'Do Not Mail' column due to its better spread of data but 'Do Not Call' column will be dropped at the end of this analysis due to highly skewed data spread."
   ]
  },
  {
   "cell_type": "markdown",
   "id": "e1eda330",
   "metadata": {},
   "source": [
    "#### 12. Analysing 'Last Notable Activity' column"
   ]
  },
  {
   "cell_type": "code",
   "execution_count": 55,
   "id": "de2b47bb",
   "metadata": {},
   "outputs": [
    {
     "data": {
      "text/plain": [
       "Modified                        3407\n",
       "Email Opened                    2827\n",
       "SMS Sent                        2172\n",
       "Page Visited on Website          318\n",
       "Olark Chat Conversation          183\n",
       "Email Link Clicked               173\n",
       "Email Bounced                     60\n",
       "Unsubscribed                      47\n",
       "Unreachable                       32\n",
       "Had a Phone Conversation          14\n",
       "Email Marked Spam                  2\n",
       "Approached upfront                 1\n",
       "Resubscribed to emails             1\n",
       "View in browser link Clicked       1\n",
       "Form Submitted on Website          1\n",
       "Email Received                     1\n",
       "Name: Last Notable Activity, dtype: int64"
      ]
     },
     "execution_count": 55,
     "metadata": {},
     "output_type": "execute_result"
    }
   ],
   "source": [
    "# Checking value counts of 'Last Notable Activity' column \n",
    "leads_df['Last Notable Activity'].value_counts(dropna = False)"
   ]
  },
  {
   "cell_type": "markdown",
   "id": "fd9d5f76",
   "metadata": {},
   "source": [
    "We see a lot of the data points with very low frequency which we can merge together under one single term 'Others' ."
   ]
  },
  {
   "cell_type": "code",
   "execution_count": 56,
   "id": "6b28b7c7",
   "metadata": {},
   "outputs": [],
   "source": [
    "leads_df['Last Notable Activity'] = leads_df['Last Notable Activity'].replace(['Email Bounced',\n",
    "                                      'Unsubscribed',\n",
    "                                      'Unreachable',\n",
    "                                      'Had a Phone Conversation',\n",
    "                                      'Email Marked Spam',\n",
    "                                      'Approached upfront',\n",
    "                                      'Resubscribed to emails',\n",
    "                                      'View in browser link Clicked', \n",
    "                                      'View in browser link Clicked',\n",
    "                                      'Form Submitted on Website', 'Email Received'] , 'Others')"
   ]
  },
  {
   "cell_type": "code",
   "execution_count": 57,
   "id": "3961eede",
   "metadata": {},
   "outputs": [
    {
     "data": {
      "image/png": "[encoded data removed]",
      "text/plain": [
       "<Figure size 864x360 with 1 Axes>"
      ]
     },
     "metadata": {
      "needs_background": "light"
     },
     "output_type": "display_data"
    }
   ],
   "source": [
    "# Checking data spread in 'Last Notable Activity' column after data imputation\n",
    "plt.figure(figsize=(12,5))\n",
    "plt13=sns.countplot(leads_df['Last Notable Activity'], hue=leads_df.Converted)\n",
    "plt13.set_xticklabels(plt13.get_xticklabels(),rotation=90)\n",
    "plt.show()"
   ]
  },
  {
   "cell_type": "markdown",
   "id": "a9b0857c",
   "metadata": {},
   "source": [
    "This is significant column which should be retained as we can clearly see that for leads having last notable activity as 'SMS Sent' have a very high conversion rate."
   ]
  },
  {
   "cell_type": "markdown",
   "id": "4cf89b5c",
   "metadata": {},
   "source": [
    "#### 13. Analysing 'A free copy of Mastering The Interview' Column"
   ]
  },
  {
   "cell_type": "code",
   "execution_count": 58,
   "id": "4a3846cb",
   "metadata": {
    "scrolled": true
   },
   "outputs": [
    {
     "data": {
      "text/plain": [
       "No     6352\n",
       "Yes    2888\n",
       "Name: A free copy of Mastering The Interview, dtype: int64"
      ]
     },
     "execution_count": 58,
     "metadata": {},
     "output_type": "execute_result"
    }
   ],
   "source": [
    "# Checking value counts of 'A free copy of Mastering The Interview' column\n",
    "leads_df['A free copy of Mastering The Interview'].value_counts(dropna = False)"
   ]
  },
  {
   "cell_type": "code",
   "execution_count": 59,
   "id": "1cf45939",
   "metadata": {
    "scrolled": true
   },
   "outputs": [
    {
     "data": {
      "image/png": "[encoded data removed]",
      "text/plain": [
       "<Figure size 864x360 with 1 Axes>"
      ]
     },
     "metadata": {
      "needs_background": "light"
     },
     "output_type": "display_data"
    }
   ],
   "source": [
    "# Visualising data spread in 'A free copy of Mastering The Interview' column\n",
    "plt.figure(figsize=(12,5))\n",
    "plt12=sns.countplot(leads_df['A free copy of Mastering The Interview'], hue=leads_df.Converted)\n",
    "plt12.set_xticklabels(plt12.get_xticklabels(),rotation=90)\n",
    "plt.show()"
   ]
  },
  {
   "cell_type": "markdown",
   "id": "fa08c357",
   "metadata": {},
   "source": [
    "Data is not highly skewed in this column."
   ]
  },
  {
   "cell_type": "markdown",
   "id": "b8e8b8fb",
   "metadata": {},
   "source": [
    "#### 14. Analysing The Remaining Categorical Columns"
   ]
  },
  {
   "cell_type": "code",
   "execution_count": 60,
   "id": "b35ee09c",
   "metadata": {},
   "outputs": [
    {
     "data": {
      "text/plain": [
       "No     9226\n",
       "Yes      14\n",
       "Name: Search, dtype: int64"
      ]
     },
     "execution_count": 60,
     "metadata": {},
     "output_type": "execute_result"
    }
   ],
   "source": [
    "# Checking value counts of 'Search' column\n",
    "leads_df['Search'].value_counts(dropna = False)"
   ]
  },
  {
   "cell_type": "code",
   "execution_count": 61,
   "id": "c0832d64",
   "metadata": {},
   "outputs": [
    {
     "data": {
      "text/plain": [
       "No    9240\n",
       "Name: Magazine, dtype: int64"
      ]
     },
     "execution_count": 61,
     "metadata": {},
     "output_type": "execute_result"
    }
   ],
   "source": [
    "# Checking value counts of 'Magazine' column\n",
    "leads_df['Magazine'].value_counts(dropna = False)"
   ]
  },
  {
   "cell_type": "code",
   "execution_count": 62,
   "id": "3c6d533d",
   "metadata": {},
   "outputs": [
    {
     "data": {
      "text/plain": [
       "No     9238\n",
       "Yes       2\n",
       "Name: Newspaper Article, dtype: int64"
      ]
     },
     "execution_count": 62,
     "metadata": {},
     "output_type": "execute_result"
    }
   ],
   "source": [
    "# Checking value counts of 'Newspaper Article' column\n",
    "leads_df['Newspaper Article'].value_counts(dropna = False)"
   ]
  },
  {
   "cell_type": "code",
   "execution_count": 63,
   "id": "685e38d6",
   "metadata": {},
   "outputs": [
    {
     "data": {
      "text/plain": [
       "No     9239\n",
       "Yes       1\n",
       "Name: X Education Forums, dtype: int64"
      ]
     },
     "execution_count": 63,
     "metadata": {},
     "output_type": "execute_result"
    }
   ],
   "source": [
    "# Checking value counts of 'X Education Forums' column\n",
    "leads_df['X Education Forums'].value_counts(dropna = False)"
   ]
  },
  {
   "cell_type": "code",
   "execution_count": 64,
   "id": "1e911605",
   "metadata": {},
   "outputs": [
    {
     "data": {
      "text/plain": [
       "No     9239\n",
       "Yes       1\n",
       "Name: Newspaper, dtype: int64"
      ]
     },
     "execution_count": 64,
     "metadata": {},
     "output_type": "execute_result"
    }
   ],
   "source": [
    "# Checking value counts of 'Newspaper' column\n",
    "leads_df['Newspaper'].value_counts(dropna = False)"
   ]
  },
  {
   "cell_type": "code",
   "execution_count": 65,
   "id": "000e24b7",
   "metadata": {},
   "outputs": [
    {
     "data": {
      "text/plain": [
       "No     9236\n",
       "Yes       4\n",
       "Name: Digital Advertisement, dtype: int64"
      ]
     },
     "execution_count": 65,
     "metadata": {},
     "output_type": "execute_result"
    }
   ],
   "source": [
    "#checking all value counts of 'Digital Advertisement' column\n",
    "\n",
    "leads_df['Digital Advertisement'].value_counts(dropna = False)"
   ]
  },
  {
   "cell_type": "code",
   "execution_count": 66,
   "id": "8d11ce73",
   "metadata": {},
   "outputs": [
    {
     "data": {
      "text/plain": [
       "No    9240\n",
       "Name: Receive More Updates About Our Courses, dtype: int64"
      ]
     },
     "execution_count": 66,
     "metadata": {},
     "output_type": "execute_result"
    }
   ],
   "source": [
    "# Checking value counts of 'Receive More Updates About Our Courses' column\n",
    "leads_df['Receive More Updates About Our Courses'].value_counts(dropna = False)"
   ]
  },
  {
   "cell_type": "code",
   "execution_count": 67,
   "id": "6918bd6d",
   "metadata": {},
   "outputs": [
    {
     "data": {
      "text/plain": [
       "No    9240\n",
       "Name: Update me on Supply Chain Content, dtype: int64"
      ]
     },
     "execution_count": 67,
     "metadata": {},
     "output_type": "execute_result"
    }
   ],
   "source": [
    "# Checking value counts of 'Update me on Supply Chain Content' column\n",
    "leads_df['Update me on Supply Chain Content'].value_counts(dropna = False)"
   ]
  },
  {
   "cell_type": "code",
   "execution_count": 68,
   "id": "f14c53a6",
   "metadata": {},
   "outputs": [
    {
     "data": {
      "text/plain": [
       "No    9240\n",
       "Name: Get updates on DM Content, dtype: int64"
      ]
     },
     "execution_count": 68,
     "metadata": {},
     "output_type": "execute_result"
    }
   ],
   "source": [
    "# Checking value counts of 'Get updates on DM Content' column\n",
    "leads_df['Get updates on DM Content'].value_counts(dropna = False)"
   ]
  },
  {
   "cell_type": "code",
   "execution_count": 69,
   "id": "479e1bcc",
   "metadata": {},
   "outputs": [
    {
     "data": {
      "text/plain": [
       "No    9240\n",
       "Name: I agree to pay the amount through cheque, dtype: int64"
      ]
     },
     "execution_count": 69,
     "metadata": {},
     "output_type": "execute_result"
    }
   ],
   "source": [
    "# Checking value counts of 'I agree to pay the amount through cheque' column\n",
    "leads_df['I agree to pay the amount through cheque'].value_counts(dropna = False)"
   ]
  },
  {
   "cell_type": "markdown",
   "id": "50aedb45",
   "metadata": {},
   "source": [
    "As we can see that above columns have highly skewed data and hence it will be better to drop these columns from our analysis."
   ]
  },
  {
   "cell_type": "code",
   "execution_count": 70,
   "id": "ff5a30c8",
   "metadata": {
    "scrolled": false
   },
   "outputs": [
    {
     "data": {
      "text/plain": [
       "Lead Origin                                      0.00\n",
       "Lead Source                                      0.00\n",
       "Do Not Email                                     0.00\n",
       "Do Not Call                                      0.00\n",
       "Converted                                        0.00\n",
       "TotalVisits                                      1.48\n",
       "Total Time Spent on Website                      0.00\n",
       "Page Views Per Visit                             1.48\n",
       "Last Activity                                    0.00\n",
       "Country                                          0.00\n",
       "Specialization                                   0.00\n",
       "What is your current occupation                  0.00\n",
       "What matters most to you in choosing a course    0.00\n",
       "Search                                           0.00\n",
       "Magazine                                         0.00\n",
       "Newspaper Article                                0.00\n",
       "X Education Forums                               0.00\n",
       "Newspaper                                        0.00\n",
       "Digital Advertisement                            0.00\n",
       "Through Recommendations                          0.00\n",
       "Receive More Updates About Our Courses           0.00\n",
       "Tags                                             0.00\n",
       "Update me on Supply Chain Content                0.00\n",
       "Get updates on DM Content                        0.00\n",
       "City                                             0.00\n",
       "I agree to pay the amount through cheque         0.00\n",
       "A free copy of Mastering The Interview           0.00\n",
       "Last Notable Activity                            0.00\n",
       "dtype: float64"
      ]
     },
     "execution_count": 70,
     "metadata": {},
     "output_type": "execute_result"
    }
   ],
   "source": [
    "# Checking percentage of missing values in dataset after data imputation\n",
    "round(100*(leads_df.isnull().sum())/len(leads_df.index), 2)"
   ]
  },
  {
   "cell_type": "markdown",
   "id": "a483e61c",
   "metadata": {},
   "source": [
    "As we can see that only 2 columns have about 1.5% missing values each which are highly insignificant and hence can be dropped altogether."
   ]
  },
  {
   "cell_type": "code",
   "execution_count": 71,
   "id": "a88768aa",
   "metadata": {},
   "outputs": [],
   "source": [
    "leads_df = leads_df.dropna()"
   ]
  },
  {
   "cell_type": "code",
   "execution_count": 72,
   "id": "81ca85f5",
   "metadata": {},
   "outputs": [
    {
     "data": {
      "text/plain": [
       "Lead Origin                                      0.0\n",
       "Lead Source                                      0.0\n",
       "Do Not Email                                     0.0\n",
       "Do Not Call                                      0.0\n",
       "Converted                                        0.0\n",
       "TotalVisits                                      0.0\n",
       "Total Time Spent on Website                      0.0\n",
       "Page Views Per Visit                             0.0\n",
       "Last Activity                                    0.0\n",
       "Country                                          0.0\n",
       "Specialization                                   0.0\n",
       "What is your current occupation                  0.0\n",
       "What matters most to you in choosing a course    0.0\n",
       "Search                                           0.0\n",
       "Magazine                                         0.0\n",
       "Newspaper Article                                0.0\n",
       "X Education Forums                               0.0\n",
       "Newspaper                                        0.0\n",
       "Digital Advertisement                            0.0\n",
       "Through Recommendations                          0.0\n",
       "Receive More Updates About Our Courses           0.0\n",
       "Tags                                             0.0\n",
       "Update me on Supply Chain Content                0.0\n",
       "Get updates on DM Content                        0.0\n",
       "City                                             0.0\n",
       "I agree to pay the amount through cheque         0.0\n",
       "A free copy of Mastering The Interview           0.0\n",
       "Last Notable Activity                            0.0\n",
       "dtype: float64"
      ]
     },
     "execution_count": 72,
     "metadata": {},
     "output_type": "execute_result"
    }
   ],
   "source": [
    "# Re-Checking the percentage of missing values\n",
    "round(100*(leads_df.isnull().sum())/len(leads_df.index), 2)"
   ]
  },
  {
   "cell_type": "markdown",
   "id": "476cdade",
   "metadata": {},
   "source": [
    "As seen from above our dataset has no missing values now."
   ]
  },
  {
   "cell_type": "code",
   "execution_count": 73,
   "id": "81c3e911",
   "metadata": {},
   "outputs": [],
   "source": [
    "# Dropping the highly skewed data columns\n",
    "cols_dropped = ['Country', \n",
    "                'What matters most to you in choosing a course', \n",
    "                'Search', 'Magazine', \n",
    "                'Newspaper Article', \n",
    "                'X Education Forums', \n",
    "                'Newspaper', \n",
    "                'Digital Advertisement', \n",
    "                'Through Recommendations',\n",
    "                'Receive More Updates About Our Courses', \n",
    "                'Update me on Supply Chain Content', \n",
    "                'Get updates on DM Content',\n",
    "                'I agree to pay the amount through cheque', \n",
    "                'Do Not Call']"
   ]
  },
  {
   "cell_type": "code",
   "execution_count": 74,
   "id": "c61fbf01",
   "metadata": {},
   "outputs": [],
   "source": [
    "leads_df = leads_df.drop(cols_dropped, 1)"
   ]
  },
  {
   "cell_type": "code",
   "execution_count": 75,
   "id": "b90a6082",
   "metadata": {},
   "outputs": [
    {
     "name": "stdout",
     "output_type": "stream",
     "text": [
      "<class 'pandas.core.frame.DataFrame'>\n",
      "Int64Index: 9103 entries, 0 to 9239\n",
      "Data columns (total 14 columns):\n",
      " #   Column                                  Non-Null Count  Dtype  \n",
      "---  ------                                  --------------  -----  \n",
      " 0   Lead Origin                             9103 non-null   object \n",
      " 1   Lead Source                             9103 non-null   object \n",
      " 2   Do Not Email                            9103 non-null   object \n",
      " 3   Converted                               9103 non-null   int64  \n",
      " 4   TotalVisits                             9103 non-null   float64\n",
      " 5   Total Time Spent on Website             9103 non-null   int64  \n",
      " 6   Page Views Per Visit                    9103 non-null   float64\n",
      " 7   Last Activity                           9103 non-null   object \n",
      " 8   Specialization                          9103 non-null   object \n",
      " 9   What is your current occupation         9103 non-null   object \n",
      " 10  Tags                                    9103 non-null   object \n",
      " 11  City                                    9103 non-null   object \n",
      " 12  A free copy of Mastering The Interview  9103 non-null   object \n",
      " 13  Last Notable Activity                   9103 non-null   object \n",
      "dtypes: float64(2), int64(2), object(10)\n",
      "memory usage: 1.0+ MB\n"
     ]
    }
   ],
   "source": [
    "leads_df.info()"
   ]
  },
  {
   "cell_type": "markdown",
   "id": "67f7bdc2",
   "metadata": {},
   "source": [
    "### Numerical Variables Analysis"
   ]
  },
  {
   "cell_type": "markdown",
   "id": "50f45575",
   "metadata": {},
   "source": [
    "#### 1. Analysing 'Converted' column"
   ]
  },
  {
   "cell_type": "code",
   "execution_count": 76,
   "id": "d1c356e2",
   "metadata": {},
   "outputs": [],
   "source": [
    "# Checking the leads who were converted.\n",
    "converted = (sum(leads_df['Converted'])/len(leads_df['Converted'].index))*100"
   ]
  },
  {
   "cell_type": "code",
   "execution_count": 77,
   "id": "db0f9082",
   "metadata": {},
   "outputs": [
    {
     "data": {
      "text/plain": [
       "38.02043282434362"
      ]
     },
     "execution_count": 77,
     "metadata": {},
     "output_type": "execute_result"
    }
   ],
   "source": [
    "converted"
   ]
  },
  {
   "cell_type": "markdown",
   "id": "1dc6021c",
   "metadata": {},
   "source": [
    "##### Analysing the correlation of numerical variable using heatmap."
   ]
  },
  {
   "cell_type": "code",
   "execution_count": 78,
   "id": "242ee22f",
   "metadata": {},
   "outputs": [
    {
     "data": {
      "image/png": "[encoded data removed]",
      "text/plain": [
       "<Figure size 360x360 with 2 Axes>"
      ]
     },
     "metadata": {
      "needs_background": "light"
     },
     "output_type": "display_data"
    }
   ],
   "source": [
    "# Visualizing correlation of numerical variable using heatmap.\n",
    "plt.figure(figsize = (5,5))\n",
    "sns.heatmap(leads_df.corr(), cmap = 'YlGnBu', annot = True)\n",
    "plt.show()"
   ]
  },
  {
   "cell_type": "markdown",
   "id": "fbcb3cf8",
   "metadata": {},
   "source": [
    "From above correlation we can see that 'Total Visits' and 'Page Views Per Visit' have the most correlation with each other. We will keep this in mind while building our model."
   ]
  },
  {
   "cell_type": "markdown",
   "id": "70885999",
   "metadata": {},
   "source": [
    "#### 2. Analysing 'Total Visits' columns."
   ]
  },
  {
   "cell_type": "code",
   "execution_count": 79,
   "id": "7da10bfb",
   "metadata": {},
   "outputs": [
    {
     "data": {
      "image/png": "[encoded data removed]",
      "text/plain": [
       "<Figure size 360x360 with 1 Axes>"
      ]
     },
     "metadata": {
      "needs_background": "light"
     },
     "output_type": "display_data"
    }
   ],
   "source": [
    "# Visualising spread of 'total visits' column\n",
    "plt.figure(figsize=(5,5))\n",
    "sns.boxplot(y=leads_df['TotalVisits'])\n",
    "plt.show()"
   ]
  },
  {
   "cell_type": "markdown",
   "id": "139a789c",
   "metadata": {},
   "source": [
    "#### 3. Analysing 'Page Views Per Visit' columns."
   ]
  },
  {
   "cell_type": "code",
   "execution_count": 80,
   "id": "8851481f",
   "metadata": {},
   "outputs": [
    {
     "data": {
      "image/png": "[encoded data removed]",
      "text/plain": [
       "<Figure size 360x360 with 1 Axes>"
      ]
     },
     "metadata": {
      "needs_background": "light"
     },
     "output_type": "display_data"
    }
   ],
   "source": [
    "# Visualising spread of 'Page Views Per Visit' column\n",
    "plt.figure(figsize=(5,5))\n",
    "sns.boxplot(y=leads_df['Page Views Per Visit'])\n",
    "plt.show()"
   ]
  },
  {
   "cell_type": "markdown",
   "id": "ad23f19c",
   "metadata": {},
   "source": [
    "#### 4. Analysing 'Total Time Spent on Website' columns."
   ]
  },
  {
   "cell_type": "code",
   "execution_count": 81,
   "id": "70a7617a",
   "metadata": {},
   "outputs": [
    {
     "data": {
      "image/png": "[encoded data removed]",
      "text/plain": [
       "<Figure size 360x360 with 1 Axes>"
      ]
     },
     "metadata": {
      "needs_background": "light"
     },
     "output_type": "display_data"
    }
   ],
   "source": [
    "# Visualising spread of 'Total Time Spent on Website' column\n",
    "plt.figure(figsize=(5,5))\n",
    "sns.boxplot(y=leads_df['Total Time Spent on Website'])\n",
    "plt.show()"
   ]
  },
  {
   "cell_type": "markdown",
   "id": "3e3f5838",
   "metadata": {},
   "source": [
    "- The boxplot of 'Total Time Spent on Website' has no outliers.\n",
    "- The boxplot of 'Page Views Per Visit' and 'Total Visits' have outliers."
   ]
  },
  {
   "cell_type": "code",
   "execution_count": 82,
   "id": "4b1c6998",
   "metadata": {},
   "outputs": [
    {
     "data": {
      "text/plain": [
       "count    9103.000000\n",
       "mean        2.362820\n",
       "std         2.161418\n",
       "min         0.000000\n",
       "5%          0.000000\n",
       "25%         1.000000\n",
       "50%         2.000000\n",
       "75%         3.000000\n",
       "90%         5.000000\n",
       "95%         6.000000\n",
       "99%         9.000000\n",
       "max        55.000000\n",
       "Name: Page Views Per Visit, dtype: float64"
      ]
     },
     "execution_count": 82,
     "metadata": {},
     "output_type": "execute_result"
    }
   ],
   "source": [
    "# Checking the percentiles of 'Page Views Per Visit' column\n",
    "leads_df['Page Views Per Visit'].describe(percentiles=[0.05,.25, .5, .75, .90, .95, .99])"
   ]
  },
  {
   "cell_type": "code",
   "execution_count": 83,
   "id": "8665f8b9",
   "metadata": {},
   "outputs": [
    {
     "data": {
      "text/plain": [
       "count    9103.000000\n",
       "mean        3.445238\n",
       "std         4.854853\n",
       "min         0.000000\n",
       "5%          0.000000\n",
       "25%         1.000000\n",
       "50%         3.000000\n",
       "75%         5.000000\n",
       "90%         7.000000\n",
       "95%        10.000000\n",
       "99%        17.000000\n",
       "max       251.000000\n",
       "Name: TotalVisits, dtype: float64"
      ]
     },
     "execution_count": 83,
     "metadata": {},
     "output_type": "execute_result"
    }
   ],
   "source": [
    "# checking the percentiles of 'TotalVisits' column\n",
    "leads_df['TotalVisits'].describe(percentiles=[0.05,.25, .5, .75, .90, .95, .99])"
   ]
  },
  {
   "cell_type": "markdown",
   "id": "d49ec64c",
   "metadata": {},
   "source": [
    "As we can see, the difference between 99th percentile and max value and min value and 25th percentile is very high for both the columns. So we will drop the top and bottom 1% of datapoints to treat these outliers."
   ]
  },
  {
   "cell_type": "code",
   "execution_count": 84,
   "id": "bff54335",
   "metadata": {
    "scrolled": true
   },
   "outputs": [],
   "source": [
    "# Dropping the top and bottom 1% datapoints to treat outliers\n",
    "Q_3 = leads_df.TotalVisits.quantile(0.99)\n",
    "leads_df = leads_df[(leads_df.TotalVisits <= Q_3)]\n",
    "Q_1 = leads_df.TotalVisits.quantile(0.01)\n",
    "leads_df = leads_df[(leads_df.TotalVisits >= Q_1)]"
   ]
  },
  {
   "cell_type": "code",
   "execution_count": 85,
   "id": "8a7f6c0e",
   "metadata": {},
   "outputs": [
    {
     "data": {
      "image/png": "[encoded data removed]",
      "text/plain": [
       "<Figure size 432x288 with 1 Axes>"
      ]
     },
     "metadata": {
      "needs_background": "light"
     },
     "output_type": "display_data"
    }
   ],
   "source": [
    "# Visualizing the spread of 'TotalVisits' column\n",
    "sns.boxplot(y=leads_df['TotalVisits'])\n",
    "plt.show()"
   ]
  },
  {
   "cell_type": "code",
   "execution_count": 86,
   "id": "8fc42c52",
   "metadata": {
    "scrolled": true
   },
   "outputs": [],
   "source": [
    "# Dropping the top and bottom 1% datapoints to treat outliers \n",
    "Q_3 = leads_df['Page Views Per Visit'].quantile(0.99)\n",
    "leads_df = leads_df[(leads_df['Page Views Per Visit'] <= Q_3)]\n",
    "Q_1 = leads_df['Page Views Per Visit'].quantile(0.01)\n",
    "leads_df = leads_df[(leads_df['Page Views Per Visit'] >= Q_1)]"
   ]
  },
  {
   "cell_type": "code",
   "execution_count": 87,
   "id": "baaa1fae",
   "metadata": {},
   "outputs": [
    {
     "data": {
      "image/png": "[encoded data removed]",
      "text/plain": [
       "<Figure size 432x288 with 1 Axes>"
      ]
     },
     "metadata": {
      "needs_background": "light"
     },
     "output_type": "display_data"
    }
   ],
   "source": [
    "# Visualizing the spread of 'Page Views Per Visit' column\n",
    "sns.boxplot(y=leads_df['Page Views Per Visit'])\n",
    "plt.show()"
   ]
  },
  {
   "cell_type": "code",
   "execution_count": 88,
   "id": "816b0b80",
   "metadata": {},
   "outputs": [
    {
     "data": {
      "image/png": "[encoded data removed]",
      "text/plain": [
       "<Figure size 360x360 with 1 Axes>"
      ]
     },
     "metadata": {
      "needs_background": "light"
     },
     "output_type": "display_data"
    }
   ],
   "source": [
    "# Visualising the spread of Converted vs Total Time Spent on Website\n",
    "plt.figure(figsize=(5,5))\n",
    "sns.boxplot(y=leads_df['Total Time Spent on Website'], x=leads_df['Converted'])\n",
    "plt.show()"
   ]
  },
  {
   "cell_type": "code",
   "execution_count": 89,
   "id": "9b6f138b",
   "metadata": {},
   "outputs": [
    {
     "data": {
      "image/png": "[encoded data removed]",
      "text/plain": [
       "<Figure size 360x360 with 1 Axes>"
      ]
     },
     "metadata": {
      "needs_background": "light"
     },
     "output_type": "display_data"
    }
   ],
   "source": [
    "# Visualising the spread of Converted vs Total Visits\n",
    "plt.figure(figsize=(5,5))\n",
    "sns.boxplot(y=leads_df['TotalVisits'], x=leads_df['Converted'])\n",
    "plt.show()"
   ]
  },
  {
   "cell_type": "code",
   "execution_count": 90,
   "id": "0e31f91a",
   "metadata": {},
   "outputs": [
    {
     "data": {
      "image/png": "[encoded data removed]",
      "text/plain": [
       "<Figure size 360x360 with 1 Axes>"
      ]
     },
     "metadata": {
      "needs_background": "light"
     },
     "output_type": "display_data"
    }
   ],
   "source": [
    "# Visualising the spread of Converted vs Page Views Per Visit\n",
    "plt.figure(figsize=(5,5))\n",
    "sns.boxplot(y=leads_df['Page Views Per Visit'], x=leads_df['Converted'])\n",
    "plt.show()"
   ]
  },
  {
   "cell_type": "markdown",
   "id": "4d1a2ae2",
   "metadata": {},
   "source": [
    "1. From the above graphs we can see that the median is high for the Total Time Spent on Website vs Converted column. Hence we conclude that leads which spend more time on website have higher chances of getting converted.\n",
    "\n",
    "2. There is no conclusive evidence for other as the medians are same."
   ]
  },
  {
   "cell_type": "markdown",
   "id": "b30db36b",
   "metadata": {},
   "source": [
    "## Step 4 : Creating Dummy Variables"
   ]
  },
  {
   "cell_type": "markdown",
   "id": "fe1fd5cf",
   "metadata": {},
   "source": [
    "#### 1. Identifying Columns Having Categorical Variable"
   ]
  },
  {
   "cell_type": "code",
   "execution_count": 91,
   "id": "3c81c119",
   "metadata": {},
   "outputs": [
    {
     "name": "stdout",
     "output_type": "stream",
     "text": [
      "<class 'pandas.core.frame.DataFrame'>\n",
      "Int64Index: 8953 entries, 0 to 9239\n",
      "Data columns (total 14 columns):\n",
      " #   Column                                  Non-Null Count  Dtype  \n",
      "---  ------                                  --------------  -----  \n",
      " 0   Lead Origin                             8953 non-null   object \n",
      " 1   Lead Source                             8953 non-null   object \n",
      " 2   Do Not Email                            8953 non-null   object \n",
      " 3   Converted                               8953 non-null   int64  \n",
      " 4   TotalVisits                             8953 non-null   float64\n",
      " 5   Total Time Spent on Website             8953 non-null   int64  \n",
      " 6   Page Views Per Visit                    8953 non-null   float64\n",
      " 7   Last Activity                           8953 non-null   object \n",
      " 8   Specialization                          8953 non-null   object \n",
      " 9   What is your current occupation         8953 non-null   object \n",
      " 10  Tags                                    8953 non-null   object \n",
      " 11  City                                    8953 non-null   object \n",
      " 12  A free copy of Mastering The Interview  8953 non-null   object \n",
      " 13  Last Notable Activity                   8953 non-null   object \n",
      "dtypes: float64(2), int64(2), object(10)\n",
      "memory usage: 1.0+ MB\n"
     ]
    }
   ],
   "source": [
    "leads_df.info()"
   ]
  },
  {
   "cell_type": "code",
   "execution_count": 92,
   "id": "278c27b1",
   "metadata": {},
   "outputs": [
    {
     "data": {
      "text/plain": [
       "Index(['Lead Origin', 'Lead Source', 'Do Not Email', 'Last Activity',\n",
       "       'Specialization', 'What is your current occupation', 'Tags', 'City',\n",
       "       'A free copy of Mastering The Interview', 'Last Notable Activity'],\n",
       "      dtype='object')"
      ]
     },
     "execution_count": 92,
     "metadata": {},
     "output_type": "execute_result"
    }
   ],
   "source": [
    "# Extract columns having \"object\" datatype\n",
    "cat_cols= leads_df.select_dtypes(include=['object']).columns\n",
    "cat_cols"
   ]
  },
  {
   "cell_type": "markdown",
   "id": "953a4ed2",
   "metadata": {},
   "source": [
    "#### 2. Mapping the binary response categorical columns with only 2 responses"
   ]
  },
  {
   "cell_type": "code",
   "execution_count": 93,
   "id": "ba4319fc",
   "metadata": {},
   "outputs": [],
   "source": [
    "# Variables list for map\n",
    "var_map = ['Do Not Email', 'A free copy of Mastering The Interview']"
   ]
  },
  {
   "cell_type": "code",
   "execution_count": 94,
   "id": "df633938",
   "metadata": {},
   "outputs": [],
   "source": [
    "# Defining mapping function\n",
    "def map_binary(x):\n",
    "    return x.map({'Yes':1, 'No':0})"
   ]
  },
  {
   "cell_type": "code",
   "execution_count": 95,
   "id": "4aaf1fda",
   "metadata": {},
   "outputs": [],
   "source": [
    "# Apply map function to variable list\n",
    "leads_df[var_map] = leads_df[var_map].apply(map_binary)"
   ]
  },
  {
   "cell_type": "code",
   "execution_count": 96,
   "id": "8fbfa21f",
   "metadata": {},
   "outputs": [
    {
     "data": {
      "text/html": [
       "<div>\n",
       "<style scoped>\n",
       "    .dataframe tbody tr th:only-of-type {\n",
       "        vertical-align: middle;\n",
       "    }\n",
       "\n",
       "    .dataframe tbody tr th {\n",
       "        vertical-align: top;\n",
       "    }\n",
       "\n",
       "    .dataframe thead th {\n",
       "        text-align: right;\n",
       "    }\n",
       "</style>\n",
       "<table border=\"1\" class=\"dataframe\">\n",
       "  <thead>\n",
       "    <tr style=\"text-align: right;\">\n",
       "      <th></th>\n",
       "      <th>Lead Origin</th>\n",
       "      <th>Lead Source</th>\n",
       "      <th>Do Not Email</th>\n",
       "      <th>Converted</th>\n",
       "      <th>TotalVisits</th>\n",
       "      <th>Total Time Spent on Website</th>\n",
       "      <th>Page Views Per Visit</th>\n",
       "      <th>Last Activity</th>\n",
       "      <th>Specialization</th>\n",
       "      <th>What is your current occupation</th>\n",
       "      <th>Tags</th>\n",
       "      <th>City</th>\n",
       "      <th>A free copy of Mastering The Interview</th>\n",
       "      <th>Last Notable Activity</th>\n",
       "    </tr>\n",
       "  </thead>\n",
       "  <tbody>\n",
       "    <tr>\n",
       "      <th>0</th>\n",
       "      <td>API</td>\n",
       "      <td>Olark Chat</td>\n",
       "      <td>0</td>\n",
       "      <td>0</td>\n",
       "      <td>0.0</td>\n",
       "      <td>0</td>\n",
       "      <td>0.0</td>\n",
       "      <td>Page Visited on Website</td>\n",
       "      <td>Not Specified</td>\n",
       "      <td>Unemployed</td>\n",
       "      <td>Interested in other courses</td>\n",
       "      <td>Mumbai</td>\n",
       "      <td>0</td>\n",
       "      <td>Modified</td>\n",
       "    </tr>\n",
       "    <tr>\n",
       "      <th>1</th>\n",
       "      <td>API</td>\n",
       "      <td>Organic Search</td>\n",
       "      <td>0</td>\n",
       "      <td>0</td>\n",
       "      <td>5.0</td>\n",
       "      <td>674</td>\n",
       "      <td>2.5</td>\n",
       "      <td>Email Opened</td>\n",
       "      <td>Not Specified</td>\n",
       "      <td>Unemployed</td>\n",
       "      <td>Ringing</td>\n",
       "      <td>Mumbai</td>\n",
       "      <td>0</td>\n",
       "      <td>Email Opened</td>\n",
       "    </tr>\n",
       "    <tr>\n",
       "      <th>2</th>\n",
       "      <td>Landing Page Submission</td>\n",
       "      <td>Direct Traffic</td>\n",
       "      <td>0</td>\n",
       "      <td>1</td>\n",
       "      <td>2.0</td>\n",
       "      <td>1532</td>\n",
       "      <td>2.0</td>\n",
       "      <td>Email Opened</td>\n",
       "      <td>Business Administration</td>\n",
       "      <td>Student</td>\n",
       "      <td>Will revert after reading the email</td>\n",
       "      <td>Mumbai</td>\n",
       "      <td>1</td>\n",
       "      <td>Email Opened</td>\n",
       "    </tr>\n",
       "    <tr>\n",
       "      <th>3</th>\n",
       "      <td>Landing Page Submission</td>\n",
       "      <td>Direct Traffic</td>\n",
       "      <td>0</td>\n",
       "      <td>0</td>\n",
       "      <td>1.0</td>\n",
       "      <td>305</td>\n",
       "      <td>1.0</td>\n",
       "      <td>Other_Tags</td>\n",
       "      <td>Media and Advertising</td>\n",
       "      <td>Unemployed</td>\n",
       "      <td>Ringing</td>\n",
       "      <td>Mumbai</td>\n",
       "      <td>0</td>\n",
       "      <td>Modified</td>\n",
       "    </tr>\n",
       "    <tr>\n",
       "      <th>4</th>\n",
       "      <td>Landing Page Submission</td>\n",
       "      <td>Google</td>\n",
       "      <td>0</td>\n",
       "      <td>1</td>\n",
       "      <td>2.0</td>\n",
       "      <td>1428</td>\n",
       "      <td>1.0</td>\n",
       "      <td>Converted to Lead</td>\n",
       "      <td>Not Specified</td>\n",
       "      <td>Unemployed</td>\n",
       "      <td>Will revert after reading the email</td>\n",
       "      <td>Mumbai</td>\n",
       "      <td>0</td>\n",
       "      <td>Modified</td>\n",
       "    </tr>\n",
       "  </tbody>\n",
       "</table>\n",
       "</div>"
      ],
      "text/plain": [
       "               Lead Origin     Lead Source  Do Not Email  Converted  \\\n",
       "0                      API      Olark Chat             0          0   \n",
       "1                      API  Organic Search             0          0   \n",
       "2  Landing Page Submission  Direct Traffic             0          1   \n",
       "3  Landing Page Submission  Direct Traffic             0          0   \n",
       "4  Landing Page Submission          Google             0          1   \n",
       "\n",
       "   TotalVisits  Total Time Spent on Website  Page Views Per Visit  \\\n",
       "0          0.0                            0                   0.0   \n",
       "1          5.0                          674                   2.5   \n",
       "2          2.0                         1532                   2.0   \n",
       "3          1.0                          305                   1.0   \n",
       "4          2.0                         1428                   1.0   \n",
       "\n",
       "             Last Activity           Specialization  \\\n",
       "0  Page Visited on Website            Not Specified   \n",
       "1             Email Opened            Not Specified   \n",
       "2             Email Opened  Business Administration   \n",
       "3               Other_Tags    Media and Advertising   \n",
       "4        Converted to Lead            Not Specified   \n",
       "\n",
       "  What is your current occupation                                 Tags  \\\n",
       "0                      Unemployed          Interested in other courses   \n",
       "1                      Unemployed                              Ringing   \n",
       "2                         Student  Will revert after reading the email   \n",
       "3                      Unemployed                              Ringing   \n",
       "4                      Unemployed  Will revert after reading the email   \n",
       "\n",
       "     City  A free copy of Mastering The Interview Last Notable Activity  \n",
       "0  Mumbai                                       0              Modified  \n",
       "1  Mumbai                                       0          Email Opened  \n",
       "2  Mumbai                                       1          Email Opened  \n",
       "3  Mumbai                                       0              Modified  \n",
       "4  Mumbai                                       0              Modified  "
      ]
     },
     "execution_count": 96,
     "metadata": {},
     "output_type": "execute_result"
    }
   ],
   "source": [
    "# Checking the mapping of binary values\n",
    "leads_df.head()"
   ]
  },
  {
   "cell_type": "markdown",
   "id": "c0eafc2d",
   "metadata": {},
   "source": [
    "#### 3. Creating Dummy Variables For Categorical Variables\n",
    "We will do following tasks :-\n",
    "\n",
    "- Create the Dummy Variables\n",
    "- Drop Original Columns for Which Dummy Variables are Created\n",
    "- Drop first Columns ss 'p-1' Dummies will explain for 'p' Categories "
   ]
  },
  {
   "cell_type": "code",
   "execution_count": 97,
   "id": "f89e1f09",
   "metadata": {},
   "outputs": [],
   "source": [
    "# Creating Dummy variables and dropping first columns\n",
    "dummy_var_1 = pd.get_dummies(leads_df[['Lead Origin','What is your current occupation',\n",
    "                             'City']], drop_first=True)\n",
    "\n",
    "# Concatenating results to the main dataframe i.e. leads_df\n",
    "leads_df = pd.concat([leads_df,dummy_var_1],1)"
   ]
  },
  {
   "cell_type": "code",
   "execution_count": 98,
   "id": "7bfd3097",
   "metadata": {},
   "outputs": [],
   "source": [
    "# Creating Dummy variables and Dropping first columns\n",
    "dummy_var_2 = pd.get_dummies(leads_df['Specialization'], prefix  = 'Specialization')\n",
    "dummy_var_2 = dummy_var_2.drop(['Specialization_Not Specified'], 1)\n",
    "\n",
    "# Concatenating results to the main dataframe i.e. leads_df\n",
    "leads_df = pd.concat([leads_df, dummy_var_2], axis = 1)"
   ]
  },
  {
   "cell_type": "code",
   "execution_count": 99,
   "id": "de019246",
   "metadata": {},
   "outputs": [],
   "source": [
    "# Creating Dummy variables and Dropping first columns\n",
    "dummy_var_3 = pd.get_dummies(leads_df['Lead Source'], prefix  = 'Lead Source')\n",
    "dummy_var_3 = dummy_var_3.drop(['Lead Source_Others'], 1)\n",
    "\n",
    "# Concatenating results to the main dataframe i.e. leads_df\n",
    "leads_df = pd.concat([leads_df, dummy_var_3], axis = 1)"
   ]
  },
  {
   "cell_type": "code",
   "execution_count": 100,
   "id": "e8f5f04f",
   "metadata": {},
   "outputs": [],
   "source": [
    "# Creating Dummy variables and Dropping first columns\n",
    "dummy_var_4 = pd.get_dummies(leads_df['Last Activity'], prefix  = 'Last Activity')\n",
    "dummy_var_4 = dummy_var_4.drop(['Last Activity_Other_Tags'], 1)\n",
    "\n",
    "# Concatenating results to the main dataframe i.e. leads_df\n",
    "leads_df = pd.concat([leads_df, dummy_var_4], axis = 1)"
   ]
  },
  {
   "cell_type": "code",
   "execution_count": 101,
   "id": "8d297da8",
   "metadata": {},
   "outputs": [],
   "source": [
    "# Creating Dummy variables and Dropping first columns\n",
    "dummy_var_5 = pd.get_dummies(leads_df['Tags'], prefix  = 'Tags')\n",
    "dummy_var_5 = dummy_var_5.drop(['Tags_Other_Tags'], 1)\n",
    "\n",
    "# Concatenating results to the main dataframe i.e. leads_df\n",
    "leads_df = pd.concat([leads_df, dummy_var_5], axis = 1)"
   ]
  },
  {
   "cell_type": "code",
   "execution_count": 102,
   "id": "29deb407",
   "metadata": {},
   "outputs": [],
   "source": [
    "# Createing Dummy variables and Dropping first columns\n",
    "dummy_var_6 = pd.get_dummies(leads_df['Last Notable Activity'], prefix  = 'Last Notable Activity')\n",
    "dummy_var_6 = dummy_var_6.drop(['Last Notable Activity_Others'], 1)\n",
    "\n",
    "# Concatenating results to the main dataframe i.e. leads_df\n",
    "leads_df = pd.concat([leads_df, dummy_var_6], axis = 1)"
   ]
  },
  {
   "cell_type": "code",
   "execution_count": 103,
   "id": "646b9f53",
   "metadata": {},
   "outputs": [],
   "source": [
    "# Dropping Original Columns for which Dummies are made\n",
    "leads_df.drop(cat_cols, 1, inplace = True)"
   ]
  },
  {
   "cell_type": "code",
   "execution_count": 104,
   "id": "24f48311",
   "metadata": {},
   "outputs": [
    {
     "data": {
      "text/html": [
       "<div>\n",
       "<style scoped>\n",
       "    .dataframe tbody tr th:only-of-type {\n",
       "        vertical-align: middle;\n",
       "    }\n",
       "\n",
       "    .dataframe tbody tr th {\n",
       "        vertical-align: top;\n",
       "    }\n",
       "\n",
       "    .dataframe thead th {\n",
       "        text-align: right;\n",
       "    }\n",
       "</style>\n",
       "<table border=\"1\" class=\"dataframe\">\n",
       "  <thead>\n",
       "    <tr style=\"text-align: right;\">\n",
       "      <th></th>\n",
       "      <th>Converted</th>\n",
       "      <th>TotalVisits</th>\n",
       "      <th>Total Time Spent on Website</th>\n",
       "      <th>Page Views Per Visit</th>\n",
       "      <th>Lead Origin_Landing Page Submission</th>\n",
       "      <th>Lead Origin_Lead Add Form</th>\n",
       "      <th>Lead Origin_Lead Import</th>\n",
       "      <th>What is your current occupation_Housewife</th>\n",
       "      <th>What is your current occupation_Other</th>\n",
       "      <th>What is your current occupation_Student</th>\n",
       "      <th>...</th>\n",
       "      <th>Tags_Lost to EINS</th>\n",
       "      <th>Tags_Not Specified</th>\n",
       "      <th>Tags_Ringing</th>\n",
       "      <th>Tags_Will revert after reading the email</th>\n",
       "      <th>Last Notable Activity_Email Link Clicked</th>\n",
       "      <th>Last Notable Activity_Email Opened</th>\n",
       "      <th>Last Notable Activity_Modified</th>\n",
       "      <th>Last Notable Activity_Olark Chat Conversation</th>\n",
       "      <th>Last Notable Activity_Page Visited on Website</th>\n",
       "      <th>Last Notable Activity_SMS Sent</th>\n",
       "    </tr>\n",
       "  </thead>\n",
       "  <tbody>\n",
       "    <tr>\n",
       "      <th>0</th>\n",
       "      <td>0</td>\n",
       "      <td>0.0</td>\n",
       "      <td>0</td>\n",
       "      <td>0.0</td>\n",
       "      <td>0</td>\n",
       "      <td>0</td>\n",
       "      <td>0</td>\n",
       "      <td>0</td>\n",
       "      <td>0</td>\n",
       "      <td>0</td>\n",
       "      <td>...</td>\n",
       "      <td>0</td>\n",
       "      <td>0</td>\n",
       "      <td>0</td>\n",
       "      <td>0</td>\n",
       "      <td>0</td>\n",
       "      <td>0</td>\n",
       "      <td>1</td>\n",
       "      <td>0</td>\n",
       "      <td>0</td>\n",
       "      <td>0</td>\n",
       "    </tr>\n",
       "    <tr>\n",
       "      <th>1</th>\n",
       "      <td>0</td>\n",
       "      <td>5.0</td>\n",
       "      <td>674</td>\n",
       "      <td>2.5</td>\n",
       "      <td>0</td>\n",
       "      <td>0</td>\n",
       "      <td>0</td>\n",
       "      <td>0</td>\n",
       "      <td>0</td>\n",
       "      <td>0</td>\n",
       "      <td>...</td>\n",
       "      <td>0</td>\n",
       "      <td>0</td>\n",
       "      <td>1</td>\n",
       "      <td>0</td>\n",
       "      <td>0</td>\n",
       "      <td>1</td>\n",
       "      <td>0</td>\n",
       "      <td>0</td>\n",
       "      <td>0</td>\n",
       "      <td>0</td>\n",
       "    </tr>\n",
       "    <tr>\n",
       "      <th>2</th>\n",
       "      <td>1</td>\n",
       "      <td>2.0</td>\n",
       "      <td>1532</td>\n",
       "      <td>2.0</td>\n",
       "      <td>1</td>\n",
       "      <td>0</td>\n",
       "      <td>0</td>\n",
       "      <td>0</td>\n",
       "      <td>0</td>\n",
       "      <td>1</td>\n",
       "      <td>...</td>\n",
       "      <td>0</td>\n",
       "      <td>0</td>\n",
       "      <td>0</td>\n",
       "      <td>1</td>\n",
       "      <td>0</td>\n",
       "      <td>1</td>\n",
       "      <td>0</td>\n",
       "      <td>0</td>\n",
       "      <td>0</td>\n",
       "      <td>0</td>\n",
       "    </tr>\n",
       "    <tr>\n",
       "      <th>3</th>\n",
       "      <td>0</td>\n",
       "      <td>1.0</td>\n",
       "      <td>305</td>\n",
       "      <td>1.0</td>\n",
       "      <td>1</td>\n",
       "      <td>0</td>\n",
       "      <td>0</td>\n",
       "      <td>0</td>\n",
       "      <td>0</td>\n",
       "      <td>0</td>\n",
       "      <td>...</td>\n",
       "      <td>0</td>\n",
       "      <td>0</td>\n",
       "      <td>1</td>\n",
       "      <td>0</td>\n",
       "      <td>0</td>\n",
       "      <td>0</td>\n",
       "      <td>1</td>\n",
       "      <td>0</td>\n",
       "      <td>0</td>\n",
       "      <td>0</td>\n",
       "    </tr>\n",
       "    <tr>\n",
       "      <th>4</th>\n",
       "      <td>1</td>\n",
       "      <td>2.0</td>\n",
       "      <td>1428</td>\n",
       "      <td>1.0</td>\n",
       "      <td>1</td>\n",
       "      <td>0</td>\n",
       "      <td>0</td>\n",
       "      <td>0</td>\n",
       "      <td>0</td>\n",
       "      <td>0</td>\n",
       "      <td>...</td>\n",
       "      <td>0</td>\n",
       "      <td>0</td>\n",
       "      <td>0</td>\n",
       "      <td>1</td>\n",
       "      <td>0</td>\n",
       "      <td>0</td>\n",
       "      <td>1</td>\n",
       "      <td>0</td>\n",
       "      <td>0</td>\n",
       "      <td>0</td>\n",
       "    </tr>\n",
       "  </tbody>\n",
       "</table>\n",
       "<p>5 rows × 56 columns</p>\n",
       "</div>"
      ],
      "text/plain": [
       "   Converted  TotalVisits  Total Time Spent on Website  Page Views Per Visit  \\\n",
       "0          0          0.0                            0                   0.0   \n",
       "1          0          5.0                          674                   2.5   \n",
       "2          1          2.0                         1532                   2.0   \n",
       "3          0          1.0                          305                   1.0   \n",
       "4          1          2.0                         1428                   1.0   \n",
       "\n",
       "   Lead Origin_Landing Page Submission  Lead Origin_Lead Add Form  \\\n",
       "0                                    0                          0   \n",
       "1                                    0                          0   \n",
       "2                                    1                          0   \n",
       "3                                    1                          0   \n",
       "4                                    1                          0   \n",
       "\n",
       "   Lead Origin_Lead Import  What is your current occupation_Housewife  \\\n",
       "0                        0                                          0   \n",
       "1                        0                                          0   \n",
       "2                        0                                          0   \n",
       "3                        0                                          0   \n",
       "4                        0                                          0   \n",
       "\n",
       "   What is your current occupation_Other  \\\n",
       "0                                      0   \n",
       "1                                      0   \n",
       "2                                      0   \n",
       "3                                      0   \n",
       "4                                      0   \n",
       "\n",
       "   What is your current occupation_Student  ...  Tags_Lost to EINS  \\\n",
       "0                                        0  ...                  0   \n",
       "1                                        0  ...                  0   \n",
       "2                                        1  ...                  0   \n",
       "3                                        0  ...                  0   \n",
       "4                                        0  ...                  0   \n",
       "\n",
       "   Tags_Not Specified  Tags_Ringing  Tags_Will revert after reading the email  \\\n",
       "0                   0             0                                         0   \n",
       "1                   0             1                                         0   \n",
       "2                   0             0                                         1   \n",
       "3                   0             1                                         0   \n",
       "4                   0             0                                         1   \n",
       "\n",
       "   Last Notable Activity_Email Link Clicked  \\\n",
       "0                                         0   \n",
       "1                                         0   \n",
       "2                                         0   \n",
       "3                                         0   \n",
       "4                                         0   \n",
       "\n",
       "   Last Notable Activity_Email Opened  Last Notable Activity_Modified  \\\n",
       "0                                   0                               1   \n",
       "1                                   1                               0   \n",
       "2                                   1                               0   \n",
       "3                                   0                               1   \n",
       "4                                   0                               1   \n",
       "\n",
       "   Last Notable Activity_Olark Chat Conversation  \\\n",
       "0                                              0   \n",
       "1                                              0   \n",
       "2                                              0   \n",
       "3                                              0   \n",
       "4                                              0   \n",
       "\n",
       "   Last Notable Activity_Page Visited on Website  \\\n",
       "0                                              0   \n",
       "1                                              0   \n",
       "2                                              0   \n",
       "3                                              0   \n",
       "4                                              0   \n",
       "\n",
       "   Last Notable Activity_SMS Sent  \n",
       "0                               0  \n",
       "1                               0  \n",
       "2                               0  \n",
       "3                               0  \n",
       "4                               0  \n",
       "\n",
       "[5 rows x 56 columns]"
      ]
     },
     "execution_count": 104,
     "metadata": {},
     "output_type": "execute_result"
    }
   ],
   "source": [
    "# Checking Dummy variables mappings\n",
    "leads_df.head()"
   ]
  },
  {
   "cell_type": "markdown",
   "id": "861ecacc",
   "metadata": {},
   "source": [
    "## Step 5 : Logistic Regression Model Building"
   ]
  },
  {
   "cell_type": "markdown",
   "id": "a0d54e3d",
   "metadata": {},
   "source": [
    "#### 1. Splitting The Dataset\n",
    "- We will now first split the dataset into train and test datasets in ratio of 70-30."
   ]
  },
  {
   "cell_type": "code",
   "execution_count": 105,
   "id": "b1852882",
   "metadata": {},
   "outputs": [],
   "source": [
    "from sklearn.model_selection import train_test_split\n",
    "\n",
    "# Assig response variable to y\n",
    "y = leads_df['Converted']\n",
    "\n",
    "# Assigning remaining variables to X\n",
    "X = leads_df.drop('Converted', axis=1)"
   ]
  },
  {
   "cell_type": "code",
   "execution_count": 106,
   "id": "c328e8ea",
   "metadata": {},
   "outputs": [
    {
     "data": {
      "text/html": [
       "<div>\n",
       "<style scoped>\n",
       "    .dataframe tbody tr th:only-of-type {\n",
       "        vertical-align: middle;\n",
       "    }\n",
       "\n",
       "    .dataframe tbody tr th {\n",
       "        vertical-align: top;\n",
       "    }\n",
       "\n",
       "    .dataframe thead th {\n",
       "        text-align: right;\n",
       "    }\n",
       "</style>\n",
       "<table border=\"1\" class=\"dataframe\">\n",
       "  <thead>\n",
       "    <tr style=\"text-align: right;\">\n",
       "      <th></th>\n",
       "      <th>TotalVisits</th>\n",
       "      <th>Total Time Spent on Website</th>\n",
       "      <th>Page Views Per Visit</th>\n",
       "      <th>Lead Origin_Landing Page Submission</th>\n",
       "      <th>Lead Origin_Lead Add Form</th>\n",
       "      <th>Lead Origin_Lead Import</th>\n",
       "      <th>What is your current occupation_Housewife</th>\n",
       "      <th>What is your current occupation_Other</th>\n",
       "      <th>What is your current occupation_Student</th>\n",
       "      <th>What is your current occupation_Unemployed</th>\n",
       "      <th>...</th>\n",
       "      <th>Tags_Lost to EINS</th>\n",
       "      <th>Tags_Not Specified</th>\n",
       "      <th>Tags_Ringing</th>\n",
       "      <th>Tags_Will revert after reading the email</th>\n",
       "      <th>Last Notable Activity_Email Link Clicked</th>\n",
       "      <th>Last Notable Activity_Email Opened</th>\n",
       "      <th>Last Notable Activity_Modified</th>\n",
       "      <th>Last Notable Activity_Olark Chat Conversation</th>\n",
       "      <th>Last Notable Activity_Page Visited on Website</th>\n",
       "      <th>Last Notable Activity_SMS Sent</th>\n",
       "    </tr>\n",
       "  </thead>\n",
       "  <tbody>\n",
       "    <tr>\n",
       "      <th>0</th>\n",
       "      <td>0.0</td>\n",
       "      <td>0</td>\n",
       "      <td>0.0</td>\n",
       "      <td>0</td>\n",
       "      <td>0</td>\n",
       "      <td>0</td>\n",
       "      <td>0</td>\n",
       "      <td>0</td>\n",
       "      <td>0</td>\n",
       "      <td>1</td>\n",
       "      <td>...</td>\n",
       "      <td>0</td>\n",
       "      <td>0</td>\n",
       "      <td>0</td>\n",
       "      <td>0</td>\n",
       "      <td>0</td>\n",
       "      <td>0</td>\n",
       "      <td>1</td>\n",
       "      <td>0</td>\n",
       "      <td>0</td>\n",
       "      <td>0</td>\n",
       "    </tr>\n",
       "    <tr>\n",
       "      <th>1</th>\n",
       "      <td>5.0</td>\n",
       "      <td>674</td>\n",
       "      <td>2.5</td>\n",
       "      <td>0</td>\n",
       "      <td>0</td>\n",
       "      <td>0</td>\n",
       "      <td>0</td>\n",
       "      <td>0</td>\n",
       "      <td>0</td>\n",
       "      <td>1</td>\n",
       "      <td>...</td>\n",
       "      <td>0</td>\n",
       "      <td>0</td>\n",
       "      <td>1</td>\n",
       "      <td>0</td>\n",
       "      <td>0</td>\n",
       "      <td>1</td>\n",
       "      <td>0</td>\n",
       "      <td>0</td>\n",
       "      <td>0</td>\n",
       "      <td>0</td>\n",
       "    </tr>\n",
       "    <tr>\n",
       "      <th>2</th>\n",
       "      <td>2.0</td>\n",
       "      <td>1532</td>\n",
       "      <td>2.0</td>\n",
       "      <td>1</td>\n",
       "      <td>0</td>\n",
       "      <td>0</td>\n",
       "      <td>0</td>\n",
       "      <td>0</td>\n",
       "      <td>1</td>\n",
       "      <td>0</td>\n",
       "      <td>...</td>\n",
       "      <td>0</td>\n",
       "      <td>0</td>\n",
       "      <td>0</td>\n",
       "      <td>1</td>\n",
       "      <td>0</td>\n",
       "      <td>1</td>\n",
       "      <td>0</td>\n",
       "      <td>0</td>\n",
       "      <td>0</td>\n",
       "      <td>0</td>\n",
       "    </tr>\n",
       "    <tr>\n",
       "      <th>3</th>\n",
       "      <td>1.0</td>\n",
       "      <td>305</td>\n",
       "      <td>1.0</td>\n",
       "      <td>1</td>\n",
       "      <td>0</td>\n",
       "      <td>0</td>\n",
       "      <td>0</td>\n",
       "      <td>0</td>\n",
       "      <td>0</td>\n",
       "      <td>1</td>\n",
       "      <td>...</td>\n",
       "      <td>0</td>\n",
       "      <td>0</td>\n",
       "      <td>1</td>\n",
       "      <td>0</td>\n",
       "      <td>0</td>\n",
       "      <td>0</td>\n",
       "      <td>1</td>\n",
       "      <td>0</td>\n",
       "      <td>0</td>\n",
       "      <td>0</td>\n",
       "    </tr>\n",
       "    <tr>\n",
       "      <th>4</th>\n",
       "      <td>2.0</td>\n",
       "      <td>1428</td>\n",
       "      <td>1.0</td>\n",
       "      <td>1</td>\n",
       "      <td>0</td>\n",
       "      <td>0</td>\n",
       "      <td>0</td>\n",
       "      <td>0</td>\n",
       "      <td>0</td>\n",
       "      <td>1</td>\n",
       "      <td>...</td>\n",
       "      <td>0</td>\n",
       "      <td>0</td>\n",
       "      <td>0</td>\n",
       "      <td>1</td>\n",
       "      <td>0</td>\n",
       "      <td>0</td>\n",
       "      <td>1</td>\n",
       "      <td>0</td>\n",
       "      <td>0</td>\n",
       "      <td>0</td>\n",
       "    </tr>\n",
       "  </tbody>\n",
       "</table>\n",
       "<p>5 rows × 55 columns</p>\n",
       "</div>"
      ],
      "text/plain": [
       "   TotalVisits  Total Time Spent on Website  Page Views Per Visit  \\\n",
       "0          0.0                            0                   0.0   \n",
       "1          5.0                          674                   2.5   \n",
       "2          2.0                         1532                   2.0   \n",
       "3          1.0                          305                   1.0   \n",
       "4          2.0                         1428                   1.0   \n",
       "\n",
       "   Lead Origin_Landing Page Submission  Lead Origin_Lead Add Form  \\\n",
       "0                                    0                          0   \n",
       "1                                    0                          0   \n",
       "2                                    1                          0   \n",
       "3                                    1                          0   \n",
       "4                                    1                          0   \n",
       "\n",
       "   Lead Origin_Lead Import  What is your current occupation_Housewife  \\\n",
       "0                        0                                          0   \n",
       "1                        0                                          0   \n",
       "2                        0                                          0   \n",
       "3                        0                                          0   \n",
       "4                        0                                          0   \n",
       "\n",
       "   What is your current occupation_Other  \\\n",
       "0                                      0   \n",
       "1                                      0   \n",
       "2                                      0   \n",
       "3                                      0   \n",
       "4                                      0   \n",
       "\n",
       "   What is your current occupation_Student  \\\n",
       "0                                        0   \n",
       "1                                        0   \n",
       "2                                        1   \n",
       "3                                        0   \n",
       "4                                        0   \n",
       "\n",
       "   What is your current occupation_Unemployed  ...  Tags_Lost to EINS  \\\n",
       "0                                           1  ...                  0   \n",
       "1                                           1  ...                  0   \n",
       "2                                           0  ...                  0   \n",
       "3                                           1  ...                  0   \n",
       "4                                           1  ...                  0   \n",
       "\n",
       "   Tags_Not Specified  Tags_Ringing  Tags_Will revert after reading the email  \\\n",
       "0                   0             0                                         0   \n",
       "1                   0             1                                         0   \n",
       "2                   0             0                                         1   \n",
       "3                   0             1                                         0   \n",
       "4                   0             0                                         1   \n",
       "\n",
       "   Last Notable Activity_Email Link Clicked  \\\n",
       "0                                         0   \n",
       "1                                         0   \n",
       "2                                         0   \n",
       "3                                         0   \n",
       "4                                         0   \n",
       "\n",
       "   Last Notable Activity_Email Opened  Last Notable Activity_Modified  \\\n",
       "0                                   0                               1   \n",
       "1                                   1                               0   \n",
       "2                                   1                               0   \n",
       "3                                   0                               1   \n",
       "4                                   0                               1   \n",
       "\n",
       "   Last Notable Activity_Olark Chat Conversation  \\\n",
       "0                                              0   \n",
       "1                                              0   \n",
       "2                                              0   \n",
       "3                                              0   \n",
       "4                                              0   \n",
       "\n",
       "   Last Notable Activity_Page Visited on Website  \\\n",
       "0                                              0   \n",
       "1                                              0   \n",
       "2                                              0   \n",
       "3                                              0   \n",
       "4                                              0   \n",
       "\n",
       "   Last Notable Activity_SMS Sent  \n",
       "0                               0  \n",
       "1                               0  \n",
       "2                               0  \n",
       "3                               0  \n",
       "4                               0  \n",
       "\n",
       "[5 rows x 55 columns]"
      ]
     },
     "execution_count": 106,
     "metadata": {},
     "output_type": "execute_result"
    }
   ],
   "source": [
    "# Check X dataframe\n",
    "X.head()"
   ]
  },
  {
   "cell_type": "code",
   "execution_count": 107,
   "id": "c3875f18",
   "metadata": {},
   "outputs": [
    {
     "data": {
      "text/plain": [
       "0    0\n",
       "1    0\n",
       "2    1\n",
       "3    0\n",
       "4    1\n",
       "Name: Converted, dtype: int64"
      ]
     },
     "execution_count": 107,
     "metadata": {},
     "output_type": "execute_result"
    }
   ],
   "source": [
    "# Check y dataframe\n",
    "y.head()"
   ]
  },
  {
   "cell_type": "code",
   "execution_count": 108,
   "id": "cf817d7d",
   "metadata": {},
   "outputs": [],
   "source": [
    "# Splitting the data into train & test data with 70% train and 30% test dataset\n",
    "X_train, X_test, y_train, y_test = train_test_split(X, y, train_size=0.7, test_size=0.3, random_state=100)"
   ]
  },
  {
   "cell_type": "code",
   "execution_count": 109,
   "id": "f0a7f91b",
   "metadata": {},
   "outputs": [
    {
     "data": {
      "text/plain": [
       "(6267, 55)"
      ]
     },
     "execution_count": 109,
     "metadata": {},
     "output_type": "execute_result"
    }
   ],
   "source": [
    "# Check the shape of X_train dataset\n",
    "X_train.shape"
   ]
  },
  {
   "cell_type": "code",
   "execution_count": 110,
   "id": "7a0af541",
   "metadata": {},
   "outputs": [
    {
     "data": {
      "text/plain": [
       "(6267,)"
      ]
     },
     "execution_count": 110,
     "metadata": {},
     "output_type": "execute_result"
    }
   ],
   "source": [
    "# Check shape of y_train dataset\n",
    "y_train.shape"
   ]
  },
  {
   "cell_type": "markdown",
   "id": "3ea32e1e",
   "metadata": {},
   "source": [
    "#### 2. Rescaling Numerical Variables"
   ]
  },
  {
   "cell_type": "code",
   "execution_count": 111,
   "id": "855d3770",
   "metadata": {},
   "outputs": [],
   "source": [
    "# Import required libraries\n",
    "from sklearn.preprocessing import StandardScaler"
   ]
  },
  {
   "cell_type": "code",
   "execution_count": 112,
   "id": "224eeda2",
   "metadata": {},
   "outputs": [],
   "source": [
    "# Apply scaler to all numeric variables\n",
    "scaler = StandardScaler()"
   ]
  },
  {
   "cell_type": "code",
   "execution_count": 113,
   "id": "cd56eecb",
   "metadata": {},
   "outputs": [],
   "source": [
    "# Extracting numeric columns\n",
    "num_cols = X_train.select_dtypes(include=['float64', 'int64']).columns"
   ]
  },
  {
   "cell_type": "code",
   "execution_count": 114,
   "id": "8a559634",
   "metadata": {},
   "outputs": [],
   "source": [
    "# Fitting & Training the dataset to rescale the numeric variables\n",
    "X_train[num_cols] = scaler.fit_transform(X_train[num_cols])"
   ]
  },
  {
   "cell_type": "code",
   "execution_count": 115,
   "id": "3b84f92a",
   "metadata": {},
   "outputs": [
    {
     "data": {
      "text/html": [
       "<div>\n",
       "<style scoped>\n",
       "    .dataframe tbody tr th:only-of-type {\n",
       "        vertical-align: middle;\n",
       "    }\n",
       "\n",
       "    .dataframe tbody tr th {\n",
       "        vertical-align: top;\n",
       "    }\n",
       "\n",
       "    .dataframe thead th {\n",
       "        text-align: right;\n",
       "    }\n",
       "</style>\n",
       "<table border=\"1\" class=\"dataframe\">\n",
       "  <thead>\n",
       "    <tr style=\"text-align: right;\">\n",
       "      <th></th>\n",
       "      <th>TotalVisits</th>\n",
       "      <th>Total Time Spent on Website</th>\n",
       "      <th>Page Views Per Visit</th>\n",
       "      <th>Lead Origin_Landing Page Submission</th>\n",
       "      <th>Lead Origin_Lead Add Form</th>\n",
       "      <th>Lead Origin_Lead Import</th>\n",
       "      <th>What is your current occupation_Housewife</th>\n",
       "      <th>What is your current occupation_Other</th>\n",
       "      <th>What is your current occupation_Student</th>\n",
       "      <th>What is your current occupation_Unemployed</th>\n",
       "      <th>...</th>\n",
       "      <th>Tags_Lost to EINS</th>\n",
       "      <th>Tags_Not Specified</th>\n",
       "      <th>Tags_Ringing</th>\n",
       "      <th>Tags_Will revert after reading the email</th>\n",
       "      <th>Last Notable Activity_Email Link Clicked</th>\n",
       "      <th>Last Notable Activity_Email Opened</th>\n",
       "      <th>Last Notable Activity_Modified</th>\n",
       "      <th>Last Notable Activity_Olark Chat Conversation</th>\n",
       "      <th>Last Notable Activity_Page Visited on Website</th>\n",
       "      <th>Last Notable Activity_SMS Sent</th>\n",
       "    </tr>\n",
       "  </thead>\n",
       "  <tbody>\n",
       "    <tr>\n",
       "      <th>9196</th>\n",
       "      <td>0.668862</td>\n",
       "      <td>1.848117</td>\n",
       "      <td>1.455819</td>\n",
       "      <td>1</td>\n",
       "      <td>0</td>\n",
       "      <td>0</td>\n",
       "      <td>0</td>\n",
       "      <td>0</td>\n",
       "      <td>0</td>\n",
       "      <td>1</td>\n",
       "      <td>...</td>\n",
       "      <td>0</td>\n",
       "      <td>0</td>\n",
       "      <td>1</td>\n",
       "      <td>0</td>\n",
       "      <td>0</td>\n",
       "      <td>0</td>\n",
       "      <td>0</td>\n",
       "      <td>0</td>\n",
       "      <td>0</td>\n",
       "      <td>1</td>\n",
       "    </tr>\n",
       "    <tr>\n",
       "      <th>4696</th>\n",
       "      <td>-0.030697</td>\n",
       "      <td>-0.037832</td>\n",
       "      <td>0.399961</td>\n",
       "      <td>1</td>\n",
       "      <td>0</td>\n",
       "      <td>0</td>\n",
       "      <td>0</td>\n",
       "      <td>0</td>\n",
       "      <td>0</td>\n",
       "      <td>1</td>\n",
       "      <td>...</td>\n",
       "      <td>0</td>\n",
       "      <td>0</td>\n",
       "      <td>1</td>\n",
       "      <td>0</td>\n",
       "      <td>0</td>\n",
       "      <td>0</td>\n",
       "      <td>0</td>\n",
       "      <td>0</td>\n",
       "      <td>0</td>\n",
       "      <td>1</td>\n",
       "    </tr>\n",
       "    <tr>\n",
       "      <th>3274</th>\n",
       "      <td>0.319082</td>\n",
       "      <td>-0.642138</td>\n",
       "      <td>-0.127967</td>\n",
       "      <td>1</td>\n",
       "      <td>0</td>\n",
       "      <td>0</td>\n",
       "      <td>0</td>\n",
       "      <td>0</td>\n",
       "      <td>0</td>\n",
       "      <td>1</td>\n",
       "      <td>...</td>\n",
       "      <td>0</td>\n",
       "      <td>1</td>\n",
       "      <td>0</td>\n",
       "      <td>0</td>\n",
       "      <td>0</td>\n",
       "      <td>0</td>\n",
       "      <td>0</td>\n",
       "      <td>0</td>\n",
       "      <td>0</td>\n",
       "      <td>1</td>\n",
       "    </tr>\n",
       "    <tr>\n",
       "      <th>2164</th>\n",
       "      <td>-0.380477</td>\n",
       "      <td>-0.154676</td>\n",
       "      <td>-0.127967</td>\n",
       "      <td>0</td>\n",
       "      <td>0</td>\n",
       "      <td>0</td>\n",
       "      <td>0</td>\n",
       "      <td>0</td>\n",
       "      <td>0</td>\n",
       "      <td>1</td>\n",
       "      <td>...</td>\n",
       "      <td>0</td>\n",
       "      <td>0</td>\n",
       "      <td>0</td>\n",
       "      <td>0</td>\n",
       "      <td>0</td>\n",
       "      <td>0</td>\n",
       "      <td>1</td>\n",
       "      <td>0</td>\n",
       "      <td>0</td>\n",
       "      <td>0</td>\n",
       "    </tr>\n",
       "    <tr>\n",
       "      <th>1667</th>\n",
       "      <td>0.319082</td>\n",
       "      <td>1.258415</td>\n",
       "      <td>-0.481679</td>\n",
       "      <td>0</td>\n",
       "      <td>0</td>\n",
       "      <td>0</td>\n",
       "      <td>0</td>\n",
       "      <td>0</td>\n",
       "      <td>0</td>\n",
       "      <td>1</td>\n",
       "      <td>...</td>\n",
       "      <td>0</td>\n",
       "      <td>0</td>\n",
       "      <td>0</td>\n",
       "      <td>1</td>\n",
       "      <td>0</td>\n",
       "      <td>1</td>\n",
       "      <td>0</td>\n",
       "      <td>0</td>\n",
       "      <td>0</td>\n",
       "      <td>0</td>\n",
       "    </tr>\n",
       "  </tbody>\n",
       "</table>\n",
       "<p>5 rows × 55 columns</p>\n",
       "</div>"
      ],
      "text/plain": [
       "      TotalVisits  Total Time Spent on Website  Page Views Per Visit  \\\n",
       "9196     0.668862                     1.848117              1.455819   \n",
       "4696    -0.030697                    -0.037832              0.399961   \n",
       "3274     0.319082                    -0.642138             -0.127967   \n",
       "2164    -0.380477                    -0.154676             -0.127967   \n",
       "1667     0.319082                     1.258415             -0.481679   \n",
       "\n",
       "      Lead Origin_Landing Page Submission  Lead Origin_Lead Add Form  \\\n",
       "9196                                    1                          0   \n",
       "4696                                    1                          0   \n",
       "3274                                    1                          0   \n",
       "2164                                    0                          0   \n",
       "1667                                    0                          0   \n",
       "\n",
       "      Lead Origin_Lead Import  What is your current occupation_Housewife  \\\n",
       "9196                        0                                          0   \n",
       "4696                        0                                          0   \n",
       "3274                        0                                          0   \n",
       "2164                        0                                          0   \n",
       "1667                        0                                          0   \n",
       "\n",
       "      What is your current occupation_Other  \\\n",
       "9196                                      0   \n",
       "4696                                      0   \n",
       "3274                                      0   \n",
       "2164                                      0   \n",
       "1667                                      0   \n",
       "\n",
       "      What is your current occupation_Student  \\\n",
       "9196                                        0   \n",
       "4696                                        0   \n",
       "3274                                        0   \n",
       "2164                                        0   \n",
       "1667                                        0   \n",
       "\n",
       "      What is your current occupation_Unemployed  ...  Tags_Lost to EINS  \\\n",
       "9196                                           1  ...                  0   \n",
       "4696                                           1  ...                  0   \n",
       "3274                                           1  ...                  0   \n",
       "2164                                           1  ...                  0   \n",
       "1667                                           1  ...                  0   \n",
       "\n",
       "      Tags_Not Specified  Tags_Ringing  \\\n",
       "9196                   0             1   \n",
       "4696                   0             1   \n",
       "3274                   1             0   \n",
       "2164                   0             0   \n",
       "1667                   0             0   \n",
       "\n",
       "      Tags_Will revert after reading the email  \\\n",
       "9196                                         0   \n",
       "4696                                         0   \n",
       "3274                                         0   \n",
       "2164                                         0   \n",
       "1667                                         1   \n",
       "\n",
       "      Last Notable Activity_Email Link Clicked  \\\n",
       "9196                                         0   \n",
       "4696                                         0   \n",
       "3274                                         0   \n",
       "2164                                         0   \n",
       "1667                                         0   \n",
       "\n",
       "      Last Notable Activity_Email Opened  Last Notable Activity_Modified  \\\n",
       "9196                                   0                               0   \n",
       "4696                                   0                               0   \n",
       "3274                                   0                               0   \n",
       "2164                                   0                               1   \n",
       "1667                                   1                               0   \n",
       "\n",
       "      Last Notable Activity_Olark Chat Conversation  \\\n",
       "9196                                              0   \n",
       "4696                                              0   \n",
       "3274                                              0   \n",
       "2164                                              0   \n",
       "1667                                              0   \n",
       "\n",
       "      Last Notable Activity_Page Visited on Website  \\\n",
       "9196                                              0   \n",
       "4696                                              0   \n",
       "3274                                              0   \n",
       "2164                                              0   \n",
       "1667                                              0   \n",
       "\n",
       "      Last Notable Activity_SMS Sent  \n",
       "9196                               1  \n",
       "4696                               1  \n",
       "3274                               1  \n",
       "2164                               0  \n",
       "1667                               0  \n",
       "\n",
       "[5 rows x 55 columns]"
      ]
     },
     "execution_count": 115,
     "metadata": {},
     "output_type": "execute_result"
    }
   ],
   "source": [
    "# Checking scaled values of numeric columns\n",
    "X_train.head()"
   ]
  },
  {
   "cell_type": "markdown",
   "id": "97cc02e2",
   "metadata": {},
   "source": [
    "#### 3. Model Building using Statsmodels and RFE\n",
    "\n",
    "We will do the followig steps :-\n",
    "\n",
    "- We will start building the model manually starting with the 15 best variables as selected by RFE.\n",
    "- We will check which model is a better fit by dropping variables that are not required depending upon their VIF values/p-values.\n",
    "- We will drop variables either having VIF > 5 or having p-values > 0.05.\n",
    "- VIF parameter(i.e. multicollinearity) must be < 5 while p-values that will determine significance of the variables must be < 0.05. \n",
    "- We will use the statsmodels to view a detailed summary of different parameters and make decisions.\n",
    "- We will keep dropping/adding variables to find the best model and then test it against the test dataset."
   ]
  },
  {
   "cell_type": "code",
   "execution_count": 116,
   "id": "64accd44",
   "metadata": {},
   "outputs": [],
   "source": [
    "# Import the required libraries\n",
    "import statsmodels.api as sm\n",
    "from sklearn.linear_model import LogisticRegression\n",
    "from sklearn.feature_selection import RFE"
   ]
  },
  {
   "cell_type": "code",
   "execution_count": 117,
   "id": "11a0bec5",
   "metadata": {},
   "outputs": [],
   "source": [
    "# Initialize logarithmic regression function\n",
    "logreg = LogisticRegression()"
   ]
  },
  {
   "cell_type": "code",
   "execution_count": 118,
   "id": "b372d635",
   "metadata": {},
   "outputs": [],
   "source": [
    "# Running RFE with 15 variables as output\n",
    "rfe = RFE(estimator=logreg, n_features_to_select=15)             \n",
    "rfe = rfe.fit(X_train, y_train)"
   ]
  },
  {
   "cell_type": "code",
   "execution_count": 119,
   "id": "62668d33",
   "metadata": {},
   "outputs": [
    {
     "data": {
      "text/plain": [
       "[('TotalVisits', False, 26),\n",
       " ('Total Time Spent on Website', False, 2),\n",
       " ('Page Views Per Visit', False, 24),\n",
       " ('Lead Origin_Landing Page Submission', False, 9),\n",
       " ('Lead Origin_Lead Add Form', True, 1),\n",
       " ('Lead Origin_Lead Import', False, 19),\n",
       " ('What is your current occupation_Housewife', False, 27),\n",
       " ('What is your current occupation_Other', False, 29),\n",
       " ('What is your current occupation_Student', False, 20),\n",
       " ('What is your current occupation_Unemployed', False, 21),\n",
       " ('What is your current occupation_Working Professional', False, 7),\n",
       " ('City_Other Cities', False, 23),\n",
       " ('City_Other Cities of Maharashtra', False, 34),\n",
       " ('City_Other Metro Cities', False, 39),\n",
       " ('City_Thane & Outskirts', False, 37),\n",
       " ('City_Tier II Cities', False, 31),\n",
       " ('Specialization_Banking, Investment And Insurance', False, 14),\n",
       " ('Specialization_Business Administration', False, 41),\n",
       " ('Specialization_E-Business', False, 32),\n",
       " ('Specialization_E-COMMERCE', False, 22),\n",
       " ('Specialization_International Business', False, 40),\n",
       " ('Specialization_Management_Specializations', False, 36),\n",
       " ('Specialization_Media and Advertising', False, 35),\n",
       " ('Specialization_Rural and Agribusiness', False, 38),\n",
       " ('Specialization_Services Excellence', False, 33),\n",
       " ('Specialization_Travel and Tourism', False, 8),\n",
       " ('Lead Source_Direct Traffic', True, 1),\n",
       " ('Lead Source_Google', True, 1),\n",
       " ('Lead Source_Olark Chat', False, 30),\n",
       " ('Lead Source_Organic Search', True, 1),\n",
       " ('Lead Source_Reference', False, 12),\n",
       " ('Lead Source_Referral Sites', True, 1),\n",
       " ('Lead Source_Social Media', False, 18),\n",
       " ('Lead Source_Welingak Website', True, 1),\n",
       " ('Last Activity_Converted to Lead', False, 10),\n",
       " ('Last Activity_Email Bounced', True, 1),\n",
       " ('Last Activity_Email Link Clicked', False, 28),\n",
       " ('Last Activity_Email Opened', False, 16),\n",
       " ('Last Activity_Form Submitted on Website', False, 15),\n",
       " ('Last Activity_Olark Chat Conversation', True, 1),\n",
       " ('Last Activity_Page Visited on Website', False, 11),\n",
       " ('Last Activity_SMS Sent', False, 3),\n",
       " ('Tags_Busy', True, 1),\n",
       " ('Tags_Closed by Horizzon', True, 1),\n",
       " ('Tags_Interested in other courses', False, 13),\n",
       " ('Tags_Lost to EINS', True, 1),\n",
       " ('Tags_Not Specified', True, 1),\n",
       " ('Tags_Ringing', True, 1),\n",
       " ('Tags_Will revert after reading the email', True, 1),\n",
       " ('Last Notable Activity_Email Link Clicked', False, 6),\n",
       " ('Last Notable Activity_Email Opened', False, 17),\n",
       " ('Last Notable Activity_Modified', False, 5),\n",
       " ('Last Notable Activity_Olark Chat Conversation', False, 4),\n",
       " ('Last Notable Activity_Page Visited on Website', False, 25),\n",
       " ('Last Notable Activity_SMS Sent', True, 1)]"
      ]
     },
     "execution_count": 119,
     "metadata": {},
     "output_type": "execute_result"
    }
   ],
   "source": [
    "# Display the variables chosen by RFE for builing the initial model & ranking of rejected variables.\n",
    "list(zip(X_train.columns, rfe.support_, rfe.ranking_))"
   ]
  },
  {
   "cell_type": "code",
   "execution_count": 120,
   "id": "a7aa1629",
   "metadata": {},
   "outputs": [
    {
     "data": {
      "text/plain": [
       "Index(['TotalVisits', 'Total Time Spent on Website', 'Page Views Per Visit',\n",
       "       'Lead Origin_Landing Page Submission', 'Lead Origin_Lead Import',\n",
       "       'What is your current occupation_Housewife',\n",
       "       'What is your current occupation_Other',\n",
       "       'What is your current occupation_Student',\n",
       "       'What is your current occupation_Unemployed',\n",
       "       'What is your current occupation_Working Professional',\n",
       "       'City_Other Cities', 'City_Other Cities of Maharashtra',\n",
       "       'City_Other Metro Cities', 'City_Thane & Outskirts',\n",
       "       'City_Tier II Cities',\n",
       "       'Specialization_Banking, Investment And Insurance',\n",
       "       'Specialization_Business Administration', 'Specialization_E-Business',\n",
       "       'Specialization_E-COMMERCE', 'Specialization_International Business',\n",
       "       'Specialization_Management_Specializations',\n",
       "       'Specialization_Media and Advertising',\n",
       "       'Specialization_Rural and Agribusiness',\n",
       "       'Specialization_Services Excellence',\n",
       "       'Specialization_Travel and Tourism', 'Lead Source_Olark Chat',\n",
       "       'Lead Source_Reference', 'Lead Source_Social Media',\n",
       "       'Last Activity_Converted to Lead', 'Last Activity_Email Link Clicked',\n",
       "       'Last Activity_Email Opened', 'Last Activity_Form Submitted on Website',\n",
       "       'Last Activity_Page Visited on Website', 'Last Activity_SMS Sent',\n",
       "       'Tags_Interested in other courses',\n",
       "       'Last Notable Activity_Email Link Clicked',\n",
       "       'Last Notable Activity_Email Opened', 'Last Notable Activity_Modified',\n",
       "       'Last Notable Activity_Olark Chat Conversation',\n",
       "       'Last Notable Activity_Page Visited on Website'],\n",
       "      dtype='object')"
      ]
     },
     "execution_count": 120,
     "metadata": {},
     "output_type": "execute_result"
    }
   ],
   "source": [
    "# Variables rejected by RFE\n",
    "X_train.columns[~rfe.support_]"
   ]
  },
  {
   "cell_type": "code",
   "execution_count": 121,
   "id": "6d48c14a",
   "metadata": {},
   "outputs": [
    {
     "data": {
      "text/plain": [
       "Index(['Lead Origin_Lead Add Form', 'Lead Source_Direct Traffic',\n",
       "       'Lead Source_Google', 'Lead Source_Organic Search',\n",
       "       'Lead Source_Referral Sites', 'Lead Source_Welingak Website',\n",
       "       'Last Activity_Email Bounced', 'Last Activity_Olark Chat Conversation',\n",
       "       'Tags_Busy', 'Tags_Closed by Horizzon', 'Tags_Lost to EINS',\n",
       "       'Tags_Not Specified', 'Tags_Ringing',\n",
       "       'Tags_Will revert after reading the email',\n",
       "       'Last Notable Activity_SMS Sent'],\n",
       "      dtype='object')"
      ]
     },
     "execution_count": 121,
     "metadata": {},
     "output_type": "execute_result"
    }
   ],
   "source": [
    "# Extract & Assign the RFE columns to a variable.\n",
    "rfe_col = X_train.columns[rfe.support_]\n",
    "rfe_col"
   ]
  },
  {
   "cell_type": "markdown",
   "id": "e77887fb",
   "metadata": {},
   "source": [
    "#### 1. Building the Model-1"
   ]
  },
  {
   "cell_type": "code",
   "execution_count": 122,
   "id": "734d0d25",
   "metadata": {},
   "outputs": [],
   "source": [
    "#import the VIF object\n",
    "from statsmodels.stats.outliers_influence import variance_inflation_factor"
   ]
  },
  {
   "cell_type": "code",
   "execution_count": 123,
   "id": "9a1277f3",
   "metadata": {},
   "outputs": [
    {
     "data": {
      "text/html": [
       "<div>\n",
       "<style scoped>\n",
       "    .dataframe tbody tr th:only-of-type {\n",
       "        vertical-align: middle;\n",
       "    }\n",
       "\n",
       "    .dataframe tbody tr th {\n",
       "        vertical-align: top;\n",
       "    }\n",
       "\n",
       "    .dataframe thead th {\n",
       "        text-align: right;\n",
       "    }\n",
       "</style>\n",
       "<table border=\"1\" class=\"dataframe\">\n",
       "  <thead>\n",
       "    <tr style=\"text-align: right;\">\n",
       "      <th></th>\n",
       "      <th>Features</th>\n",
       "      <th>VIF</th>\n",
       "    </tr>\n",
       "  </thead>\n",
       "  <tbody>\n",
       "    <tr>\n",
       "      <th>5</th>\n",
       "      <td>Lead Source_Welingak Website</td>\n",
       "      <td>1.35</td>\n",
       "    </tr>\n",
       "    <tr>\n",
       "      <th>9</th>\n",
       "      <td>Tags_Closed by Horizzon</td>\n",
       "      <td>1.22</td>\n",
       "    </tr>\n",
       "    <tr>\n",
       "      <th>8</th>\n",
       "      <td>Tags_Busy</td>\n",
       "      <td>1.09</td>\n",
       "    </tr>\n",
       "    <tr>\n",
       "      <th>6</th>\n",
       "      <td>Last Activity_Email Bounced</td>\n",
       "      <td>1.07</td>\n",
       "    </tr>\n",
       "    <tr>\n",
       "      <th>10</th>\n",
       "      <td>Tags_Lost to EINS</td>\n",
       "      <td>1.05</td>\n",
       "    </tr>\n",
       "    <tr>\n",
       "      <th>4</th>\n",
       "      <td>Lead Source_Referral Sites</td>\n",
       "      <td>1.02</td>\n",
       "    </tr>\n",
       "    <tr>\n",
       "      <th>0</th>\n",
       "      <td>Lead Origin_Lead Add Form</td>\n",
       "      <td>0.75</td>\n",
       "    </tr>\n",
       "    <tr>\n",
       "      <th>3</th>\n",
       "      <td>Lead Source_Organic Search</td>\n",
       "      <td>0.40</td>\n",
       "    </tr>\n",
       "    <tr>\n",
       "      <th>7</th>\n",
       "      <td>Last Activity_Olark Chat Conversation</td>\n",
       "      <td>0.30</td>\n",
       "    </tr>\n",
       "    <tr>\n",
       "      <th>14</th>\n",
       "      <td>Last Notable Activity_SMS Sent</td>\n",
       "      <td>0.24</td>\n",
       "    </tr>\n",
       "    <tr>\n",
       "      <th>1</th>\n",
       "      <td>Lead Source_Direct Traffic</td>\n",
       "      <td>0.19</td>\n",
       "    </tr>\n",
       "    <tr>\n",
       "      <th>2</th>\n",
       "      <td>Lead Source_Google</td>\n",
       "      <td>0.17</td>\n",
       "    </tr>\n",
       "    <tr>\n",
       "      <th>13</th>\n",
       "      <td>Tags_Will revert after reading the email</td>\n",
       "      <td>0.17</td>\n",
       "    </tr>\n",
       "    <tr>\n",
       "      <th>12</th>\n",
       "      <td>Tags_Ringing</td>\n",
       "      <td>0.05</td>\n",
       "    </tr>\n",
       "    <tr>\n",
       "      <th>11</th>\n",
       "      <td>Tags_Not Specified</td>\n",
       "      <td>0.02</td>\n",
       "    </tr>\n",
       "  </tbody>\n",
       "</table>\n",
       "</div>"
      ],
      "text/plain": [
       "                                    Features   VIF\n",
       "5               Lead Source_Welingak Website  1.35\n",
       "9                    Tags_Closed by Horizzon  1.22\n",
       "8                                  Tags_Busy  1.09\n",
       "6                Last Activity_Email Bounced  1.07\n",
       "10                         Tags_Lost to EINS  1.05\n",
       "4                 Lead Source_Referral Sites  1.02\n",
       "0                  Lead Origin_Lead Add Form  0.75\n",
       "3                 Lead Source_Organic Search  0.40\n",
       "7      Last Activity_Olark Chat Conversation  0.30\n",
       "14            Last Notable Activity_SMS Sent  0.24\n",
       "1                 Lead Source_Direct Traffic  0.19\n",
       "2                         Lead Source_Google  0.17\n",
       "13  Tags_Will revert after reading the email  0.17\n",
       "12                              Tags_Ringing  0.05\n",
       "11                        Tags_Not Specified  0.02"
      ]
     },
     "execution_count": 123,
     "metadata": {},
     "output_type": "execute_result"
    }
   ],
   "source": [
    "# Create a dataframe with all predictor variables along with their VIF values\n",
    "vif = pd.DataFrame()\n",
    "vif['Features'] = X_train[rfe_col].columns\n",
    "vif['VIF'] = [variance_inflation_factor(X_train[rfe_col].values, i) for i in range(X_train[rfe_col].shape[1])]\n",
    "vif['VIF'] = round(vif['VIF'], 2)\n",
    "vif = vif.sort_values(by = \"VIF\", ascending = False)\n",
    "vif"
   ]
  },
  {
   "cell_type": "markdown",
   "id": "116667df",
   "metadata": {},
   "source": [
    "##### Creating the 1st fitted model using Statsmodels"
   ]
  },
  {
   "cell_type": "code",
   "execution_count": 124,
   "id": "55af1982",
   "metadata": {},
   "outputs": [],
   "source": [
    "# Import the statsmodels library\n",
    "import statsmodels.api as sm\n",
    "\n",
    "# Adding constant\n",
    "X_train_sm = sm.add_constant(X_train[rfe_col])\n",
    "\n",
    "# Creating 1st fitted model\n",
    "log_mod_1 = sm.GLM(y_train,X_train_sm, family = sm.families.Binomial())\n",
    "res1 = log_mod_1.fit()"
   ]
  },
  {
   "cell_type": "code",
   "execution_count": 125,
   "id": "d6386047",
   "metadata": {},
   "outputs": [
    {
     "data": {
      "text/html": [
       "<table class=\"simpletable\">\n",
       "<caption>Generalized Linear Model Regression Results</caption>\n",
       "<tr>\n",
       "  <th>Dep. Variable:</th>       <td>Converted</td>    <th>  No. Observations:  </th>  <td>  6267</td> \n",
       "</tr>\n",
       "<tr>\n",
       "  <th>Model:</th>                  <td>GLM</td>       <th>  Df Residuals:      </th>  <td>  6251</td> \n",
       "</tr>\n",
       "<tr>\n",
       "  <th>Model Family:</th>        <td>Binomial</td>     <th>  Df Model:          </th>  <td>    15</td> \n",
       "</tr>\n",
       "<tr>\n",
       "  <th>Link Function:</th>         <td>Logit</td>      <th>  Scale:             </th> <td>  1.0000</td>\n",
       "</tr>\n",
       "<tr>\n",
       "  <th>Method:</th>                <td>IRLS</td>       <th>  Log-Likelihood:    </th> <td> -1416.1</td>\n",
       "</tr>\n",
       "<tr>\n",
       "  <th>Date:</th>            <td>Tue, 21 Mar 2023</td> <th>  Deviance:          </th> <td>  2832.2</td>\n",
       "</tr>\n",
       "<tr>\n",
       "  <th>Time:</th>                <td>18:11:05</td>     <th>  Pearson chi2:      </th> <td>9.42e+03</td>\n",
       "</tr>\n",
       "<tr>\n",
       "  <th>No. Iterations:</th>          <td>8</td>        <th>  Pseudo R-squ. (CS):</th>  <td>0.5839</td> \n",
       "</tr>\n",
       "<tr>\n",
       "  <th>Covariance Type:</th>     <td>nonrobust</td>    <th>                     </th>     <td> </td>   \n",
       "</tr>\n",
       "</table>\n",
       "<table class=\"simpletable\">\n",
       "<tr>\n",
       "                      <td></td>                        <th>coef</th>     <th>std err</th>      <th>z</th>      <th>P>|z|</th>  <th>[0.025</th>    <th>0.975]</th>  \n",
       "</tr>\n",
       "<tr>\n",
       "  <th>const</th>                                    <td>   -3.7006</td> <td>    0.206</td> <td>  -17.959</td> <td> 0.000</td> <td>   -4.104</td> <td>   -3.297</td>\n",
       "</tr>\n",
       "<tr>\n",
       "  <th>Lead Origin_Lead Add Form</th>                <td>    0.8022</td> <td>    0.441</td> <td>    1.821</td> <td> 0.069</td> <td>   -0.061</td> <td>    1.666</td>\n",
       "</tr>\n",
       "<tr>\n",
       "  <th>Lead Source_Direct Traffic</th>               <td>   -0.6451</td> <td>    0.152</td> <td>   -4.243</td> <td> 0.000</td> <td>   -0.943</td> <td>   -0.347</td>\n",
       "</tr>\n",
       "<tr>\n",
       "  <th>Lead Source_Google</th>                       <td>    0.0089</td> <td>    0.135</td> <td>    0.066</td> <td> 0.948</td> <td>   -0.256</td> <td>    0.273</td>\n",
       "</tr>\n",
       "<tr>\n",
       "  <th>Lead Source_Organic Search</th>               <td>   -0.0704</td> <td>    0.175</td> <td>   -0.403</td> <td> 0.687</td> <td>   -0.413</td> <td>    0.272</td>\n",
       "</tr>\n",
       "<tr>\n",
       "  <th>Lead Source_Referral Sites</th>               <td>   -0.3847</td> <td>    0.441</td> <td>   -0.873</td> <td> 0.383</td> <td>   -1.249</td> <td>    0.479</td>\n",
       "</tr>\n",
       "<tr>\n",
       "  <th>Lead Source_Welingak Website</th>             <td>    4.2159</td> <td>    1.105</td> <td>    3.817</td> <td> 0.000</td> <td>    2.051</td> <td>    6.381</td>\n",
       "</tr>\n",
       "<tr>\n",
       "  <th>Last Activity_Email Bounced</th>              <td>   -1.4205</td> <td>    0.418</td> <td>   -3.396</td> <td> 0.001</td> <td>   -2.240</td> <td>   -0.601</td>\n",
       "</tr>\n",
       "<tr>\n",
       "  <th>Last Activity_Olark Chat Conversation</th>    <td>   -1.7121</td> <td>    0.229</td> <td>   -7.483</td> <td> 0.000</td> <td>   -2.161</td> <td>   -1.264</td>\n",
       "</tr>\n",
       "<tr>\n",
       "  <th>Tags_Busy</th>                                <td>    2.9959</td> <td>    0.267</td> <td>   11.211</td> <td> 0.000</td> <td>    2.472</td> <td>    3.520</td>\n",
       "</tr>\n",
       "<tr>\n",
       "  <th>Tags_Closed by Horizzon</th>                  <td>    9.0151</td> <td>    1.024</td> <td>    8.807</td> <td> 0.000</td> <td>    7.009</td> <td>   11.021</td>\n",
       "</tr>\n",
       "<tr>\n",
       "  <th>Tags_Lost to EINS</th>                        <td>    7.8169</td> <td>    0.619</td> <td>   12.623</td> <td> 0.000</td> <td>    6.603</td> <td>    9.031</td>\n",
       "</tr>\n",
       "<tr>\n",
       "  <th>Tags_Not Specified</th>                       <td>    2.2780</td> <td>    0.180</td> <td>   12.665</td> <td> 0.000</td> <td>    1.925</td> <td>    2.631</td>\n",
       "</tr>\n",
       "<tr>\n",
       "  <th>Tags_Ringing</th>                             <td>   -1.0710</td> <td>    0.274</td> <td>   -3.912</td> <td> 0.000</td> <td>   -1.608</td> <td>   -0.534</td>\n",
       "</tr>\n",
       "<tr>\n",
       "  <th>Tags_Will revert after reading the email</th> <td>    6.8546</td> <td>    0.237</td> <td>   28.886</td> <td> 0.000</td> <td>    6.390</td> <td>    7.320</td>\n",
       "</tr>\n",
       "<tr>\n",
       "  <th>Last Notable Activity_SMS Sent</th>           <td>    2.4855</td> <td>    0.119</td> <td>   20.947</td> <td> 0.000</td> <td>    2.253</td> <td>    2.718</td>\n",
       "</tr>\n",
       "</table>"
      ],
      "text/plain": [
       "<class 'statsmodels.iolib.summary.Summary'>\n",
       "\"\"\"\n",
       "                 Generalized Linear Model Regression Results                  \n",
       "==============================================================================\n",
       "Dep. Variable:              Converted   No. Observations:                 6267\n",
       "Model:                            GLM   Df Residuals:                     6251\n",
       "Model Family:                Binomial   Df Model:                           15\n",
       "Link Function:                  Logit   Scale:                          1.0000\n",
       "Method:                          IRLS   Log-Likelihood:                -1416.1\n",
       "Date:                Tue, 21 Mar 2023   Deviance:                       2832.2\n",
       "Time:                        18:11:05   Pearson chi2:                 9.42e+03\n",
       "No. Iterations:                     8   Pseudo R-squ. (CS):             0.5839\n",
       "Covariance Type:            nonrobust                                         \n",
       "============================================================================================================\n",
       "                                               coef    std err          z      P>|z|      [0.025      0.975]\n",
       "------------------------------------------------------------------------------------------------------------\n",
       "const                                       -3.7006      0.206    -17.959      0.000      -4.104      -3.297\n",
       "Lead Origin_Lead Add Form                    0.8022      0.441      1.821      0.069      -0.061       1.666\n",
       "Lead Source_Direct Traffic                  -0.6451      0.152     -4.243      0.000      -0.943      -0.347\n",
       "Lead Source_Google                           0.0089      0.135      0.066      0.948      -0.256       0.273\n",
       "Lead Source_Organic Search                  -0.0704      0.175     -0.403      0.687      -0.413       0.272\n",
       "Lead Source_Referral Sites                  -0.3847      0.441     -0.873      0.383      -1.249       0.479\n",
       "Lead Source_Welingak Website                 4.2159      1.105      3.817      0.000       2.051       6.381\n",
       "Last Activity_Email Bounced                 -1.4205      0.418     -3.396      0.001      -2.240      -0.601\n",
       "Last Activity_Olark Chat Conversation       -1.7121      0.229     -7.483      0.000      -2.161      -1.264\n",
       "Tags_Busy                                    2.9959      0.267     11.211      0.000       2.472       3.520\n",
       "Tags_Closed by Horizzon                      9.0151      1.024      8.807      0.000       7.009      11.021\n",
       "Tags_Lost to EINS                            7.8169      0.619     12.623      0.000       6.603       9.031\n",
       "Tags_Not Specified                           2.2780      0.180     12.665      0.000       1.925       2.631\n",
       "Tags_Ringing                                -1.0710      0.274     -3.912      0.000      -1.608      -0.534\n",
       "Tags_Will revert after reading the email     6.8546      0.237     28.886      0.000       6.390       7.320\n",
       "Last Notable Activity_SMS Sent               2.4855      0.119     20.947      0.000       2.253       2.718\n",
       "============================================================================================================\n",
       "\"\"\""
      ]
     },
     "execution_count": 125,
     "metadata": {},
     "output_type": "execute_result"
    }
   ],
   "source": [
    "# Summary of the model\n",
    "res1.summary()"
   ]
  },
  {
   "cell_type": "markdown",
   "id": "9153a39a",
   "metadata": {},
   "source": [
    "The p-value of the variable 'Lead Source_Google' is highest and > 0.05, thus it makes sense to drop the variable."
   ]
  },
  {
   "cell_type": "code",
   "execution_count": 126,
   "id": "e605063a",
   "metadata": {},
   "outputs": [],
   "source": [
    "# Dropping 'Lead Source_Google' column\n",
    "rfe_col = rfe_col.drop('Lead Source_Google', 1)"
   ]
  },
  {
   "cell_type": "markdown",
   "id": "97a0f984",
   "metadata": {},
   "source": [
    "#### 2. Building the Model-2"
   ]
  },
  {
   "cell_type": "markdown",
   "id": "bc178021",
   "metadata": {},
   "source": [
    "##### List of  VIF values of predictor variables"
   ]
  },
  {
   "cell_type": "code",
   "execution_count": 127,
   "id": "91d3b010",
   "metadata": {},
   "outputs": [
    {
     "data": {
      "text/html": [
       "<div>\n",
       "<style scoped>\n",
       "    .dataframe tbody tr th:only-of-type {\n",
       "        vertical-align: middle;\n",
       "    }\n",
       "\n",
       "    .dataframe tbody tr th {\n",
       "        vertical-align: top;\n",
       "    }\n",
       "\n",
       "    .dataframe thead th {\n",
       "        text-align: right;\n",
       "    }\n",
       "</style>\n",
       "<table border=\"1\" class=\"dataframe\">\n",
       "  <thead>\n",
       "    <tr style=\"text-align: right;\">\n",
       "      <th></th>\n",
       "      <th>Features</th>\n",
       "      <th>VIF</th>\n",
       "    </tr>\n",
       "  </thead>\n",
       "  <tbody>\n",
       "    <tr>\n",
       "      <th>4</th>\n",
       "      <td>Lead Source_Welingak Website</td>\n",
       "      <td>1.35</td>\n",
       "    </tr>\n",
       "    <tr>\n",
       "      <th>8</th>\n",
       "      <td>Tags_Closed by Horizzon</td>\n",
       "      <td>1.16</td>\n",
       "    </tr>\n",
       "    <tr>\n",
       "      <th>5</th>\n",
       "      <td>Last Activity_Email Bounced</td>\n",
       "      <td>1.06</td>\n",
       "    </tr>\n",
       "    <tr>\n",
       "      <th>7</th>\n",
       "      <td>Tags_Busy</td>\n",
       "      <td>1.05</td>\n",
       "    </tr>\n",
       "    <tr>\n",
       "      <th>9</th>\n",
       "      <td>Tags_Lost to EINS</td>\n",
       "      <td>1.03</td>\n",
       "    </tr>\n",
       "    <tr>\n",
       "      <th>3</th>\n",
       "      <td>Lead Source_Referral Sites</td>\n",
       "      <td>1.01</td>\n",
       "    </tr>\n",
       "    <tr>\n",
       "      <th>0</th>\n",
       "      <td>Lead Origin_Lead Add Form</td>\n",
       "      <td>0.69</td>\n",
       "    </tr>\n",
       "    <tr>\n",
       "      <th>2</th>\n",
       "      <td>Lead Source_Organic Search</td>\n",
       "      <td>0.37</td>\n",
       "    </tr>\n",
       "    <tr>\n",
       "      <th>6</th>\n",
       "      <td>Last Activity_Olark Chat Conversation</td>\n",
       "      <td>0.30</td>\n",
       "    </tr>\n",
       "    <tr>\n",
       "      <th>13</th>\n",
       "      <td>Last Notable Activity_SMS Sent</td>\n",
       "      <td>0.24</td>\n",
       "    </tr>\n",
       "    <tr>\n",
       "      <th>1</th>\n",
       "      <td>Lead Source_Direct Traffic</td>\n",
       "      <td>0.16</td>\n",
       "    </tr>\n",
       "    <tr>\n",
       "      <th>12</th>\n",
       "      <td>Tags_Will revert after reading the email</td>\n",
       "      <td>0.14</td>\n",
       "    </tr>\n",
       "    <tr>\n",
       "      <th>11</th>\n",
       "      <td>Tags_Ringing</td>\n",
       "      <td>0.05</td>\n",
       "    </tr>\n",
       "    <tr>\n",
       "      <th>10</th>\n",
       "      <td>Tags_Not Specified</td>\n",
       "      <td>0.01</td>\n",
       "    </tr>\n",
       "  </tbody>\n",
       "</table>\n",
       "</div>"
      ],
      "text/plain": [
       "                                    Features   VIF\n",
       "4               Lead Source_Welingak Website  1.35\n",
       "8                    Tags_Closed by Horizzon  1.16\n",
       "5                Last Activity_Email Bounced  1.06\n",
       "7                                  Tags_Busy  1.05\n",
       "9                          Tags_Lost to EINS  1.03\n",
       "3                 Lead Source_Referral Sites  1.01\n",
       "0                  Lead Origin_Lead Add Form  0.69\n",
       "2                 Lead Source_Organic Search  0.37\n",
       "6      Last Activity_Olark Chat Conversation  0.30\n",
       "13            Last Notable Activity_SMS Sent  0.24\n",
       "1                 Lead Source_Direct Traffic  0.16\n",
       "12  Tags_Will revert after reading the email  0.14\n",
       "11                              Tags_Ringing  0.05\n",
       "10                        Tags_Not Specified  0.01"
      ]
     },
     "execution_count": 127,
     "metadata": {},
     "output_type": "execute_result"
    }
   ],
   "source": [
    "# Import the VIF object\n",
    "from statsmodels.stats.outliers_influence import variance_inflation_factor\n",
    "\n",
    "# Create dataframe with all the predictor variables along with their VIF values\n",
    "vif = pd.DataFrame()\n",
    "vif['Features'] = X_train[rfe_col].columns\n",
    "vif['VIF'] = [variance_inflation_factor(X_train[rfe_col].values, i) for i in range(X_train[rfe_col].shape[1])]\n",
    "vif['VIF'] = round(vif['VIF'], 2)\n",
    "vif = vif.sort_values(by = \"VIF\", ascending = False)\n",
    "vif"
   ]
  },
  {
   "cell_type": "markdown",
   "id": "76d0fcfe",
   "metadata": {},
   "source": [
    "##### Creating 2nd fitted model using Statsmodels"
   ]
  },
  {
   "cell_type": "code",
   "execution_count": 128,
   "id": "afae243a",
   "metadata": {},
   "outputs": [],
   "source": [
    "# Import the statsmodels library\n",
    "import statsmodels.api as sm\n",
    "\n",
    "# Add a constant\n",
    "X_train_sm = sm.add_constant(X_train[rfe_col])\n",
    "\n",
    "# Creating the second fitted model\n",
    "log_mod_2 = sm.GLM(y_train,X_train_sm, family = sm.families.Binomial())\n",
    "res2 = log_mod_2.fit()"
   ]
  },
  {
   "cell_type": "code",
   "execution_count": 129,
   "id": "20059b56",
   "metadata": {},
   "outputs": [
    {
     "data": {
      "text/html": [
       "<table class=\"simpletable\">\n",
       "<caption>Generalized Linear Model Regression Results</caption>\n",
       "<tr>\n",
       "  <th>Dep. Variable:</th>       <td>Converted</td>    <th>  No. Observations:  </th>  <td>  6267</td> \n",
       "</tr>\n",
       "<tr>\n",
       "  <th>Model:</th>                  <td>GLM</td>       <th>  Df Residuals:      </th>  <td>  6252</td> \n",
       "</tr>\n",
       "<tr>\n",
       "  <th>Model Family:</th>        <td>Binomial</td>     <th>  Df Model:          </th>  <td>    14</td> \n",
       "</tr>\n",
       "<tr>\n",
       "  <th>Link Function:</th>         <td>Logit</td>      <th>  Scale:             </th> <td>  1.0000</td>\n",
       "</tr>\n",
       "<tr>\n",
       "  <th>Method:</th>                <td>IRLS</td>       <th>  Log-Likelihood:    </th> <td> -1416.1</td>\n",
       "</tr>\n",
       "<tr>\n",
       "  <th>Date:</th>            <td>Tue, 21 Mar 2023</td> <th>  Deviance:          </th> <td>  2832.2</td>\n",
       "</tr>\n",
       "<tr>\n",
       "  <th>Time:</th>                <td>18:11:19</td>     <th>  Pearson chi2:      </th> <td>9.43e+03</td>\n",
       "</tr>\n",
       "<tr>\n",
       "  <th>No. Iterations:</th>          <td>8</td>        <th>  Pseudo R-squ. (CS):</th>  <td>0.5839</td> \n",
       "</tr>\n",
       "<tr>\n",
       "  <th>Covariance Type:</th>     <td>nonrobust</td>    <th>                     </th>     <td> </td>   \n",
       "</tr>\n",
       "</table>\n",
       "<table class=\"simpletable\">\n",
       "<tr>\n",
       "                      <td></td>                        <th>coef</th>     <th>std err</th>      <th>z</th>      <th>P>|z|</th>  <th>[0.025</th>    <th>0.975]</th>  \n",
       "</tr>\n",
       "<tr>\n",
       "  <th>const</th>                                    <td>   -3.6945</td> <td>    0.184</td> <td>  -20.110</td> <td> 0.000</td> <td>   -4.055</td> <td>   -3.334</td>\n",
       "</tr>\n",
       "<tr>\n",
       "  <th>Lead Origin_Lead Add Form</th>                <td>    0.7961</td> <td>    0.431</td> <td>    1.848</td> <td> 0.065</td> <td>   -0.048</td> <td>    1.640</td>\n",
       "</tr>\n",
       "<tr>\n",
       "  <th>Lead Source_Direct Traffic</th>               <td>   -0.6509</td> <td>    0.124</td> <td>   -5.251</td> <td> 0.000</td> <td>   -0.894</td> <td>   -0.408</td>\n",
       "</tr>\n",
       "<tr>\n",
       "  <th>Lead Source_Organic Search</th>               <td>   -0.0761</td> <td>    0.152</td> <td>   -0.500</td> <td> 0.617</td> <td>   -0.374</td> <td>    0.222</td>\n",
       "</tr>\n",
       "<tr>\n",
       "  <th>Lead Source_Referral Sites</th>               <td>   -0.3902</td> <td>    0.433</td> <td>   -0.902</td> <td> 0.367</td> <td>   -1.238</td> <td>    0.458</td>\n",
       "</tr>\n",
       "<tr>\n",
       "  <th>Lead Source_Welingak Website</th>             <td>    4.2166</td> <td>    1.105</td> <td>    3.817</td> <td> 0.000</td> <td>    2.052</td> <td>    6.382</td>\n",
       "</tr>\n",
       "<tr>\n",
       "  <th>Last Activity_Email Bounced</th>              <td>   -1.4206</td> <td>    0.418</td> <td>   -3.396</td> <td> 0.001</td> <td>   -2.240</td> <td>   -0.601</td>\n",
       "</tr>\n",
       "<tr>\n",
       "  <th>Last Activity_Olark Chat Conversation</th>    <td>   -1.7154</td> <td>    0.223</td> <td>   -7.687</td> <td> 0.000</td> <td>   -2.153</td> <td>   -1.278</td>\n",
       "</tr>\n",
       "<tr>\n",
       "  <th>Tags_Busy</th>                                <td>    2.9965</td> <td>    0.267</td> <td>   11.220</td> <td> 0.000</td> <td>    2.473</td> <td>    3.520</td>\n",
       "</tr>\n",
       "<tr>\n",
       "  <th>Tags_Closed by Horizzon</th>                  <td>    9.0156</td> <td>    1.024</td> <td>    8.807</td> <td> 0.000</td> <td>    7.009</td> <td>   11.022</td>\n",
       "</tr>\n",
       "<tr>\n",
       "  <th>Tags_Lost to EINS</th>                        <td>    7.8168</td> <td>    0.619</td> <td>   12.623</td> <td> 0.000</td> <td>    6.603</td> <td>    9.030</td>\n",
       "</tr>\n",
       "<tr>\n",
       "  <th>Tags_Not Specified</th>                       <td>    2.2773</td> <td>    0.179</td> <td>   12.687</td> <td> 0.000</td> <td>    1.925</td> <td>    2.629</td>\n",
       "</tr>\n",
       "<tr>\n",
       "  <th>Tags_Ringing</th>                             <td>   -1.0711</td> <td>    0.274</td> <td>   -3.913</td> <td> 0.000</td> <td>   -1.608</td> <td>   -0.535</td>\n",
       "</tr>\n",
       "<tr>\n",
       "  <th>Tags_Will revert after reading the email</th> <td>    6.8549</td> <td>    0.237</td> <td>   28.892</td> <td> 0.000</td> <td>    6.390</td> <td>    7.320</td>\n",
       "</tr>\n",
       "<tr>\n",
       "  <th>Last Notable Activity_SMS Sent</th>           <td>    2.4857</td> <td>    0.119</td> <td>   20.952</td> <td> 0.000</td> <td>    2.253</td> <td>    2.718</td>\n",
       "</tr>\n",
       "</table>"
      ],
      "text/plain": [
       "<class 'statsmodels.iolib.summary.Summary'>\n",
       "\"\"\"\n",
       "                 Generalized Linear Model Regression Results                  \n",
       "==============================================================================\n",
       "Dep. Variable:              Converted   No. Observations:                 6267\n",
       "Model:                            GLM   Df Residuals:                     6252\n",
       "Model Family:                Binomial   Df Model:                           14\n",
       "Link Function:                  Logit   Scale:                          1.0000\n",
       "Method:                          IRLS   Log-Likelihood:                -1416.1\n",
       "Date:                Tue, 21 Mar 2023   Deviance:                       2832.2\n",
       "Time:                        18:11:19   Pearson chi2:                 9.43e+03\n",
       "No. Iterations:                     8   Pseudo R-squ. (CS):             0.5839\n",
       "Covariance Type:            nonrobust                                         \n",
       "============================================================================================================\n",
       "                                               coef    std err          z      P>|z|      [0.025      0.975]\n",
       "------------------------------------------------------------------------------------------------------------\n",
       "const                                       -3.6945      0.184    -20.110      0.000      -4.055      -3.334\n",
       "Lead Origin_Lead Add Form                    0.7961      0.431      1.848      0.065      -0.048       1.640\n",
       "Lead Source_Direct Traffic                  -0.6509      0.124     -5.251      0.000      -0.894      -0.408\n",
       "Lead Source_Organic Search                  -0.0761      0.152     -0.500      0.617      -0.374       0.222\n",
       "Lead Source_Referral Sites                  -0.3902      0.433     -0.902      0.367      -1.238       0.458\n",
       "Lead Source_Welingak Website                 4.2166      1.105      3.817      0.000       2.052       6.382\n",
       "Last Activity_Email Bounced                 -1.4206      0.418     -3.396      0.001      -2.240      -0.601\n",
       "Last Activity_Olark Chat Conversation       -1.7154      0.223     -7.687      0.000      -2.153      -1.278\n",
       "Tags_Busy                                    2.9965      0.267     11.220      0.000       2.473       3.520\n",
       "Tags_Closed by Horizzon                      9.0156      1.024      8.807      0.000       7.009      11.022\n",
       "Tags_Lost to EINS                            7.8168      0.619     12.623      0.000       6.603       9.030\n",
       "Tags_Not Specified                           2.2773      0.179     12.687      0.000       1.925       2.629\n",
       "Tags_Ringing                                -1.0711      0.274     -3.913      0.000      -1.608      -0.535\n",
       "Tags_Will revert after reading the email     6.8549      0.237     28.892      0.000       6.390       7.320\n",
       "Last Notable Activity_SMS Sent               2.4857      0.119     20.952      0.000       2.253       2.718\n",
       "============================================================================================================\n",
       "\"\"\""
      ]
     },
     "execution_count": 129,
     "metadata": {},
     "output_type": "execute_result"
    }
   ],
   "source": [
    "# Summary of the model\n",
    "res2.summary()"
   ]
  },
  {
   "cell_type": "markdown",
   "id": "c2a0baa1",
   "metadata": {},
   "source": [
    "The p-value of the variable 'Lead Source_Organic Search' is highest and > 0.05, thusit makes sense to drop the variable."
   ]
  },
  {
   "cell_type": "code",
   "execution_count": 130,
   "id": "c39488c3",
   "metadata": {},
   "outputs": [],
   "source": [
    "# Dropping 'Lead Source_Organic Search' column\n",
    "rfe_col = rfe_col.drop('Lead Source_Organic Search', 1)"
   ]
  },
  {
   "cell_type": "markdown",
   "id": "8542cd13",
   "metadata": {},
   "source": [
    "#### 3. Building the Model-3"
   ]
  },
  {
   "cell_type": "markdown",
   "id": "9163d6f3",
   "metadata": {},
   "source": [
    "##### List of all the VIF values of predictor variables"
   ]
  },
  {
   "cell_type": "code",
   "execution_count": 131,
   "id": "5be817d2",
   "metadata": {},
   "outputs": [
    {
     "data": {
      "text/html": [
       "<div>\n",
       "<style scoped>\n",
       "    .dataframe tbody tr th:only-of-type {\n",
       "        vertical-align: middle;\n",
       "    }\n",
       "\n",
       "    .dataframe tbody tr th {\n",
       "        vertical-align: top;\n",
       "    }\n",
       "\n",
       "    .dataframe thead th {\n",
       "        text-align: right;\n",
       "    }\n",
       "</style>\n",
       "<table border=\"1\" class=\"dataframe\">\n",
       "  <thead>\n",
       "    <tr style=\"text-align: right;\">\n",
       "      <th></th>\n",
       "      <th>Features</th>\n",
       "      <th>VIF</th>\n",
       "    </tr>\n",
       "  </thead>\n",
       "  <tbody>\n",
       "    <tr>\n",
       "      <th>3</th>\n",
       "      <td>Lead Source_Welingak Website</td>\n",
       "      <td>1.35</td>\n",
       "    </tr>\n",
       "    <tr>\n",
       "      <th>7</th>\n",
       "      <td>Tags_Closed by Horizzon</td>\n",
       "      <td>1.15</td>\n",
       "    </tr>\n",
       "    <tr>\n",
       "      <th>4</th>\n",
       "      <td>Last Activity_Email Bounced</td>\n",
       "      <td>1.05</td>\n",
       "    </tr>\n",
       "    <tr>\n",
       "      <th>6</th>\n",
       "      <td>Tags_Busy</td>\n",
       "      <td>1.04</td>\n",
       "    </tr>\n",
       "    <tr>\n",
       "      <th>8</th>\n",
       "      <td>Tags_Lost to EINS</td>\n",
       "      <td>1.02</td>\n",
       "    </tr>\n",
       "    <tr>\n",
       "      <th>2</th>\n",
       "      <td>Lead Source_Referral Sites</td>\n",
       "      <td>1.01</td>\n",
       "    </tr>\n",
       "    <tr>\n",
       "      <th>0</th>\n",
       "      <td>Lead Origin_Lead Add Form</td>\n",
       "      <td>0.68</td>\n",
       "    </tr>\n",
       "    <tr>\n",
       "      <th>5</th>\n",
       "      <td>Last Activity_Olark Chat Conversation</td>\n",
       "      <td>0.30</td>\n",
       "    </tr>\n",
       "    <tr>\n",
       "      <th>12</th>\n",
       "      <td>Last Notable Activity_SMS Sent</td>\n",
       "      <td>0.24</td>\n",
       "    </tr>\n",
       "    <tr>\n",
       "      <th>1</th>\n",
       "      <td>Lead Source_Direct Traffic</td>\n",
       "      <td>0.15</td>\n",
       "    </tr>\n",
       "    <tr>\n",
       "      <th>11</th>\n",
       "      <td>Tags_Will revert after reading the email</td>\n",
       "      <td>0.13</td>\n",
       "    </tr>\n",
       "    <tr>\n",
       "      <th>10</th>\n",
       "      <td>Tags_Ringing</td>\n",
       "      <td>0.04</td>\n",
       "    </tr>\n",
       "    <tr>\n",
       "      <th>9</th>\n",
       "      <td>Tags_Not Specified</td>\n",
       "      <td>0.01</td>\n",
       "    </tr>\n",
       "  </tbody>\n",
       "</table>\n",
       "</div>"
      ],
      "text/plain": [
       "                                    Features   VIF\n",
       "3               Lead Source_Welingak Website  1.35\n",
       "7                    Tags_Closed by Horizzon  1.15\n",
       "4                Last Activity_Email Bounced  1.05\n",
       "6                                  Tags_Busy  1.04\n",
       "8                          Tags_Lost to EINS  1.02\n",
       "2                 Lead Source_Referral Sites  1.01\n",
       "0                  Lead Origin_Lead Add Form  0.68\n",
       "5      Last Activity_Olark Chat Conversation  0.30\n",
       "12            Last Notable Activity_SMS Sent  0.24\n",
       "1                 Lead Source_Direct Traffic  0.15\n",
       "11  Tags_Will revert after reading the email  0.13\n",
       "10                              Tags_Ringing  0.04\n",
       "9                         Tags_Not Specified  0.01"
      ]
     },
     "execution_count": 131,
     "metadata": {},
     "output_type": "execute_result"
    }
   ],
   "source": [
    "# Import the VIF object\n",
    "from statsmodels.stats.outliers_influence import variance_inflation_factor\n",
    "\n",
    "#create dataframe with all the predictor variables along with their VIF values\n",
    "vif = pd.DataFrame()\n",
    "vif['Features'] = X_train[rfe_col].columns\n",
    "vif['VIF'] = [variance_inflation_factor(X_train[rfe_col].values, i) for i in range(X_train[rfe_col].shape[1])]\n",
    "vif['VIF'] = round(vif['VIF'], 2)\n",
    "vif = vif.sort_values(by = \"VIF\", ascending = False)\n",
    "vif"
   ]
  },
  {
   "cell_type": "markdown",
   "id": "9e902f06",
   "metadata": {},
   "source": [
    "##### Creating 3rd fitted model using Statsmodels"
   ]
  },
  {
   "cell_type": "code",
   "execution_count": 132,
   "id": "706382c6",
   "metadata": {},
   "outputs": [],
   "source": [
    "# Import the statsmodels library\n",
    "import statsmodels.api as sm\n",
    "\n",
    "# Add a constant\n",
    "X_train_sm = sm.add_constant(X_train[rfe_col])\n",
    "\n",
    "# Creating the third fitted model\n",
    "log_mod_3 = sm.GLM(y_train,X_train_sm, family = sm.families.Binomial())\n",
    "res3 = log_mod_3.fit()"
   ]
  },
  {
   "cell_type": "code",
   "execution_count": 133,
   "id": "65182582",
   "metadata": {},
   "outputs": [
    {
     "data": {
      "text/html": [
       "<table class=\"simpletable\">\n",
       "<caption>Generalized Linear Model Regression Results</caption>\n",
       "<tr>\n",
       "  <th>Dep. Variable:</th>       <td>Converted</td>    <th>  No. Observations:  </th>  <td>  6267</td> \n",
       "</tr>\n",
       "<tr>\n",
       "  <th>Model:</th>                  <td>GLM</td>       <th>  Df Residuals:      </th>  <td>  6253</td> \n",
       "</tr>\n",
       "<tr>\n",
       "  <th>Model Family:</th>        <td>Binomial</td>     <th>  Df Model:          </th>  <td>    13</td> \n",
       "</tr>\n",
       "<tr>\n",
       "  <th>Link Function:</th>         <td>Logit</td>      <th>  Scale:             </th> <td>  1.0000</td>\n",
       "</tr>\n",
       "<tr>\n",
       "  <th>Method:</th>                <td>IRLS</td>       <th>  Log-Likelihood:    </th> <td> -1416.2</td>\n",
       "</tr>\n",
       "<tr>\n",
       "  <th>Date:</th>            <td>Tue, 21 Mar 2023</td> <th>  Deviance:          </th> <td>  2832.5</td>\n",
       "</tr>\n",
       "<tr>\n",
       "  <th>Time:</th>                <td>18:11:25</td>     <th>  Pearson chi2:      </th> <td>9.53e+03</td>\n",
       "</tr>\n",
       "<tr>\n",
       "  <th>No. Iterations:</th>          <td>8</td>        <th>  Pseudo R-squ. (CS):</th>  <td>0.5839</td> \n",
       "</tr>\n",
       "<tr>\n",
       "  <th>Covariance Type:</th>     <td>nonrobust</td>    <th>                     </th>     <td> </td>   \n",
       "</tr>\n",
       "</table>\n",
       "<table class=\"simpletable\">\n",
       "<tr>\n",
       "                      <td></td>                        <th>coef</th>     <th>std err</th>      <th>z</th>      <th>P>|z|</th>  <th>[0.025</th>    <th>0.975]</th>  \n",
       "</tr>\n",
       "<tr>\n",
       "  <th>const</th>                                    <td>   -3.7125</td> <td>    0.180</td> <td>  -20.585</td> <td> 0.000</td> <td>   -4.066</td> <td>   -3.359</td>\n",
       "</tr>\n",
       "<tr>\n",
       "  <th>Lead Origin_Lead Add Form</th>                <td>    0.8125</td> <td>    0.430</td> <td>    1.891</td> <td> 0.059</td> <td>   -0.030</td> <td>    1.655</td>\n",
       "</tr>\n",
       "<tr>\n",
       "  <th>Lead Source_Direct Traffic</th>               <td>   -0.6358</td> <td>    0.120</td> <td>   -5.288</td> <td> 0.000</td> <td>   -0.871</td> <td>   -0.400</td>\n",
       "</tr>\n",
       "<tr>\n",
       "  <th>Lead Source_Referral Sites</th>               <td>   -0.3765</td> <td>    0.432</td> <td>   -0.872</td> <td> 0.383</td> <td>   -1.223</td> <td>    0.470</td>\n",
       "</tr>\n",
       "<tr>\n",
       "  <th>Lead Source_Welingak Website</th>             <td>    4.2133</td> <td>    1.105</td> <td>    3.814</td> <td> 0.000</td> <td>    2.048</td> <td>    6.378</td>\n",
       "</tr>\n",
       "<tr>\n",
       "  <th>Last Activity_Email Bounced</th>              <td>   -1.4247</td> <td>    0.418</td> <td>   -3.412</td> <td> 0.001</td> <td>   -2.243</td> <td>   -0.606</td>\n",
       "</tr>\n",
       "<tr>\n",
       "  <th>Last Activity_Olark Chat Conversation</th>    <td>   -1.7070</td> <td>    0.223</td> <td>   -7.668</td> <td> 0.000</td> <td>   -2.143</td> <td>   -1.271</td>\n",
       "</tr>\n",
       "<tr>\n",
       "  <th>Tags_Busy</th>                                <td>    2.9971</td> <td>    0.267</td> <td>   11.220</td> <td> 0.000</td> <td>    2.474</td> <td>    3.521</td>\n",
       "</tr>\n",
       "<tr>\n",
       "  <th>Tags_Closed by Horizzon</th>                  <td>    9.0143</td> <td>    1.024</td> <td>    8.806</td> <td> 0.000</td> <td>    7.008</td> <td>   11.021</td>\n",
       "</tr>\n",
       "<tr>\n",
       "  <th>Tags_Lost to EINS</th>                        <td>    7.8211</td> <td>    0.619</td> <td>   12.633</td> <td> 0.000</td> <td>    6.608</td> <td>    9.035</td>\n",
       "</tr>\n",
       "<tr>\n",
       "  <th>Tags_Not Specified</th>                       <td>    2.2827</td> <td>    0.179</td> <td>   12.737</td> <td> 0.000</td> <td>    1.931</td> <td>    2.634</td>\n",
       "</tr>\n",
       "<tr>\n",
       "  <th>Tags_Ringing</th>                             <td>   -1.0689</td> <td>    0.274</td> <td>   -3.905</td> <td> 0.000</td> <td>   -1.605</td> <td>   -0.532</td>\n",
       "</tr>\n",
       "<tr>\n",
       "  <th>Tags_Will revert after reading the email</th> <td>    6.8573</td> <td>    0.237</td> <td>   28.901</td> <td> 0.000</td> <td>    6.392</td> <td>    7.322</td>\n",
       "</tr>\n",
       "<tr>\n",
       "  <th>Last Notable Activity_SMS Sent</th>           <td>    2.4834</td> <td>    0.119</td> <td>   20.956</td> <td> 0.000</td> <td>    2.251</td> <td>    2.716</td>\n",
       "</tr>\n",
       "</table>"
      ],
      "text/plain": [
       "<class 'statsmodels.iolib.summary.Summary'>\n",
       "\"\"\"\n",
       "                 Generalized Linear Model Regression Results                  \n",
       "==============================================================================\n",
       "Dep. Variable:              Converted   No. Observations:                 6267\n",
       "Model:                            GLM   Df Residuals:                     6253\n",
       "Model Family:                Binomial   Df Model:                           13\n",
       "Link Function:                  Logit   Scale:                          1.0000\n",
       "Method:                          IRLS   Log-Likelihood:                -1416.2\n",
       "Date:                Tue, 21 Mar 2023   Deviance:                       2832.5\n",
       "Time:                        18:11:25   Pearson chi2:                 9.53e+03\n",
       "No. Iterations:                     8   Pseudo R-squ. (CS):             0.5839\n",
       "Covariance Type:            nonrobust                                         \n",
       "============================================================================================================\n",
       "                                               coef    std err          z      P>|z|      [0.025      0.975]\n",
       "------------------------------------------------------------------------------------------------------------\n",
       "const                                       -3.7125      0.180    -20.585      0.000      -4.066      -3.359\n",
       "Lead Origin_Lead Add Form                    0.8125      0.430      1.891      0.059      -0.030       1.655\n",
       "Lead Source_Direct Traffic                  -0.6358      0.120     -5.288      0.000      -0.871      -0.400\n",
       "Lead Source_Referral Sites                  -0.3765      0.432     -0.872      0.383      -1.223       0.470\n",
       "Lead Source_Welingak Website                 4.2133      1.105      3.814      0.000       2.048       6.378\n",
       "Last Activity_Email Bounced                 -1.4247      0.418     -3.412      0.001      -2.243      -0.606\n",
       "Last Activity_Olark Chat Conversation       -1.7070      0.223     -7.668      0.000      -2.143      -1.271\n",
       "Tags_Busy                                    2.9971      0.267     11.220      0.000       2.474       3.521\n",
       "Tags_Closed by Horizzon                      9.0143      1.024      8.806      0.000       7.008      11.021\n",
       "Tags_Lost to EINS                            7.8211      0.619     12.633      0.000       6.608       9.035\n",
       "Tags_Not Specified                           2.2827      0.179     12.737      0.000       1.931       2.634\n",
       "Tags_Ringing                                -1.0689      0.274     -3.905      0.000      -1.605      -0.532\n",
       "Tags_Will revert after reading the email     6.8573      0.237     28.901      0.000       6.392       7.322\n",
       "Last Notable Activity_SMS Sent               2.4834      0.119     20.956      0.000       2.251       2.716\n",
       "============================================================================================================\n",
       "\"\"\""
      ]
     },
     "execution_count": 133,
     "metadata": {},
     "output_type": "execute_result"
    }
   ],
   "source": [
    "# Summary of model\n",
    "res3.summary()"
   ]
  },
  {
   "cell_type": "markdown",
   "id": "c9aaf5a2",
   "metadata": {},
   "source": [
    "The p-value of the variable 'Lead Source_Referral Sites' is highest and > 0.05 , thus it makes sense to drop the variable."
   ]
  },
  {
   "cell_type": "code",
   "execution_count": 134,
   "id": "461fb398",
   "metadata": {},
   "outputs": [],
   "source": [
    "# Drop 'Lead Source_Referral Sites' column\n",
    "rfe_col = rfe_col.drop('Lead Source_Referral Sites', 1)"
   ]
  },
  {
   "cell_type": "markdown",
   "id": "a2a5b768",
   "metadata": {},
   "source": [
    "#### 4. Building the Model-4"
   ]
  },
  {
   "cell_type": "markdown",
   "id": "79b804f9",
   "metadata": {},
   "source": [
    "##### List of all the VIF values of predictor variables"
   ]
  },
  {
   "cell_type": "code",
   "execution_count": 135,
   "id": "f28f4514",
   "metadata": {},
   "outputs": [
    {
     "data": {
      "text/html": [
       "<div>\n",
       "<style scoped>\n",
       "    .dataframe tbody tr th:only-of-type {\n",
       "        vertical-align: middle;\n",
       "    }\n",
       "\n",
       "    .dataframe tbody tr th {\n",
       "        vertical-align: top;\n",
       "    }\n",
       "\n",
       "    .dataframe thead th {\n",
       "        text-align: right;\n",
       "    }\n",
       "</style>\n",
       "<table border=\"1\" class=\"dataframe\">\n",
       "  <thead>\n",
       "    <tr style=\"text-align: right;\">\n",
       "      <th></th>\n",
       "      <th>Features</th>\n",
       "      <th>VIF</th>\n",
       "    </tr>\n",
       "  </thead>\n",
       "  <tbody>\n",
       "    <tr>\n",
       "      <th>2</th>\n",
       "      <td>Lead Source_Welingak Website</td>\n",
       "      <td>1.35</td>\n",
       "    </tr>\n",
       "    <tr>\n",
       "      <th>6</th>\n",
       "      <td>Tags_Closed by Horizzon</td>\n",
       "      <td>1.15</td>\n",
       "    </tr>\n",
       "    <tr>\n",
       "      <th>3</th>\n",
       "      <td>Last Activity_Email Bounced</td>\n",
       "      <td>1.05</td>\n",
       "    </tr>\n",
       "    <tr>\n",
       "      <th>5</th>\n",
       "      <td>Tags_Busy</td>\n",
       "      <td>1.04</td>\n",
       "    </tr>\n",
       "    <tr>\n",
       "      <th>7</th>\n",
       "      <td>Tags_Lost to EINS</td>\n",
       "      <td>1.02</td>\n",
       "    </tr>\n",
       "    <tr>\n",
       "      <th>0</th>\n",
       "      <td>Lead Origin_Lead Add Form</td>\n",
       "      <td>0.68</td>\n",
       "    </tr>\n",
       "    <tr>\n",
       "      <th>4</th>\n",
       "      <td>Last Activity_Olark Chat Conversation</td>\n",
       "      <td>0.30</td>\n",
       "    </tr>\n",
       "    <tr>\n",
       "      <th>11</th>\n",
       "      <td>Last Notable Activity_SMS Sent</td>\n",
       "      <td>0.24</td>\n",
       "    </tr>\n",
       "    <tr>\n",
       "      <th>1</th>\n",
       "      <td>Lead Source_Direct Traffic</td>\n",
       "      <td>0.15</td>\n",
       "    </tr>\n",
       "    <tr>\n",
       "      <th>10</th>\n",
       "      <td>Tags_Will revert after reading the email</td>\n",
       "      <td>0.13</td>\n",
       "    </tr>\n",
       "    <tr>\n",
       "      <th>9</th>\n",
       "      <td>Tags_Ringing</td>\n",
       "      <td>0.04</td>\n",
       "    </tr>\n",
       "    <tr>\n",
       "      <th>8</th>\n",
       "      <td>Tags_Not Specified</td>\n",
       "      <td>0.01</td>\n",
       "    </tr>\n",
       "  </tbody>\n",
       "</table>\n",
       "</div>"
      ],
      "text/plain": [
       "                                    Features   VIF\n",
       "2               Lead Source_Welingak Website  1.35\n",
       "6                    Tags_Closed by Horizzon  1.15\n",
       "3                Last Activity_Email Bounced  1.05\n",
       "5                                  Tags_Busy  1.04\n",
       "7                          Tags_Lost to EINS  1.02\n",
       "0                  Lead Origin_Lead Add Form  0.68\n",
       "4      Last Activity_Olark Chat Conversation  0.30\n",
       "11            Last Notable Activity_SMS Sent  0.24\n",
       "1                 Lead Source_Direct Traffic  0.15\n",
       "10  Tags_Will revert after reading the email  0.13\n",
       "9                               Tags_Ringing  0.04\n",
       "8                         Tags_Not Specified  0.01"
      ]
     },
     "execution_count": 135,
     "metadata": {},
     "output_type": "execute_result"
    }
   ],
   "source": [
    "# Import the VIF object\n",
    "from statsmodels.stats.outliers_influence import variance_inflation_factor\n",
    "\n",
    "# Create dataframe with all the predictor variables along with their VIF values\n",
    "vif = pd.DataFrame()\n",
    "vif['Features'] = X_train[rfe_col].columns\n",
    "vif['VIF'] = [variance_inflation_factor(X_train[rfe_col].values, i) for i in range(X_train[rfe_col].shape[1])]\n",
    "vif['VIF'] = round(vif['VIF'], 2)\n",
    "vif = vif.sort_values(by = \"VIF\", ascending = False)\n",
    "vif"
   ]
  },
  {
   "cell_type": "markdown",
   "id": "47ef326d",
   "metadata": {},
   "source": [
    "##### Create 4th fitted model using Statsmodels"
   ]
  },
  {
   "cell_type": "code",
   "execution_count": 136,
   "id": "ba82ac0b",
   "metadata": {},
   "outputs": [],
   "source": [
    "# Import the statsmodels library\n",
    "import statsmodels.api as sm\n",
    "\n",
    "# Add a constant\n",
    "X_train_sm = sm.add_constant(X_train[rfe_col])\n",
    "\n",
    "# Creating the fourth fitted model\n",
    "log_mod_4 = sm.GLM(y_train,X_train_sm, family = sm.families.Binomial())\n",
    "res4 = log_mod_4.fit()"
   ]
  },
  {
   "cell_type": "code",
   "execution_count": 137,
   "id": "d74d4cc4",
   "metadata": {},
   "outputs": [
    {
     "data": {
      "text/html": [
       "<table class=\"simpletable\">\n",
       "<caption>Generalized Linear Model Regression Results</caption>\n",
       "<tr>\n",
       "  <th>Dep. Variable:</th>       <td>Converted</td>    <th>  No. Observations:  </th>  <td>  6267</td> \n",
       "</tr>\n",
       "<tr>\n",
       "  <th>Model:</th>                  <td>GLM</td>       <th>  Df Residuals:      </th>  <td>  6254</td> \n",
       "</tr>\n",
       "<tr>\n",
       "  <th>Model Family:</th>        <td>Binomial</td>     <th>  Df Model:          </th>  <td>    12</td> \n",
       "</tr>\n",
       "<tr>\n",
       "  <th>Link Function:</th>         <td>Logit</td>      <th>  Scale:             </th> <td>  1.0000</td>\n",
       "</tr>\n",
       "<tr>\n",
       "  <th>Method:</th>                <td>IRLS</td>       <th>  Log-Likelihood:    </th> <td> -1416.6</td>\n",
       "</tr>\n",
       "<tr>\n",
       "  <th>Date:</th>            <td>Tue, 21 Mar 2023</td> <th>  Deviance:          </th> <td>  2833.3</td>\n",
       "</tr>\n",
       "<tr>\n",
       "  <th>Time:</th>                <td>18:11:30</td>     <th>  Pearson chi2:      </th> <td>9.54e+03</td>\n",
       "</tr>\n",
       "<tr>\n",
       "  <th>No. Iterations:</th>          <td>8</td>        <th>  Pseudo R-squ. (CS):</th>  <td>0.5838</td> \n",
       "</tr>\n",
       "<tr>\n",
       "  <th>Covariance Type:</th>     <td>nonrobust</td>    <th>                     </th>     <td> </td>   \n",
       "</tr>\n",
       "</table>\n",
       "<table class=\"simpletable\">\n",
       "<tr>\n",
       "                      <td></td>                        <th>coef</th>     <th>std err</th>      <th>z</th>      <th>P>|z|</th>  <th>[0.025</th>    <th>0.975]</th>  \n",
       "</tr>\n",
       "<tr>\n",
       "  <th>const</th>                                    <td>   -3.7263</td> <td>    0.180</td> <td>  -20.713</td> <td> 0.000</td> <td>   -4.079</td> <td>   -3.374</td>\n",
       "</tr>\n",
       "<tr>\n",
       "  <th>Lead Origin_Lead Add Form</th>                <td>    0.8195</td> <td>    0.429</td> <td>    1.908</td> <td> 0.056</td> <td>   -0.022</td> <td>    1.661</td>\n",
       "</tr>\n",
       "<tr>\n",
       "  <th>Lead Source_Direct Traffic</th>               <td>   -0.6284</td> <td>    0.120</td> <td>   -5.238</td> <td> 0.000</td> <td>   -0.864</td> <td>   -0.393</td>\n",
       "</tr>\n",
       "<tr>\n",
       "  <th>Lead Source_Welingak Website</th>             <td>    4.2140</td> <td>    1.105</td> <td>    3.815</td> <td> 0.000</td> <td>    2.049</td> <td>    6.379</td>\n",
       "</tr>\n",
       "<tr>\n",
       "  <th>Last Activity_Email Bounced</th>              <td>   -1.4218</td> <td>    0.417</td> <td>   -3.406</td> <td> 0.001</td> <td>   -2.240</td> <td>   -0.604</td>\n",
       "</tr>\n",
       "<tr>\n",
       "  <th>Last Activity_Olark Chat Conversation</th>    <td>   -1.7035</td> <td>    0.223</td> <td>   -7.644</td> <td> 0.000</td> <td>   -2.140</td> <td>   -1.267</td>\n",
       "</tr>\n",
       "<tr>\n",
       "  <th>Tags_Busy</th>                                <td>    3.0036</td> <td>    0.267</td> <td>   11.247</td> <td> 0.000</td> <td>    2.480</td> <td>    3.527</td>\n",
       "</tr>\n",
       "<tr>\n",
       "  <th>Tags_Closed by Horizzon</th>                  <td>    9.0213</td> <td>    1.024</td> <td>    8.813</td> <td> 0.000</td> <td>    7.015</td> <td>   11.028</td>\n",
       "</tr>\n",
       "<tr>\n",
       "  <th>Tags_Lost to EINS</th>                        <td>    7.8297</td> <td>    0.619</td> <td>   12.647</td> <td> 0.000</td> <td>    6.616</td> <td>    9.043</td>\n",
       "</tr>\n",
       "<tr>\n",
       "  <th>Tags_Not Specified</th>                       <td>    2.2881</td> <td>    0.179</td> <td>   12.769</td> <td> 0.000</td> <td>    1.937</td> <td>    2.639</td>\n",
       "</tr>\n",
       "<tr>\n",
       "  <th>Tags_Ringing</th>                             <td>   -1.0622</td> <td>    0.274</td> <td>   -3.882</td> <td> 0.000</td> <td>   -1.598</td> <td>   -0.526</td>\n",
       "</tr>\n",
       "<tr>\n",
       "  <th>Tags_Will revert after reading the email</th> <td>    6.8608</td> <td>    0.237</td> <td>   28.910</td> <td> 0.000</td> <td>    6.396</td> <td>    7.326</td>\n",
       "</tr>\n",
       "<tr>\n",
       "  <th>Last Notable Activity_SMS Sent</th>           <td>    2.4878</td> <td>    0.118</td> <td>   21.013</td> <td> 0.000</td> <td>    2.256</td> <td>    2.720</td>\n",
       "</tr>\n",
       "</table>"
      ],
      "text/plain": [
       "<class 'statsmodels.iolib.summary.Summary'>\n",
       "\"\"\"\n",
       "                 Generalized Linear Model Regression Results                  \n",
       "==============================================================================\n",
       "Dep. Variable:              Converted   No. Observations:                 6267\n",
       "Model:                            GLM   Df Residuals:                     6254\n",
       "Model Family:                Binomial   Df Model:                           12\n",
       "Link Function:                  Logit   Scale:                          1.0000\n",
       "Method:                          IRLS   Log-Likelihood:                -1416.6\n",
       "Date:                Tue, 21 Mar 2023   Deviance:                       2833.3\n",
       "Time:                        18:11:30   Pearson chi2:                 9.54e+03\n",
       "No. Iterations:                     8   Pseudo R-squ. (CS):             0.5838\n",
       "Covariance Type:            nonrobust                                         \n",
       "============================================================================================================\n",
       "                                               coef    std err          z      P>|z|      [0.025      0.975]\n",
       "------------------------------------------------------------------------------------------------------------\n",
       "const                                       -3.7263      0.180    -20.713      0.000      -4.079      -3.374\n",
       "Lead Origin_Lead Add Form                    0.8195      0.429      1.908      0.056      -0.022       1.661\n",
       "Lead Source_Direct Traffic                  -0.6284      0.120     -5.238      0.000      -0.864      -0.393\n",
       "Lead Source_Welingak Website                 4.2140      1.105      3.815      0.000       2.049       6.379\n",
       "Last Activity_Email Bounced                 -1.4218      0.417     -3.406      0.001      -2.240      -0.604\n",
       "Last Activity_Olark Chat Conversation       -1.7035      0.223     -7.644      0.000      -2.140      -1.267\n",
       "Tags_Busy                                    3.0036      0.267     11.247      0.000       2.480       3.527\n",
       "Tags_Closed by Horizzon                      9.0213      1.024      8.813      0.000       7.015      11.028\n",
       "Tags_Lost to EINS                            7.8297      0.619     12.647      0.000       6.616       9.043\n",
       "Tags_Not Specified                           2.2881      0.179     12.769      0.000       1.937       2.639\n",
       "Tags_Ringing                                -1.0622      0.274     -3.882      0.000      -1.598      -0.526\n",
       "Tags_Will revert after reading the email     6.8608      0.237     28.910      0.000       6.396       7.326\n",
       "Last Notable Activity_SMS Sent               2.4878      0.118     21.013      0.000       2.256       2.720\n",
       "============================================================================================================\n",
       "\"\"\""
      ]
     },
     "execution_count": 137,
     "metadata": {},
     "output_type": "execute_result"
    }
   ],
   "source": [
    "# Summary of model\n",
    "res4.summary()"
   ]
  },
  {
   "cell_type": "markdown",
   "id": "369e7831",
   "metadata": {},
   "source": [
    "The p-value of the variable 'Lead Origin_Lead Add Form' is highest and > permissible limit (0.05) and thus it makes sense to drop the variable."
   ]
  },
  {
   "cell_type": "code",
   "execution_count": 138,
   "id": "503db585",
   "metadata": {},
   "outputs": [],
   "source": [
    "# Drop 'Lead Origin_Lead Add Form' column\n",
    "rfe_col = rfe_col.drop('Lead Origin_Lead Add Form', 1)"
   ]
  },
  {
   "cell_type": "markdown",
   "id": "793c34df",
   "metadata": {},
   "source": [
    "#### 5. Building the Model-5"
   ]
  },
  {
   "cell_type": "markdown",
   "id": "6aa280b4",
   "metadata": {},
   "source": [
    "##### List of all the VIF values of predictor variables"
   ]
  },
  {
   "cell_type": "code",
   "execution_count": 139,
   "id": "99f83086",
   "metadata": {},
   "outputs": [
    {
     "data": {
      "text/html": [
       "<div>\n",
       "<style scoped>\n",
       "    .dataframe tbody tr th:only-of-type {\n",
       "        vertical-align: middle;\n",
       "    }\n",
       "\n",
       "    .dataframe tbody tr th {\n",
       "        vertical-align: top;\n",
       "    }\n",
       "\n",
       "    .dataframe thead th {\n",
       "        text-align: right;\n",
       "    }\n",
       "</style>\n",
       "<table border=\"1\" class=\"dataframe\">\n",
       "  <thead>\n",
       "    <tr style=\"text-align: right;\">\n",
       "      <th></th>\n",
       "      <th>Features</th>\n",
       "      <th>VIF</th>\n",
       "    </tr>\n",
       "  </thead>\n",
       "  <tbody>\n",
       "    <tr>\n",
       "      <th>1</th>\n",
       "      <td>Lead Source_Welingak Website</td>\n",
       "      <td>1.05</td>\n",
       "    </tr>\n",
       "    <tr>\n",
       "      <th>2</th>\n",
       "      <td>Last Activity_Email Bounced</td>\n",
       "      <td>1.05</td>\n",
       "    </tr>\n",
       "    <tr>\n",
       "      <th>4</th>\n",
       "      <td>Tags_Busy</td>\n",
       "      <td>1.04</td>\n",
       "    </tr>\n",
       "    <tr>\n",
       "      <th>6</th>\n",
       "      <td>Tags_Lost to EINS</td>\n",
       "      <td>1.02</td>\n",
       "    </tr>\n",
       "    <tr>\n",
       "      <th>5</th>\n",
       "      <td>Tags_Closed by Horizzon</td>\n",
       "      <td>1.01</td>\n",
       "    </tr>\n",
       "    <tr>\n",
       "      <th>3</th>\n",
       "      <td>Last Activity_Olark Chat Conversation</td>\n",
       "      <td>0.30</td>\n",
       "    </tr>\n",
       "    <tr>\n",
       "      <th>10</th>\n",
       "      <td>Last Notable Activity_SMS Sent</td>\n",
       "      <td>0.24</td>\n",
       "    </tr>\n",
       "    <tr>\n",
       "      <th>0</th>\n",
       "      <td>Lead Source_Direct Traffic</td>\n",
       "      <td>0.15</td>\n",
       "    </tr>\n",
       "    <tr>\n",
       "      <th>9</th>\n",
       "      <td>Tags_Will revert after reading the email</td>\n",
       "      <td>0.12</td>\n",
       "    </tr>\n",
       "    <tr>\n",
       "      <th>8</th>\n",
       "      <td>Tags_Ringing</td>\n",
       "      <td>0.04</td>\n",
       "    </tr>\n",
       "    <tr>\n",
       "      <th>7</th>\n",
       "      <td>Tags_Not Specified</td>\n",
       "      <td>0.01</td>\n",
       "    </tr>\n",
       "  </tbody>\n",
       "</table>\n",
       "</div>"
      ],
      "text/plain": [
       "                                    Features   VIF\n",
       "1               Lead Source_Welingak Website  1.05\n",
       "2                Last Activity_Email Bounced  1.05\n",
       "4                                  Tags_Busy  1.04\n",
       "6                          Tags_Lost to EINS  1.02\n",
       "5                    Tags_Closed by Horizzon  1.01\n",
       "3      Last Activity_Olark Chat Conversation  0.30\n",
       "10            Last Notable Activity_SMS Sent  0.24\n",
       "0                 Lead Source_Direct Traffic  0.15\n",
       "9   Tags_Will revert after reading the email  0.12\n",
       "8                               Tags_Ringing  0.04\n",
       "7                         Tags_Not Specified  0.01"
      ]
     },
     "execution_count": 139,
     "metadata": {},
     "output_type": "execute_result"
    }
   ],
   "source": [
    "# Import the VIF object\n",
    "from statsmodels.stats.outliers_influence import variance_inflation_factor\n",
    "\n",
    "# Create a dataframe with all the predictor variables along with their VIF values\n",
    "vif = pd.DataFrame()\n",
    "vif['Features'] = X_train[rfe_col].columns\n",
    "vif['VIF'] = [variance_inflation_factor(X_train[rfe_col].values, i) for i in range(X_train[rfe_col].shape[1])]\n",
    "vif['VIF'] = round(vif['VIF'], 2)\n",
    "vif = vif.sort_values(by = \"VIF\", ascending = False)\n",
    "vif"
   ]
  },
  {
   "cell_type": "markdown",
   "id": "1478696d",
   "metadata": {},
   "source": [
    "##### Create 5th fitted model using Statsmodels"
   ]
  },
  {
   "cell_type": "code",
   "execution_count": 140,
   "id": "27e555c5",
   "metadata": {},
   "outputs": [],
   "source": [
    "# Import the statsmodels library\n",
    "import statsmodels.api as sm\n",
    "\n",
    "# Add a constant\n",
    "X_train_sm = sm.add_constant(X_train[rfe_col])\n",
    "\n",
    "# Creating the first fitted model\n",
    "log_mod_5 = sm.GLM(y_train,X_train_sm, family = sm.families.Binomial())\n",
    "res5 = log_mod_5.fit()"
   ]
  },
  {
   "cell_type": "code",
   "execution_count": 141,
   "id": "b53cea7d",
   "metadata": {},
   "outputs": [
    {
     "data": {
      "text/html": [
       "<table class=\"simpletable\">\n",
       "<caption>Generalized Linear Model Regression Results</caption>\n",
       "<tr>\n",
       "  <th>Dep. Variable:</th>       <td>Converted</td>    <th>  No. Observations:  </th>  <td>  6267</td> \n",
       "</tr>\n",
       "<tr>\n",
       "  <th>Model:</th>                  <td>GLM</td>       <th>  Df Residuals:      </th>  <td>  6255</td> \n",
       "</tr>\n",
       "<tr>\n",
       "  <th>Model Family:</th>        <td>Binomial</td>     <th>  Df Model:          </th>  <td>    11</td> \n",
       "</tr>\n",
       "<tr>\n",
       "  <th>Link Function:</th>         <td>Logit</td>      <th>  Scale:             </th> <td>  1.0000</td>\n",
       "</tr>\n",
       "<tr>\n",
       "  <th>Method:</th>                <td>IRLS</td>       <th>  Log-Likelihood:    </th> <td> -1418.6</td>\n",
       "</tr>\n",
       "<tr>\n",
       "  <th>Date:</th>            <td>Tue, 21 Mar 2023</td> <th>  Deviance:          </th> <td>  2837.1</td>\n",
       "</tr>\n",
       "<tr>\n",
       "  <th>Time:</th>                <td>18:11:35</td>     <th>  Pearson chi2:      </th> <td>1.01e+04</td>\n",
       "</tr>\n",
       "<tr>\n",
       "  <th>No. Iterations:</th>          <td>8</td>        <th>  Pseudo R-squ. (CS):</th>  <td>0.5835</td> \n",
       "</tr>\n",
       "<tr>\n",
       "  <th>Covariance Type:</th>     <td>nonrobust</td>    <th>                     </th>     <td> </td>   \n",
       "</tr>\n",
       "</table>\n",
       "<table class=\"simpletable\">\n",
       "<tr>\n",
       "                      <td></td>                        <th>coef</th>     <th>std err</th>      <th>z</th>      <th>P>|z|</th>  <th>[0.025</th>    <th>0.975]</th>  \n",
       "</tr>\n",
       "<tr>\n",
       "  <th>const</th>                                    <td>   -3.7108</td> <td>    0.179</td> <td>  -20.683</td> <td> 0.000</td> <td>   -4.062</td> <td>   -3.359</td>\n",
       "</tr>\n",
       "<tr>\n",
       "  <th>Lead Source_Direct Traffic</th>               <td>   -0.6530</td> <td>    0.120</td> <td>   -5.453</td> <td> 0.000</td> <td>   -0.888</td> <td>   -0.418</td>\n",
       "</tr>\n",
       "<tr>\n",
       "  <th>Lead Source_Welingak Website</th>             <td>    5.0258</td> <td>    1.019</td> <td>    4.930</td> <td> 0.000</td> <td>    3.028</td> <td>    7.024</td>\n",
       "</tr>\n",
       "<tr>\n",
       "  <th>Last Activity_Email Bounced</th>              <td>   -1.4331</td> <td>    0.420</td> <td>   -3.409</td> <td> 0.001</td> <td>   -2.257</td> <td>   -0.609</td>\n",
       "</tr>\n",
       "<tr>\n",
       "  <th>Last Activity_Olark Chat Conversation</th>    <td>   -1.7220</td> <td>    0.224</td> <td>   -7.687</td> <td> 0.000</td> <td>   -2.161</td> <td>   -1.283</td>\n",
       "</tr>\n",
       "<tr>\n",
       "  <th>Tags_Busy</th>                                <td>    2.9903</td> <td>    0.267</td> <td>   11.200</td> <td> 0.000</td> <td>    2.467</td> <td>    3.514</td>\n",
       "</tr>\n",
       "<tr>\n",
       "  <th>Tags_Closed by Horizzon</th>                  <td>    9.2285</td> <td>    1.020</td> <td>    9.051</td> <td> 0.000</td> <td>    7.230</td> <td>   11.227</td>\n",
       "</tr>\n",
       "<tr>\n",
       "  <th>Tags_Lost to EINS</th>                        <td>    7.8543</td> <td>    0.619</td> <td>   12.696</td> <td> 0.000</td> <td>    6.642</td> <td>    9.067</td>\n",
       "</tr>\n",
       "<tr>\n",
       "  <th>Tags_Not Specified</th>                       <td>    2.2801</td> <td>    0.179</td> <td>   12.743</td> <td> 0.000</td> <td>    1.929</td> <td>    2.631</td>\n",
       "</tr>\n",
       "<tr>\n",
       "  <th>Tags_Ringing</th>                             <td>   -1.0360</td> <td>    0.272</td> <td>   -3.805</td> <td> 0.000</td> <td>   -1.570</td> <td>   -0.502</td>\n",
       "</tr>\n",
       "<tr>\n",
       "  <th>Tags_Will revert after reading the email</th> <td>    6.9142</td> <td>    0.236</td> <td>   29.265</td> <td> 0.000</td> <td>    6.451</td> <td>    7.377</td>\n",
       "</tr>\n",
       "<tr>\n",
       "  <th>Last Notable Activity_SMS Sent</th>           <td>    2.4994</td> <td>    0.118</td> <td>   21.140</td> <td> 0.000</td> <td>    2.268</td> <td>    2.731</td>\n",
       "</tr>\n",
       "</table>"
      ],
      "text/plain": [
       "<class 'statsmodels.iolib.summary.Summary'>\n",
       "\"\"\"\n",
       "                 Generalized Linear Model Regression Results                  \n",
       "==============================================================================\n",
       "Dep. Variable:              Converted   No. Observations:                 6267\n",
       "Model:                            GLM   Df Residuals:                     6255\n",
       "Model Family:                Binomial   Df Model:                           11\n",
       "Link Function:                  Logit   Scale:                          1.0000\n",
       "Method:                          IRLS   Log-Likelihood:                -1418.6\n",
       "Date:                Tue, 21 Mar 2023   Deviance:                       2837.1\n",
       "Time:                        18:11:35   Pearson chi2:                 1.01e+04\n",
       "No. Iterations:                     8   Pseudo R-squ. (CS):             0.5835\n",
       "Covariance Type:            nonrobust                                         \n",
       "============================================================================================================\n",
       "                                               coef    std err          z      P>|z|      [0.025      0.975]\n",
       "------------------------------------------------------------------------------------------------------------\n",
       "const                                       -3.7108      0.179    -20.683      0.000      -4.062      -3.359\n",
       "Lead Source_Direct Traffic                  -0.6530      0.120     -5.453      0.000      -0.888      -0.418\n",
       "Lead Source_Welingak Website                 5.0258      1.019      4.930      0.000       3.028       7.024\n",
       "Last Activity_Email Bounced                 -1.4331      0.420     -3.409      0.001      -2.257      -0.609\n",
       "Last Activity_Olark Chat Conversation       -1.7220      0.224     -7.687      0.000      -2.161      -1.283\n",
       "Tags_Busy                                    2.9903      0.267     11.200      0.000       2.467       3.514\n",
       "Tags_Closed by Horizzon                      9.2285      1.020      9.051      0.000       7.230      11.227\n",
       "Tags_Lost to EINS                            7.8543      0.619     12.696      0.000       6.642       9.067\n",
       "Tags_Not Specified                           2.2801      0.179     12.743      0.000       1.929       2.631\n",
       "Tags_Ringing                                -1.0360      0.272     -3.805      0.000      -1.570      -0.502\n",
       "Tags_Will revert after reading the email     6.9142      0.236     29.265      0.000       6.451       7.377\n",
       "Last Notable Activity_SMS Sent               2.4994      0.118     21.140      0.000       2.268       2.731\n",
       "============================================================================================================\n",
       "\"\"\""
      ]
     },
     "execution_count": 141,
     "metadata": {},
     "output_type": "execute_result"
    }
   ],
   "source": [
    "# Summary of model\n",
    "res5.summary()"
   ]
  },
  {
   "cell_type": "markdown",
   "id": "dff31994",
   "metadata": {},
   "source": [
    "As we can see the VIF < 5 for all variables and p-value < 0.05 for all variables hence we can say that Model-5 looks to be our best model."
   ]
  },
  {
   "cell_type": "markdown",
   "id": "5875510b",
   "metadata": {},
   "source": [
    "#### 4. Deriving Probabilities, Predictions and Lead Score on Train Data"
   ]
  },
  {
   "cell_type": "code",
   "execution_count": 142,
   "id": "7f5e51d2",
   "metadata": {},
   "outputs": [
    {
     "data": {
      "text/plain": [
       "9196    0.095568\n",
       "4696    0.052130\n",
       "3274    0.744345\n",
       "2164    0.004352\n",
       "1667    0.960961\n",
       "7024    0.192990\n",
       "8018    0.040986\n",
       "778     0.192990\n",
       "6942    0.004352\n",
       "4440    0.110690\n",
       "dtype: float64"
      ]
     },
     "execution_count": 142,
     "metadata": {},
     "output_type": "execute_result"
    }
   ],
   "source": [
    "# Getting predicted values on train data\n",
    "y_train_pred = res5.predict(X_train_sm)\n",
    "y_train_pred[:10]"
   ]
  },
  {
   "cell_type": "code",
   "execution_count": 143,
   "id": "71348a09",
   "metadata": {},
   "outputs": [
    {
     "data": {
      "text/html": [
       "<div>\n",
       "<style scoped>\n",
       "    .dataframe tbody tr th:only-of-type {\n",
       "        vertical-align: middle;\n",
       "    }\n",
       "\n",
       "    .dataframe tbody tr th {\n",
       "        vertical-align: top;\n",
       "    }\n",
       "\n",
       "    .dataframe thead th {\n",
       "        text-align: right;\n",
       "    }\n",
       "</style>\n",
       "<table border=\"1\" class=\"dataframe\">\n",
       "  <thead>\n",
       "    <tr style=\"text-align: right;\">\n",
       "      <th></th>\n",
       "      <th>Converted</th>\n",
       "      <th>Converted_prob</th>\n",
       "      <th>Prospect ID</th>\n",
       "    </tr>\n",
       "  </thead>\n",
       "  <tbody>\n",
       "    <tr>\n",
       "      <th>9196</th>\n",
       "      <td>1</td>\n",
       "      <td>0.095568</td>\n",
       "      <td>9196</td>\n",
       "    </tr>\n",
       "    <tr>\n",
       "      <th>4696</th>\n",
       "      <td>0</td>\n",
       "      <td>0.052130</td>\n",
       "      <td>4696</td>\n",
       "    </tr>\n",
       "    <tr>\n",
       "      <th>3274</th>\n",
       "      <td>0</td>\n",
       "      <td>0.744345</td>\n",
       "      <td>3274</td>\n",
       "    </tr>\n",
       "    <tr>\n",
       "      <th>2164</th>\n",
       "      <td>0</td>\n",
       "      <td>0.004352</td>\n",
       "      <td>2164</td>\n",
       "    </tr>\n",
       "    <tr>\n",
       "      <th>1667</th>\n",
       "      <td>1</td>\n",
       "      <td>0.960961</td>\n",
       "      <td>1667</td>\n",
       "    </tr>\n",
       "  </tbody>\n",
       "</table>\n",
       "</div>"
      ],
      "text/plain": [
       "      Converted  Converted_prob  Prospect ID\n",
       "9196          1        0.095568         9196\n",
       "4696          0        0.052130         4696\n",
       "3274          0        0.744345         3274\n",
       "2164          0        0.004352         2164\n",
       "1667          1        0.960961         1667"
      ]
     },
     "execution_count": 143,
     "metadata": {},
     "output_type": "execute_result"
    }
   ],
   "source": [
    "# Create a dataframe that has y_train dataset values and corresponding y_train predicted values as learnt by X_train\n",
    "y_train_pred_final = pd.DataFrame({'Converted':y_train.values, 'Converted_prob':y_train_pred})\n",
    "y_train_pred_final['Prospect ID'] = y_train.index\n",
    "y_train_pred_final.head()"
   ]
  },
  {
   "cell_type": "markdown",
   "id": "ca66bf23",
   "metadata": {},
   "source": [
    "## Lets take 0.5 as cut-off value to decide if a lead will be converted or not"
   ]
  },
  {
   "cell_type": "code",
   "execution_count": 144,
   "id": "f2102e21",
   "metadata": {},
   "outputs": [
    {
     "data": {
      "text/html": [
       "<div>\n",
       "<style scoped>\n",
       "    .dataframe tbody tr th:only-of-type {\n",
       "        vertical-align: middle;\n",
       "    }\n",
       "\n",
       "    .dataframe tbody tr th {\n",
       "        vertical-align: top;\n",
       "    }\n",
       "\n",
       "    .dataframe thead th {\n",
       "        text-align: right;\n",
       "    }\n",
       "</style>\n",
       "<table border=\"1\" class=\"dataframe\">\n",
       "  <thead>\n",
       "    <tr style=\"text-align: right;\">\n",
       "      <th></th>\n",
       "      <th>Converted</th>\n",
       "      <th>Converted_prob</th>\n",
       "      <th>Prospect ID</th>\n",
       "      <th>Predicted</th>\n",
       "    </tr>\n",
       "  </thead>\n",
       "  <tbody>\n",
       "    <tr>\n",
       "      <th>9196</th>\n",
       "      <td>1</td>\n",
       "      <td>0.095568</td>\n",
       "      <td>9196</td>\n",
       "      <td>0</td>\n",
       "    </tr>\n",
       "    <tr>\n",
       "      <th>4696</th>\n",
       "      <td>0</td>\n",
       "      <td>0.052130</td>\n",
       "      <td>4696</td>\n",
       "      <td>0</td>\n",
       "    </tr>\n",
       "    <tr>\n",
       "      <th>3274</th>\n",
       "      <td>0</td>\n",
       "      <td>0.744345</td>\n",
       "      <td>3274</td>\n",
       "      <td>1</td>\n",
       "    </tr>\n",
       "    <tr>\n",
       "      <th>2164</th>\n",
       "      <td>0</td>\n",
       "      <td>0.004352</td>\n",
       "      <td>2164</td>\n",
       "      <td>0</td>\n",
       "    </tr>\n",
       "    <tr>\n",
       "      <th>1667</th>\n",
       "      <td>1</td>\n",
       "      <td>0.960961</td>\n",
       "      <td>1667</td>\n",
       "      <td>1</td>\n",
       "    </tr>\n",
       "  </tbody>\n",
       "</table>\n",
       "</div>"
      ],
      "text/plain": [
       "      Converted  Converted_prob  Prospect ID  Predicted\n",
       "9196          1        0.095568         9196          0\n",
       "4696          0        0.052130         4696          0\n",
       "3274          0        0.744345         3274          1\n",
       "2164          0        0.004352         2164          0\n",
       "1667          1        0.960961         1667          1"
      ]
     },
     "execution_count": 144,
     "metadata": {},
     "output_type": "execute_result"
    }
   ],
   "source": [
    "y_train_pred_final['Predicted'] = y_train_pred_final.Converted_prob.map(lambda x: 1 if x > 0.5 else 0)\n",
    "\n",
    "y_train_pred_final.head()"
   ]
  },
  {
   "cell_type": "markdown",
   "id": "6eec354a",
   "metadata": {},
   "source": [
    "#### 5. Confusion Matrix"
   ]
  },
  {
   "cell_type": "code",
   "execution_count": 145,
   "id": "20f5cdbb",
   "metadata": {},
   "outputs": [],
   "source": [
    "# Import metrics function \n",
    "from sklearn import metrics"
   ]
  },
  {
   "cell_type": "code",
   "execution_count": 146,
   "id": "1d4e848c",
   "metadata": {},
   "outputs": [
    {
     "name": "stdout",
     "output_type": "stream",
     "text": [
      "Confusion Matrix\n",
      "[[3730  152]\n",
      " [ 332 2053]]\n"
     ]
    }
   ],
   "source": [
    "# Confusion matrix \n",
    "confusion = metrics.confusion_matrix(y_train_pred_final.Converted, y_train_pred_final.Predicted )\n",
    "print(\"Confusion Matrix\")\n",
    "print(confusion)"
   ]
  },
  {
   "cell_type": "code",
   "execution_count": 147,
   "id": "14fe6de9",
   "metadata": {},
   "outputs": [
    {
     "name": "stdout",
     "output_type": "stream",
     "text": [
      "0.922770065422052\n"
     ]
    }
   ],
   "source": [
    "# Checking the overall accuracy\n",
    "print(metrics.accuracy_score(y_train_pred_final.Converted, y_train_pred_final.Predicted))"
   ]
  },
  {
   "cell_type": "code",
   "execution_count": 148,
   "id": "648f1eeb",
   "metadata": {},
   "outputs": [
    {
     "name": "stdout",
     "output_type": "stream",
     "text": [
      "True Positive 2053\n",
      "True Negative 3730\n",
      "False Positive 152\n",
      "False Negative 332\n"
     ]
    }
   ],
   "source": [
    "TP = confusion[1,1] # true positive \n",
    "TN = confusion[0,0] # true negatives\n",
    "FP = confusion[0,1] # false positives\n",
    "FN = confusion[1,0] # false negatives\n",
    "\n",
    "print(\"True Positive\", TP)\n",
    "print(\"True Negative\", TN)\n",
    "print(\"False Positive\", FP)\n",
    "print(\"False Negative\", FN)"
   ]
  },
  {
   "cell_type": "code",
   "execution_count": 149,
   "id": "718865c5",
   "metadata": {},
   "outputs": [
    {
     "name": "stdout",
     "output_type": "stream",
     "text": [
      "Specificity\n"
     ]
    },
    {
     "data": {
      "text/plain": [
       "0.9608449252962391"
      ]
     },
     "execution_count": 149,
     "metadata": {},
     "output_type": "execute_result"
    }
   ],
   "source": [
    "# Specificity\n",
    "print(\"Specificity\")\n",
    "TN / float(TN+FP)"
   ]
  },
  {
   "cell_type": "code",
   "execution_count": 150,
   "id": "41b4c10c",
   "metadata": {},
   "outputs": [
    {
     "name": "stdout",
     "output_type": "stream",
     "text": [
      "Sensitivity\n"
     ]
    },
    {
     "data": {
      "text/plain": [
       "0.8607966457023061"
      ]
     },
     "execution_count": 150,
     "metadata": {},
     "output_type": "execute_result"
    }
   ],
   "source": [
    "# Sensitivity\n",
    "print(\"Sensitivity\")\n",
    "TP / float(TP+FN)"
   ]
  },
  {
   "cell_type": "code",
   "execution_count": 151,
   "id": "0ab5fc90",
   "metadata": {},
   "outputs": [
    {
     "name": "stdout",
     "output_type": "stream",
     "text": [
      "Positive predictive value\n",
      "0.9310657596371882\n"
     ]
    }
   ],
   "source": [
    "# Positive predictive value \n",
    "print(\"Positive predictive value\")\n",
    "print (TP / float(TP+FP))"
   ]
  },
  {
   "cell_type": "code",
   "execution_count": 152,
   "id": "92732a5b",
   "metadata": {},
   "outputs": [
    {
     "name": "stdout",
     "output_type": "stream",
     "text": [
      "Negative predictive value\n",
      "0.9182668636139832\n"
     ]
    }
   ],
   "source": [
    "# Negative predictive value\n",
    "print(\"Negative predictive value\")\n",
    "print (TN / float(TN+ FN))"
   ]
  },
  {
   "cell_type": "code",
   "execution_count": 153,
   "id": "23303fba",
   "metadata": {},
   "outputs": [
    {
     "name": "stdout",
     "output_type": "stream",
     "text": [
      "False Postive Rate\n",
      "0.03915507470376095\n"
     ]
    }
   ],
   "source": [
    "# False Postive Rate - predicting conversion when lead do not convert\n",
    "print(\"False Postive Rate\")\n",
    "print(FP/ float(TN+FP))"
   ]
  },
  {
   "cell_type": "markdown",
   "id": "0e12f5e0",
   "metadata": {},
   "source": [
    "#### 6. Plotting ROC Curve"
   ]
  },
  {
   "cell_type": "code",
   "execution_count": 154,
   "id": "2afc2b16",
   "metadata": {},
   "outputs": [],
   "source": [
    "# Create a function for plotting a ROC curve.\n",
    "def plt_roc( actual, probs ):\n",
    "    fpr, tpr, thresholds = metrics.roc_curve( actual, probs,\n",
    "                                              drop_intermediate = False )\n",
    "    auc_score = metrics.roc_auc_score( actual, probs )\n",
    "    plt.figure(figsize=(7, 7))\n",
    "    plt.plot( fpr, tpr, label='ROC curve (area = %0.2f)' % auc_score )\n",
    "    plt.plot([0, 1], [0, 1], 'k--')\n",
    "    plt.ylim([0.0, 1.05])\n",
    "    plt.xlim([0.0, 1.0])\n",
    "    plt.title('Receiver operating characteristic example')\n",
    "    plt.ylabel('True Positive Rate')\n",
    "    plt.xlabel('False Positive Rate or [1 - True Negative Rate]')\n",
    "    plt.legend(loc=\"lower right\")\n",
    "    plt.show()\n",
    "\n",
    "    return None"
   ]
  },
  {
   "cell_type": "code",
   "execution_count": 155,
   "id": "1c6f0f64",
   "metadata": {},
   "outputs": [],
   "source": [
    "# Plot ROC curve for converted and converted probability columns\n",
    "fpr, tpr, thresholds = metrics.roc_curve( y_train_pred_final.Converted, y_train_pred_final.Converted_prob, \n",
    "                                         drop_intermediate = False )"
   ]
  },
  {
   "cell_type": "code",
   "execution_count": 156,
   "id": "248c0a83",
   "metadata": {},
   "outputs": [
    {
     "data": {
      "image/png": "[encoded data removed]",
      "text/plain": [
       "<Figure size 504x504 with 1 Axes>"
      ]
     },
     "metadata": {
      "needs_background": "light"
     },
     "output_type": "display_data"
    }
   ],
   "source": [
    "plt_roc(y_train_pred_final.Converted, y_train_pred_final.Converted_prob)"
   ]
  },
  {
   "cell_type": "markdown",
   "id": "9c67a4a0",
   "metadata": {},
   "source": [
    "We have got a value of 0.96. ROC curve should be a value closer to 1 for a good model. so our value is good"
   ]
  },
  {
   "cell_type": "markdown",
   "id": "aaac9c78",
   "metadata": {},
   "source": [
    "#### 7. Finding Optimal Cut-Off"
   ]
  },
  {
   "cell_type": "code",
   "execution_count": 157,
   "id": "5189569e",
   "metadata": {},
   "outputs": [
    {
     "data": {
      "text/html": [
       "<div>\n",
       "<style scoped>\n",
       "    .dataframe tbody tr th:only-of-type {\n",
       "        vertical-align: middle;\n",
       "    }\n",
       "\n",
       "    .dataframe tbody tr th {\n",
       "        vertical-align: top;\n",
       "    }\n",
       "\n",
       "    .dataframe thead th {\n",
       "        text-align: right;\n",
       "    }\n",
       "</style>\n",
       "<table border=\"1\" class=\"dataframe\">\n",
       "  <thead>\n",
       "    <tr style=\"text-align: right;\">\n",
       "      <th></th>\n",
       "      <th>Converted</th>\n",
       "      <th>Converted_prob</th>\n",
       "      <th>Prospect ID</th>\n",
       "      <th>Predicted</th>\n",
       "      <th>0.0</th>\n",
       "      <th>0.1</th>\n",
       "      <th>0.2</th>\n",
       "      <th>0.3</th>\n",
       "      <th>0.4</th>\n",
       "      <th>0.5</th>\n",
       "      <th>0.6</th>\n",
       "      <th>0.7</th>\n",
       "      <th>0.8</th>\n",
       "      <th>0.9</th>\n",
       "    </tr>\n",
       "  </thead>\n",
       "  <tbody>\n",
       "    <tr>\n",
       "      <th>9196</th>\n",
       "      <td>1</td>\n",
       "      <td>0.095568</td>\n",
       "      <td>9196</td>\n",
       "      <td>0</td>\n",
       "      <td>1</td>\n",
       "      <td>0</td>\n",
       "      <td>0</td>\n",
       "      <td>0</td>\n",
       "      <td>0</td>\n",
       "      <td>0</td>\n",
       "      <td>0</td>\n",
       "      <td>0</td>\n",
       "      <td>0</td>\n",
       "      <td>0</td>\n",
       "    </tr>\n",
       "    <tr>\n",
       "      <th>4696</th>\n",
       "      <td>0</td>\n",
       "      <td>0.052130</td>\n",
       "      <td>4696</td>\n",
       "      <td>0</td>\n",
       "      <td>1</td>\n",
       "      <td>0</td>\n",
       "      <td>0</td>\n",
       "      <td>0</td>\n",
       "      <td>0</td>\n",
       "      <td>0</td>\n",
       "      <td>0</td>\n",
       "      <td>0</td>\n",
       "      <td>0</td>\n",
       "      <td>0</td>\n",
       "    </tr>\n",
       "    <tr>\n",
       "      <th>3274</th>\n",
       "      <td>0</td>\n",
       "      <td>0.744345</td>\n",
       "      <td>3274</td>\n",
       "      <td>1</td>\n",
       "      <td>1</td>\n",
       "      <td>1</td>\n",
       "      <td>1</td>\n",
       "      <td>1</td>\n",
       "      <td>1</td>\n",
       "      <td>1</td>\n",
       "      <td>1</td>\n",
       "      <td>1</td>\n",
       "      <td>0</td>\n",
       "      <td>0</td>\n",
       "    </tr>\n",
       "    <tr>\n",
       "      <th>2164</th>\n",
       "      <td>0</td>\n",
       "      <td>0.004352</td>\n",
       "      <td>2164</td>\n",
       "      <td>0</td>\n",
       "      <td>1</td>\n",
       "      <td>0</td>\n",
       "      <td>0</td>\n",
       "      <td>0</td>\n",
       "      <td>0</td>\n",
       "      <td>0</td>\n",
       "      <td>0</td>\n",
       "      <td>0</td>\n",
       "      <td>0</td>\n",
       "      <td>0</td>\n",
       "    </tr>\n",
       "    <tr>\n",
       "      <th>1667</th>\n",
       "      <td>1</td>\n",
       "      <td>0.960961</td>\n",
       "      <td>1667</td>\n",
       "      <td>1</td>\n",
       "      <td>1</td>\n",
       "      <td>1</td>\n",
       "      <td>1</td>\n",
       "      <td>1</td>\n",
       "      <td>1</td>\n",
       "      <td>1</td>\n",
       "      <td>1</td>\n",
       "      <td>1</td>\n",
       "      <td>1</td>\n",
       "      <td>1</td>\n",
       "    </tr>\n",
       "  </tbody>\n",
       "</table>\n",
       "</div>"
      ],
      "text/plain": [
       "      Converted  Converted_prob  Prospect ID  Predicted  0.0  0.1  0.2  0.3  \\\n",
       "9196          1        0.095568         9196          0    1    0    0    0   \n",
       "4696          0        0.052130         4696          0    1    0    0    0   \n",
       "3274          0        0.744345         3274          1    1    1    1    1   \n",
       "2164          0        0.004352         2164          0    1    0    0    0   \n",
       "1667          1        0.960961         1667          1    1    1    1    1   \n",
       "\n",
       "      0.4  0.5  0.6  0.7  0.8  0.9  \n",
       "9196    0    0    0    0    0    0  \n",
       "4696    0    0    0    0    0    0  \n",
       "3274    1    1    1    1    0    0  \n",
       "2164    0    0    0    0    0    0  \n",
       "1667    1    1    1    1    1    1  "
      ]
     },
     "execution_count": 157,
     "metadata": {},
     "output_type": "execute_result"
    }
   ],
   "source": [
    "# Create columns with different probability cutoffs \n",
    "nums = [float(x)/10 for x in range(10)]\n",
    "for i in nums:\n",
    "    y_train_pred_final[i]= y_train_pred_final.Converted_prob.map(lambda x: 1 if x > i else 0)\n",
    "y_train_pred_final.head()"
   ]
  },
  {
   "cell_type": "code",
   "execution_count": 158,
   "id": "9db71669",
   "metadata": {},
   "outputs": [
    {
     "name": "stdout",
     "output_type": "stream",
     "text": [
      "     prob  accuracy     sensi     speci\n",
      "0.0   0.0  0.380565  1.000000  0.000000\n",
      "0.1   0.1  0.760491  0.973166  0.629830\n",
      "0.2   0.2  0.917504  0.880084  0.940495\n",
      "0.3   0.3  0.922930  0.871698  0.954405\n",
      "0.4   0.4  0.922770  0.860797  0.960845\n",
      "0.5   0.5  0.922770  0.860797  0.960845\n",
      "0.6   0.6  0.922770  0.860797  0.960845\n",
      "0.7   0.7  0.918781  0.839832  0.967285\n",
      "0.8   0.8  0.890378  0.737945  0.984029\n",
      "0.9   0.9  0.885910  0.717400  0.989438\n"
     ]
    }
   ],
   "source": [
    "# Calculate accuracy sensitivity and specificity for various probability cutoffs.\n",
    "cut_off_df = pd.DataFrame(columns = ['prob','accuracy','sensi','speci'])\n",
    "from sklearn.metrics import confusion_matrix\n",
    "\n",
    "# TP = confusion[1,1] # true positive \n",
    "# TN = confusion[0,0] # true negatives\n",
    "# FP = confusion[0,1] # false positives\n",
    "# FN = confusion[1,0] # false negatives\n",
    "\n",
    "num = [0.0,0.1,0.2,0.3,0.4,0.5,0.6,0.7,0.8,0.9]\n",
    "for i in num:\n",
    "    cm = metrics.confusion_matrix(y_train_pred_final.Converted, y_train_pred_final[i] )\n",
    "    total=sum(sum(cm))\n",
    "    accuracy = (cm[0,0]+cm[1,1])/total\n",
    "    \n",
    "    speci = cm[0,0]/(cm[0,0]+cm[0,1])\n",
    "    sensi = cm[1,1]/(cm[1,0]+cm[1,1])\n",
    "    cut_off_df.loc[i] =[ i ,accuracy,sensi,speci]\n",
    "print(cut_off_df)"
   ]
  },
  {
   "cell_type": "code",
   "execution_count": 159,
   "id": "869d98a0",
   "metadata": {},
   "outputs": [
    {
     "data": {
      "image/png": "[encoded data removed]",
      "text/plain": [
       "<Figure size 432x288 with 1 Axes>"
      ]
     },
     "metadata": {
      "needs_background": "light"
     },
     "output_type": "display_data"
    }
   ],
   "source": [
    "# Plot accuracy sensitivity and specificity for various probabilities.\n",
    "cut_off_df.plot.line(x='prob', y=['accuracy','sensi','speci'])\n",
    "plt.show()"
   ]
  },
  {
   "cell_type": "markdown",
   "id": "4678f1d8",
   "metadata": {},
   "source": [
    "From the above line plots we got the value 0.2 which seems to be the most ideal cut-off point."
   ]
  },
  {
   "cell_type": "code",
   "execution_count": 160,
   "id": "dcab32fa",
   "metadata": {},
   "outputs": [],
   "source": [
    "# Keeping 0.2 as cut-off point for predicting lead conversion\n",
    "y_train_pred_final['final_Predicted'] = y_train_pred_final.Converted_prob.map( lambda x: 1 if x > 0.2 else 0)"
   ]
  },
  {
   "cell_type": "code",
   "execution_count": 161,
   "id": "db6bd9ff",
   "metadata": {},
   "outputs": [
    {
     "data": {
      "text/html": [
       "<div>\n",
       "<style scoped>\n",
       "    .dataframe tbody tr th:only-of-type {\n",
       "        vertical-align: middle;\n",
       "    }\n",
       "\n",
       "    .dataframe tbody tr th {\n",
       "        vertical-align: top;\n",
       "    }\n",
       "\n",
       "    .dataframe thead th {\n",
       "        text-align: right;\n",
       "    }\n",
       "</style>\n",
       "<table border=\"1\" class=\"dataframe\">\n",
       "  <thead>\n",
       "    <tr style=\"text-align: right;\">\n",
       "      <th></th>\n",
       "      <th>Converted</th>\n",
       "      <th>Converted_prob</th>\n",
       "      <th>Prospect ID</th>\n",
       "      <th>Predicted</th>\n",
       "      <th>0.0</th>\n",
       "      <th>0.1</th>\n",
       "      <th>0.2</th>\n",
       "      <th>0.3</th>\n",
       "      <th>0.4</th>\n",
       "      <th>0.5</th>\n",
       "      <th>0.6</th>\n",
       "      <th>0.7</th>\n",
       "      <th>0.8</th>\n",
       "      <th>0.9</th>\n",
       "      <th>final_Predicted</th>\n",
       "    </tr>\n",
       "  </thead>\n",
       "  <tbody>\n",
       "    <tr>\n",
       "      <th>9196</th>\n",
       "      <td>1</td>\n",
       "      <td>0.095568</td>\n",
       "      <td>9196</td>\n",
       "      <td>0</td>\n",
       "      <td>1</td>\n",
       "      <td>0</td>\n",
       "      <td>0</td>\n",
       "      <td>0</td>\n",
       "      <td>0</td>\n",
       "      <td>0</td>\n",
       "      <td>0</td>\n",
       "      <td>0</td>\n",
       "      <td>0</td>\n",
       "      <td>0</td>\n",
       "      <td>0</td>\n",
       "    </tr>\n",
       "    <tr>\n",
       "      <th>4696</th>\n",
       "      <td>0</td>\n",
       "      <td>0.052130</td>\n",
       "      <td>4696</td>\n",
       "      <td>0</td>\n",
       "      <td>1</td>\n",
       "      <td>0</td>\n",
       "      <td>0</td>\n",
       "      <td>0</td>\n",
       "      <td>0</td>\n",
       "      <td>0</td>\n",
       "      <td>0</td>\n",
       "      <td>0</td>\n",
       "      <td>0</td>\n",
       "      <td>0</td>\n",
       "      <td>0</td>\n",
       "    </tr>\n",
       "    <tr>\n",
       "      <th>3274</th>\n",
       "      <td>0</td>\n",
       "      <td>0.744345</td>\n",
       "      <td>3274</td>\n",
       "      <td>1</td>\n",
       "      <td>1</td>\n",
       "      <td>1</td>\n",
       "      <td>1</td>\n",
       "      <td>1</td>\n",
       "      <td>1</td>\n",
       "      <td>1</td>\n",
       "      <td>1</td>\n",
       "      <td>1</td>\n",
       "      <td>0</td>\n",
       "      <td>0</td>\n",
       "      <td>1</td>\n",
       "    </tr>\n",
       "    <tr>\n",
       "      <th>2164</th>\n",
       "      <td>0</td>\n",
       "      <td>0.004352</td>\n",
       "      <td>2164</td>\n",
       "      <td>0</td>\n",
       "      <td>1</td>\n",
       "      <td>0</td>\n",
       "      <td>0</td>\n",
       "      <td>0</td>\n",
       "      <td>0</td>\n",
       "      <td>0</td>\n",
       "      <td>0</td>\n",
       "      <td>0</td>\n",
       "      <td>0</td>\n",
       "      <td>0</td>\n",
       "      <td>0</td>\n",
       "    </tr>\n",
       "    <tr>\n",
       "      <th>1667</th>\n",
       "      <td>1</td>\n",
       "      <td>0.960961</td>\n",
       "      <td>1667</td>\n",
       "      <td>1</td>\n",
       "      <td>1</td>\n",
       "      <td>1</td>\n",
       "      <td>1</td>\n",
       "      <td>1</td>\n",
       "      <td>1</td>\n",
       "      <td>1</td>\n",
       "      <td>1</td>\n",
       "      <td>1</td>\n",
       "      <td>1</td>\n",
       "      <td>1</td>\n",
       "      <td>1</td>\n",
       "    </tr>\n",
       "  </tbody>\n",
       "</table>\n",
       "</div>"
      ],
      "text/plain": [
       "      Converted  Converted_prob  Prospect ID  Predicted  0.0  0.1  0.2  0.3  \\\n",
       "9196          1        0.095568         9196          0    1    0    0    0   \n",
       "4696          0        0.052130         4696          0    1    0    0    0   \n",
       "3274          0        0.744345         3274          1    1    1    1    1   \n",
       "2164          0        0.004352         2164          0    1    0    0    0   \n",
       "1667          1        0.960961         1667          1    1    1    1    1   \n",
       "\n",
       "      0.4  0.5  0.6  0.7  0.8  0.9  final_Predicted  \n",
       "9196    0    0    0    0    0    0                0  \n",
       "4696    0    0    0    0    0    0                0  \n",
       "3274    1    1    1    1    0    0                1  \n",
       "2164    0    0    0    0    0    0                0  \n",
       "1667    1    1    1    1    1    1                1  "
      ]
     },
     "execution_count": 161,
     "metadata": {},
     "output_type": "execute_result"
    }
   ],
   "source": [
    "y_train_pred_final.head()"
   ]
  },
  {
   "cell_type": "code",
   "execution_count": 162,
   "id": "5268eefc",
   "metadata": {},
   "outputs": [
    {
     "data": {
      "text/html": [
       "<div>\n",
       "<style scoped>\n",
       "    .dataframe tbody tr th:only-of-type {\n",
       "        vertical-align: middle;\n",
       "    }\n",
       "\n",
       "    .dataframe tbody tr th {\n",
       "        vertical-align: top;\n",
       "    }\n",
       "\n",
       "    .dataframe thead th {\n",
       "        text-align: right;\n",
       "    }\n",
       "</style>\n",
       "<table border=\"1\" class=\"dataframe\">\n",
       "  <thead>\n",
       "    <tr style=\"text-align: right;\">\n",
       "      <th></th>\n",
       "      <th>Converted</th>\n",
       "      <th>Converted_prob</th>\n",
       "      <th>Prospect ID</th>\n",
       "      <th>final_Predicted</th>\n",
       "      <th>Lead_Score</th>\n",
       "    </tr>\n",
       "  </thead>\n",
       "  <tbody>\n",
       "    <tr>\n",
       "      <th>9196</th>\n",
       "      <td>1</td>\n",
       "      <td>0.095568</td>\n",
       "      <td>9196</td>\n",
       "      <td>0</td>\n",
       "      <td>10</td>\n",
       "    </tr>\n",
       "    <tr>\n",
       "      <th>4696</th>\n",
       "      <td>0</td>\n",
       "      <td>0.052130</td>\n",
       "      <td>4696</td>\n",
       "      <td>0</td>\n",
       "      <td>5</td>\n",
       "    </tr>\n",
       "    <tr>\n",
       "      <th>3274</th>\n",
       "      <td>0</td>\n",
       "      <td>0.744345</td>\n",
       "      <td>3274</td>\n",
       "      <td>1</td>\n",
       "      <td>74</td>\n",
       "    </tr>\n",
       "    <tr>\n",
       "      <th>2164</th>\n",
       "      <td>0</td>\n",
       "      <td>0.004352</td>\n",
       "      <td>2164</td>\n",
       "      <td>0</td>\n",
       "      <td>0</td>\n",
       "    </tr>\n",
       "    <tr>\n",
       "      <th>1667</th>\n",
       "      <td>1</td>\n",
       "      <td>0.960961</td>\n",
       "      <td>1667</td>\n",
       "      <td>1</td>\n",
       "      <td>96</td>\n",
       "    </tr>\n",
       "  </tbody>\n",
       "</table>\n",
       "</div>"
      ],
      "text/plain": [
       "      Converted  Converted_prob  Prospect ID  final_Predicted  Lead_Score\n",
       "9196          1        0.095568         9196                0          10\n",
       "4696          0        0.052130         4696                0           5\n",
       "3274          0        0.744345         3274                1          74\n",
       "2164          0        0.004352         2164                0           0\n",
       "1667          1        0.960961         1667                1          96"
      ]
     },
     "execution_count": 162,
     "metadata": {},
     "output_type": "execute_result"
    }
   ],
   "source": [
    "# Calculate the lead score for each lead\n",
    "y_train_pred_final['Lead_Score'] = y_train_pred_final.Converted_prob.map( lambda x: round(x*100))\n",
    "\n",
    "y_train_pred_final[['Converted','Converted_prob','Prospect ID','final_Predicted','Lead_Score']].head()"
   ]
  },
  {
   "cell_type": "code",
   "execution_count": 163,
   "id": "b36a1c80",
   "metadata": {},
   "outputs": [
    {
     "data": {
      "text/plain": [
       "0.9175043880644647"
      ]
     },
     "execution_count": 163,
     "metadata": {},
     "output_type": "execute_result"
    }
   ],
   "source": [
    "# Calculating overall accuracy using optimal cut-off\n",
    "metrics.accuracy_score(y_train_pred_final.Converted, y_train_pred_final.final_Predicted)"
   ]
  },
  {
   "cell_type": "code",
   "execution_count": 164,
   "id": "0362eb88",
   "metadata": {},
   "outputs": [],
   "source": [
    "# Creating confusion matrix for new cut-off \n",
    "confusion2 = metrics.confusion_matrix(y_train_pred_final.Converted, y_train_pred_final.final_Predicted )"
   ]
  },
  {
   "cell_type": "code",
   "execution_count": 165,
   "id": "b426e1bc",
   "metadata": {},
   "outputs": [
    {
     "data": {
      "text/plain": [
       "array([[3651,  231],\n",
       "       [ 286, 2099]], dtype=int64)"
      ]
     },
     "execution_count": 165,
     "metadata": {},
     "output_type": "execute_result"
    }
   ],
   "source": [
    "confusion2"
   ]
  },
  {
   "cell_type": "code",
   "execution_count": 166,
   "id": "c82b300e",
   "metadata": {},
   "outputs": [
    {
     "name": "stdout",
     "output_type": "stream",
     "text": [
      "True Positive 2099\n",
      "True Negative 3651\n",
      "False Positive 231\n",
      "False Negative 286\n"
     ]
    }
   ],
   "source": [
    "TP = confusion2[1,1] # true positive \n",
    "TN = confusion2[0,0] # true negatives\n",
    "FP = confusion2[0,1] # false positives\n",
    "FN = confusion2[1,0] # false negatives\n",
    "\n",
    "print(\"True Positive\", TP)\n",
    "print(\"True Negative\", TN)\n",
    "print(\"False Positive\", FP)\n",
    "print(\"False Negative\", FN)"
   ]
  },
  {
   "cell_type": "code",
   "execution_count": 167,
   "id": "d581a8de",
   "metadata": {},
   "outputs": [
    {
     "data": {
      "text/plain": [
       "0.9404945904173106"
      ]
     },
     "execution_count": 167,
     "metadata": {},
     "output_type": "execute_result"
    }
   ],
   "source": [
    "# Specificity\n",
    "TN / float(TN+FP)"
   ]
  },
  {
   "cell_type": "code",
   "execution_count": 168,
   "id": "34913572",
   "metadata": {},
   "outputs": [
    {
     "data": {
      "text/plain": [
       "0.880083857442348"
      ]
     },
     "execution_count": 168,
     "metadata": {},
     "output_type": "execute_result"
    }
   ],
   "source": [
    "# Sensitivity\n",
    "TP / float(TP+FN)"
   ]
  },
  {
   "cell_type": "code",
   "execution_count": 169,
   "id": "6427ef6e",
   "metadata": {},
   "outputs": [
    {
     "name": "stdout",
     "output_type": "stream",
     "text": [
      "0.9008583690987124\n"
     ]
    }
   ],
   "source": [
    "# Positive Predictive Value \n",
    "print (TP / float(TP+FP))"
   ]
  },
  {
   "cell_type": "code",
   "execution_count": 170,
   "id": "7fb747b7",
   "metadata": {},
   "outputs": [
    {
     "name": "stdout",
     "output_type": "stream",
     "text": [
      "0.9273558547117094\n"
     ]
    }
   ],
   "source": [
    "# Negative Predictive Value\n",
    "print (TN / float(TN+ FN))"
   ]
  },
  {
   "cell_type": "code",
   "execution_count": 171,
   "id": "a39cad2b",
   "metadata": {},
   "outputs": [
    {
     "name": "stdout",
     "output_type": "stream",
     "text": [
      "0.059505409582689336\n"
     ]
    }
   ],
   "source": [
    "# False Postive Rate\n",
    "print(FP/ float(TN+FP))"
   ]
  },
  {
   "cell_type": "code",
   "execution_count": 172,
   "id": "aafa0f9a",
   "metadata": {},
   "outputs": [
    {
     "data": {
      "text/plain": [
       "0.9310657596371882"
      ]
     },
     "execution_count": 172,
     "metadata": {},
     "output_type": "execute_result"
    }
   ],
   "source": [
    "# Precision\n",
    "TP / TP + FP\n",
    "confusion[1,1]/(confusion[0,1]+confusion[1,1])"
   ]
  },
  {
   "cell_type": "code",
   "execution_count": 173,
   "id": "243d9bd6",
   "metadata": {},
   "outputs": [
    {
     "data": {
      "text/plain": [
       "0.8607966457023061"
      ]
     },
     "execution_count": 173,
     "metadata": {},
     "output_type": "execute_result"
    }
   ],
   "source": [
    "# Recall\n",
    "TP / TP + FN\n",
    "confusion[1,1]/(confusion[1,0]+confusion[1,1])"
   ]
  },
  {
   "cell_type": "code",
   "execution_count": 174,
   "id": "34937e61",
   "metadata": {},
   "outputs": [],
   "source": [
    "# Calculate precision and recall values\n",
    "from sklearn.metrics import precision_score, recall_score"
   ]
  },
  {
   "cell_type": "code",
   "execution_count": 175,
   "id": "c2aaf4d0",
   "metadata": {},
   "outputs": [
    {
     "data": {
      "text/plain": [
       "0.9008583690987124"
      ]
     },
     "execution_count": 175,
     "metadata": {},
     "output_type": "execute_result"
    }
   ],
   "source": [
    "precision_score(y_train_pred_final.Converted , y_train_pred_final.final_Predicted)"
   ]
  },
  {
   "cell_type": "code",
   "execution_count": 176,
   "id": "b34b3d55",
   "metadata": {},
   "outputs": [
    {
     "data": {
      "text/plain": [
       "0.880083857442348"
      ]
     },
     "execution_count": 176,
     "metadata": {},
     "output_type": "execute_result"
    }
   ],
   "source": [
    "recall_score(y_train_pred_final.Converted, y_train_pred_final.final_Predicted)"
   ]
  },
  {
   "cell_type": "code",
   "execution_count": 177,
   "id": "b2d0690e",
   "metadata": {},
   "outputs": [],
   "source": [
    "from sklearn.metrics import precision_recall_curve"
   ]
  },
  {
   "cell_type": "code",
   "execution_count": 178,
   "id": "7188f57f",
   "metadata": {},
   "outputs": [],
   "source": [
    "# Plot Recall & Precision Curve\n",
    "y_train_pred_final.Converted, y_train_pred_final.final_Predicted\n",
    "p, r, thresholds = precision_recall_curve(y_train_pred_final.Converted, y_train_pred_final.Converted_prob)"
   ]
  },
  {
   "cell_type": "code",
   "execution_count": 179,
   "id": "9ce4f7cf",
   "metadata": {},
   "outputs": [
    {
     "data": {
      "image/png": "[encoded data removed]",
      "text/plain": [
       "<Figure size 432x288 with 1 Axes>"
      ]
     },
     "metadata": {
      "needs_background": "light"
     },
     "output_type": "display_data"
    }
   ],
   "source": [
    "plt.plot(thresholds, p[:-1], \"b-\")\n",
    "plt.plot(thresholds, r[:-1], \"y-\")\n",
    "plt.show()"
   ]
  },
  {
   "cell_type": "markdown",
   "id": "26d3250a",
   "metadata": {},
   "source": [
    "#### 8. Conclusion On Training Dataset\n",
    "\n",
    "=> The model seems to be performing very well. ROC curve has a value of 0.96 which is good.\n",
    "\n",
    "=> Statistics of the model:\n",
    "\n",
    "     . Accuracy:    91.75%\n",
    "     . Sensitivity: 88%\n",
    "     . Specificity: 94.04%"
   ]
  },
  {
   "cell_type": "markdown",
   "id": "9e434ac6",
   "metadata": {},
   "source": [
    "## Step 6 : Predictions On Test Dataset by Model Built From Training Dataset"
   ]
  },
  {
   "cell_type": "markdown",
   "id": "ad52899a",
   "metadata": {},
   "source": [
    "#### 1. Rescaling the Test Dataset Values"
   ]
  },
  {
   "cell_type": "code",
   "execution_count": 180,
   "id": "9087fc4c",
   "metadata": {},
   "outputs": [],
   "source": [
    "# Extract the numerical columns and assigning them to a variable\n",
    "num_cols=X_test.select_dtypes(include=['float64', 'int64']).columns\n",
    "\n",
    "# Scaling the test dataset values\n",
    "X_test[num_cols] = scaler.fit_transform(X_test[num_cols])"
   ]
  },
  {
   "cell_type": "code",
   "execution_count": 181,
   "id": "a4885c4b",
   "metadata": {},
   "outputs": [
    {
     "data": {
      "text/html": [
       "<div>\n",
       "<style scoped>\n",
       "    .dataframe tbody tr th:only-of-type {\n",
       "        vertical-align: middle;\n",
       "    }\n",
       "\n",
       "    .dataframe tbody tr th {\n",
       "        vertical-align: top;\n",
       "    }\n",
       "\n",
       "    .dataframe thead th {\n",
       "        text-align: right;\n",
       "    }\n",
       "</style>\n",
       "<table border=\"1\" class=\"dataframe\">\n",
       "  <thead>\n",
       "    <tr style=\"text-align: right;\">\n",
       "      <th></th>\n",
       "      <th>TotalVisits</th>\n",
       "      <th>Total Time Spent on Website</th>\n",
       "      <th>Page Views Per Visit</th>\n",
       "      <th>Lead Origin_Landing Page Submission</th>\n",
       "      <th>Lead Origin_Lead Add Form</th>\n",
       "      <th>Lead Origin_Lead Import</th>\n",
       "      <th>What is your current occupation_Housewife</th>\n",
       "      <th>What is your current occupation_Other</th>\n",
       "      <th>What is your current occupation_Student</th>\n",
       "      <th>What is your current occupation_Unemployed</th>\n",
       "      <th>...</th>\n",
       "      <th>Tags_Lost to EINS</th>\n",
       "      <th>Tags_Not Specified</th>\n",
       "      <th>Tags_Ringing</th>\n",
       "      <th>Tags_Will revert after reading the email</th>\n",
       "      <th>Last Notable Activity_Email Link Clicked</th>\n",
       "      <th>Last Notable Activity_Email Opened</th>\n",
       "      <th>Last Notable Activity_Modified</th>\n",
       "      <th>Last Notable Activity_Olark Chat Conversation</th>\n",
       "      <th>Last Notable Activity_Page Visited on Website</th>\n",
       "      <th>Last Notable Activity_SMS Sent</th>\n",
       "    </tr>\n",
       "  </thead>\n",
       "  <tbody>\n",
       "    <tr>\n",
       "      <th>7681</th>\n",
       "      <td>0.575687</td>\n",
       "      <td>-0.311318</td>\n",
       "      <td>0.092860</td>\n",
       "      <td>1</td>\n",
       "      <td>0</td>\n",
       "      <td>0</td>\n",
       "      <td>0</td>\n",
       "      <td>0</td>\n",
       "      <td>0</td>\n",
       "      <td>1</td>\n",
       "      <td>...</td>\n",
       "      <td>0</td>\n",
       "      <td>0</td>\n",
       "      <td>1</td>\n",
       "      <td>0</td>\n",
       "      <td>0</td>\n",
       "      <td>0</td>\n",
       "      <td>0</td>\n",
       "      <td>0</td>\n",
       "      <td>0</td>\n",
       "      <td>1</td>\n",
       "    </tr>\n",
       "    <tr>\n",
       "      <th>984</th>\n",
       "      <td>-0.090676</td>\n",
       "      <td>-0.550262</td>\n",
       "      <td>0.356568</td>\n",
       "      <td>1</td>\n",
       "      <td>0</td>\n",
       "      <td>0</td>\n",
       "      <td>0</td>\n",
       "      <td>0</td>\n",
       "      <td>0</td>\n",
       "      <td>1</td>\n",
       "      <td>...</td>\n",
       "      <td>0</td>\n",
       "      <td>0</td>\n",
       "      <td>0</td>\n",
       "      <td>0</td>\n",
       "      <td>0</td>\n",
       "      <td>0</td>\n",
       "      <td>1</td>\n",
       "      <td>0</td>\n",
       "      <td>0</td>\n",
       "      <td>0</td>\n",
       "    </tr>\n",
       "    <tr>\n",
       "      <th>8135</th>\n",
       "      <td>-0.423857</td>\n",
       "      <td>0.812462</td>\n",
       "      <td>-0.170849</td>\n",
       "      <td>1</td>\n",
       "      <td>0</td>\n",
       "      <td>0</td>\n",
       "      <td>0</td>\n",
       "      <td>0</td>\n",
       "      <td>0</td>\n",
       "      <td>1</td>\n",
       "      <td>...</td>\n",
       "      <td>0</td>\n",
       "      <td>1</td>\n",
       "      <td>0</td>\n",
       "      <td>0</td>\n",
       "      <td>0</td>\n",
       "      <td>0</td>\n",
       "      <td>0</td>\n",
       "      <td>0</td>\n",
       "      <td>0</td>\n",
       "      <td>1</td>\n",
       "    </tr>\n",
       "    <tr>\n",
       "      <th>6915</th>\n",
       "      <td>0.242505</td>\n",
       "      <td>-0.628665</td>\n",
       "      <td>-0.170849</td>\n",
       "      <td>1</td>\n",
       "      <td>0</td>\n",
       "      <td>0</td>\n",
       "      <td>0</td>\n",
       "      <td>0</td>\n",
       "      <td>0</td>\n",
       "      <td>1</td>\n",
       "      <td>...</td>\n",
       "      <td>0</td>\n",
       "      <td>0</td>\n",
       "      <td>1</td>\n",
       "      <td>0</td>\n",
       "      <td>0</td>\n",
       "      <td>1</td>\n",
       "      <td>0</td>\n",
       "      <td>0</td>\n",
       "      <td>0</td>\n",
       "      <td>0</td>\n",
       "    </tr>\n",
       "    <tr>\n",
       "      <th>2712</th>\n",
       "      <td>-0.090676</td>\n",
       "      <td>-0.421456</td>\n",
       "      <td>0.356568</td>\n",
       "      <td>0</td>\n",
       "      <td>0</td>\n",
       "      <td>0</td>\n",
       "      <td>0</td>\n",
       "      <td>0</td>\n",
       "      <td>0</td>\n",
       "      <td>1</td>\n",
       "      <td>...</td>\n",
       "      <td>0</td>\n",
       "      <td>0</td>\n",
       "      <td>0</td>\n",
       "      <td>1</td>\n",
       "      <td>0</td>\n",
       "      <td>1</td>\n",
       "      <td>0</td>\n",
       "      <td>0</td>\n",
       "      <td>0</td>\n",
       "      <td>0</td>\n",
       "    </tr>\n",
       "  </tbody>\n",
       "</table>\n",
       "<p>5 rows × 55 columns</p>\n",
       "</div>"
      ],
      "text/plain": [
       "      TotalVisits  Total Time Spent on Website  Page Views Per Visit  \\\n",
       "7681     0.575687                    -0.311318              0.092860   \n",
       "984     -0.090676                    -0.550262              0.356568   \n",
       "8135    -0.423857                     0.812462             -0.170849   \n",
       "6915     0.242505                    -0.628665             -0.170849   \n",
       "2712    -0.090676                    -0.421456              0.356568   \n",
       "\n",
       "      Lead Origin_Landing Page Submission  Lead Origin_Lead Add Form  \\\n",
       "7681                                    1                          0   \n",
       "984                                     1                          0   \n",
       "8135                                    1                          0   \n",
       "6915                                    1                          0   \n",
       "2712                                    0                          0   \n",
       "\n",
       "      Lead Origin_Lead Import  What is your current occupation_Housewife  \\\n",
       "7681                        0                                          0   \n",
       "984                         0                                          0   \n",
       "8135                        0                                          0   \n",
       "6915                        0                                          0   \n",
       "2712                        0                                          0   \n",
       "\n",
       "      What is your current occupation_Other  \\\n",
       "7681                                      0   \n",
       "984                                       0   \n",
       "8135                                      0   \n",
       "6915                                      0   \n",
       "2712                                      0   \n",
       "\n",
       "      What is your current occupation_Student  \\\n",
       "7681                                        0   \n",
       "984                                         0   \n",
       "8135                                        0   \n",
       "6915                                        0   \n",
       "2712                                        0   \n",
       "\n",
       "      What is your current occupation_Unemployed  ...  Tags_Lost to EINS  \\\n",
       "7681                                           1  ...                  0   \n",
       "984                                            1  ...                  0   \n",
       "8135                                           1  ...                  0   \n",
       "6915                                           1  ...                  0   \n",
       "2712                                           1  ...                  0   \n",
       "\n",
       "      Tags_Not Specified  Tags_Ringing  \\\n",
       "7681                   0             1   \n",
       "984                    0             0   \n",
       "8135                   1             0   \n",
       "6915                   0             1   \n",
       "2712                   0             0   \n",
       "\n",
       "      Tags_Will revert after reading the email  \\\n",
       "7681                                         0   \n",
       "984                                          0   \n",
       "8135                                         0   \n",
       "6915                                         0   \n",
       "2712                                         1   \n",
       "\n",
       "      Last Notable Activity_Email Link Clicked  \\\n",
       "7681                                         0   \n",
       "984                                          0   \n",
       "8135                                         0   \n",
       "6915                                         0   \n",
       "2712                                         0   \n",
       "\n",
       "      Last Notable Activity_Email Opened  Last Notable Activity_Modified  \\\n",
       "7681                                   0                               0   \n",
       "984                                    0                               1   \n",
       "8135                                   0                               0   \n",
       "6915                                   1                               0   \n",
       "2712                                   1                               0   \n",
       "\n",
       "      Last Notable Activity_Olark Chat Conversation  \\\n",
       "7681                                              0   \n",
       "984                                               0   \n",
       "8135                                              0   \n",
       "6915                                              0   \n",
       "2712                                              0   \n",
       "\n",
       "      Last Notable Activity_Page Visited on Website  \\\n",
       "7681                                              0   \n",
       "984                                               0   \n",
       "8135                                              0   \n",
       "6915                                              0   \n",
       "2712                                              0   \n",
       "\n",
       "      Last Notable Activity_SMS Sent  \n",
       "7681                               1  \n",
       "984                                0  \n",
       "8135                               1  \n",
       "6915                               0  \n",
       "2712                               0  \n",
       "\n",
       "[5 rows x 55 columns]"
      ]
     },
     "execution_count": 181,
     "metadata": {},
     "output_type": "execute_result"
    }
   ],
   "source": [
    "# Displaying dataframe\n",
    "X_test.head()"
   ]
  },
  {
   "cell_type": "code",
   "execution_count": 182,
   "id": "74ef8c83",
   "metadata": {},
   "outputs": [
    {
     "data": {
      "text/html": [
       "<div>\n",
       "<style scoped>\n",
       "    .dataframe tbody tr th:only-of-type {\n",
       "        vertical-align: middle;\n",
       "    }\n",
       "\n",
       "    .dataframe tbody tr th {\n",
       "        vertical-align: top;\n",
       "    }\n",
       "\n",
       "    .dataframe thead th {\n",
       "        text-align: right;\n",
       "    }\n",
       "</style>\n",
       "<table border=\"1\" class=\"dataframe\">\n",
       "  <thead>\n",
       "    <tr style=\"text-align: right;\">\n",
       "      <th></th>\n",
       "      <th>Lead Source_Direct Traffic</th>\n",
       "      <th>Lead Source_Welingak Website</th>\n",
       "      <th>Last Activity_Email Bounced</th>\n",
       "      <th>Last Activity_Olark Chat Conversation</th>\n",
       "      <th>Tags_Busy</th>\n",
       "      <th>Tags_Closed by Horizzon</th>\n",
       "      <th>Tags_Lost to EINS</th>\n",
       "      <th>Tags_Not Specified</th>\n",
       "      <th>Tags_Ringing</th>\n",
       "      <th>Tags_Will revert after reading the email</th>\n",
       "      <th>Last Notable Activity_SMS Sent</th>\n",
       "    </tr>\n",
       "  </thead>\n",
       "  <tbody>\n",
       "    <tr>\n",
       "      <th>7681</th>\n",
       "      <td>1</td>\n",
       "      <td>0</td>\n",
       "      <td>0</td>\n",
       "      <td>0</td>\n",
       "      <td>0</td>\n",
       "      <td>0</td>\n",
       "      <td>0</td>\n",
       "      <td>0</td>\n",
       "      <td>1</td>\n",
       "      <td>0</td>\n",
       "      <td>1</td>\n",
       "    </tr>\n",
       "    <tr>\n",
       "      <th>984</th>\n",
       "      <td>0</td>\n",
       "      <td>0</td>\n",
       "      <td>0</td>\n",
       "      <td>0</td>\n",
       "      <td>0</td>\n",
       "      <td>0</td>\n",
       "      <td>0</td>\n",
       "      <td>0</td>\n",
       "      <td>0</td>\n",
       "      <td>0</td>\n",
       "      <td>0</td>\n",
       "    </tr>\n",
       "    <tr>\n",
       "      <th>8135</th>\n",
       "      <td>1</td>\n",
       "      <td>0</td>\n",
       "      <td>0</td>\n",
       "      <td>0</td>\n",
       "      <td>0</td>\n",
       "      <td>0</td>\n",
       "      <td>0</td>\n",
       "      <td>1</td>\n",
       "      <td>0</td>\n",
       "      <td>0</td>\n",
       "      <td>1</td>\n",
       "    </tr>\n",
       "    <tr>\n",
       "      <th>6915</th>\n",
       "      <td>0</td>\n",
       "      <td>0</td>\n",
       "      <td>0</td>\n",
       "      <td>0</td>\n",
       "      <td>0</td>\n",
       "      <td>0</td>\n",
       "      <td>0</td>\n",
       "      <td>0</td>\n",
       "      <td>1</td>\n",
       "      <td>0</td>\n",
       "      <td>0</td>\n",
       "    </tr>\n",
       "    <tr>\n",
       "      <th>2712</th>\n",
       "      <td>0</td>\n",
       "      <td>0</td>\n",
       "      <td>0</td>\n",
       "      <td>0</td>\n",
       "      <td>0</td>\n",
       "      <td>0</td>\n",
       "      <td>0</td>\n",
       "      <td>0</td>\n",
       "      <td>0</td>\n",
       "      <td>1</td>\n",
       "      <td>0</td>\n",
       "    </tr>\n",
       "  </tbody>\n",
       "</table>\n",
       "</div>"
      ],
      "text/plain": [
       "      Lead Source_Direct Traffic  Lead Source_Welingak Website  \\\n",
       "7681                           1                             0   \n",
       "984                            0                             0   \n",
       "8135                           1                             0   \n",
       "6915                           0                             0   \n",
       "2712                           0                             0   \n",
       "\n",
       "      Last Activity_Email Bounced  Last Activity_Olark Chat Conversation  \\\n",
       "7681                            0                                      0   \n",
       "984                             0                                      0   \n",
       "8135                            0                                      0   \n",
       "6915                            0                                      0   \n",
       "2712                            0                                      0   \n",
       "\n",
       "      Tags_Busy  Tags_Closed by Horizzon  Tags_Lost to EINS  \\\n",
       "7681          0                        0                  0   \n",
       "984           0                        0                  0   \n",
       "8135          0                        0                  0   \n",
       "6915          0                        0                  0   \n",
       "2712          0                        0                  0   \n",
       "\n",
       "      Tags_Not Specified  Tags_Ringing  \\\n",
       "7681                   0             1   \n",
       "984                    0             0   \n",
       "8135                   1             0   \n",
       "6915                   0             1   \n",
       "2712                   0             0   \n",
       "\n",
       "      Tags_Will revert after reading the email  Last Notable Activity_SMS Sent  \n",
       "7681                                         0                               1  \n",
       "984                                          0                               0  \n",
       "8135                                         0                               1  \n",
       "6915                                         0                               0  \n",
       "2712                                         1                               0  "
      ]
     },
     "execution_count": 182,
     "metadata": {},
     "output_type": "execute_result"
    }
   ],
   "source": [
    "# Choosing the columns in test dataset which were chosen by RFE for building our model\n",
    "X_test = X_test[rfe_col]\n",
    "X_test.head()"
   ]
  },
  {
   "cell_type": "markdown",
   "id": "4040be08",
   "metadata": {},
   "source": [
    "#### 2. Predicting the Test Data Values"
   ]
  },
  {
   "cell_type": "code",
   "execution_count": 183,
   "id": "d64bb344",
   "metadata": {},
   "outputs": [],
   "source": [
    "# Adding constant \n",
    "X_test_sm = sm.add_constant(X_test)"
   ]
  },
  {
   "cell_type": "code",
   "execution_count": 184,
   "id": "bfeca1c4",
   "metadata": {},
   "outputs": [],
   "source": [
    "# Predicting values in test dataset based on model built on training dataset\n",
    "y_test_pred = res5.predict(X_test_sm)"
   ]
  },
  {
   "cell_type": "code",
   "execution_count": 185,
   "id": "16252d04",
   "metadata": {},
   "outputs": [
    {
     "data": {
      "text/plain": [
       "7681    0.052130\n",
       "984     0.023873\n",
       "8135    0.602445\n",
       "6915    0.008604\n",
       "2712    0.960961\n",
       "244     0.008604\n",
       "4698    0.023873\n",
       "8287    0.040986\n",
       "6791    0.960961\n",
       "8970    0.023873\n",
       "dtype: float64"
      ]
     },
     "execution_count": 185,
     "metadata": {},
     "output_type": "execute_result"
    }
   ],
   "source": [
    "y_test_pred[:10]"
   ]
  },
  {
   "cell_type": "code",
   "execution_count": 186,
   "id": "ae56042b",
   "metadata": {},
   "outputs": [],
   "source": [
    "# Converting y_pred to a dataframe\n",
    "y_pred_1 = pd.DataFrame(y_test_pred)"
   ]
  },
  {
   "cell_type": "code",
   "execution_count": 187,
   "id": "9fac5ca6",
   "metadata": {},
   "outputs": [
    {
     "data": {
      "text/html": [
       "<div>\n",
       "<style scoped>\n",
       "    .dataframe tbody tr th:only-of-type {\n",
       "        vertical-align: middle;\n",
       "    }\n",
       "\n",
       "    .dataframe tbody tr th {\n",
       "        vertical-align: top;\n",
       "    }\n",
       "\n",
       "    .dataframe thead th {\n",
       "        text-align: right;\n",
       "    }\n",
       "</style>\n",
       "<table border=\"1\" class=\"dataframe\">\n",
       "  <thead>\n",
       "    <tr style=\"text-align: right;\">\n",
       "      <th></th>\n",
       "      <th>0</th>\n",
       "    </tr>\n",
       "  </thead>\n",
       "  <tbody>\n",
       "    <tr>\n",
       "      <th>7681</th>\n",
       "      <td>0.052130</td>\n",
       "    </tr>\n",
       "    <tr>\n",
       "      <th>984</th>\n",
       "      <td>0.023873</td>\n",
       "    </tr>\n",
       "    <tr>\n",
       "      <th>8135</th>\n",
       "      <td>0.602445</td>\n",
       "    </tr>\n",
       "    <tr>\n",
       "      <th>6915</th>\n",
       "      <td>0.008604</td>\n",
       "    </tr>\n",
       "    <tr>\n",
       "      <th>2712</th>\n",
       "      <td>0.960961</td>\n",
       "    </tr>\n",
       "  </tbody>\n",
       "</table>\n",
       "</div>"
      ],
      "text/plain": [
       "             0\n",
       "7681  0.052130\n",
       "984   0.023873\n",
       "8135  0.602445\n",
       "6915  0.008604\n",
       "2712  0.960961"
      ]
     },
     "execution_count": 187,
     "metadata": {},
     "output_type": "execute_result"
    }
   ],
   "source": [
    "y_pred_1.head()"
   ]
  },
  {
   "cell_type": "code",
   "execution_count": 188,
   "id": "789af7f9",
   "metadata": {},
   "outputs": [],
   "source": [
    "# Converting y_test to dataframe\n",
    "y_test_df = pd.DataFrame(y_test)"
   ]
  },
  {
   "cell_type": "code",
   "execution_count": 189,
   "id": "ab1b2a0c",
   "metadata": {},
   "outputs": [],
   "source": [
    "# Create new column 'Prospect ID' using the index values\n",
    "y_test_df['Prospect ID'] = y_test_df.index"
   ]
  },
  {
   "cell_type": "code",
   "execution_count": 190,
   "id": "75ee75f7",
   "metadata": {},
   "outputs": [],
   "source": [
    "# Remove index from both datasets to append them by column\n",
    "y_pred_1.reset_index(drop=True, inplace=True)\n",
    "y_test_df.reset_index(drop=True, inplace=True)"
   ]
  },
  {
   "cell_type": "code",
   "execution_count": 191,
   "id": "e79b0698",
   "metadata": {},
   "outputs": [],
   "source": [
    "# Appending y_pred_1 & y_test_df \n",
    "y_pred_final = pd.concat([y_test_df, y_pred_1],axis=1)"
   ]
  },
  {
   "cell_type": "code",
   "execution_count": 192,
   "id": "7fcb4ad2",
   "metadata": {},
   "outputs": [
    {
     "data": {
      "text/html": [
       "<div>\n",
       "<style scoped>\n",
       "    .dataframe tbody tr th:only-of-type {\n",
       "        vertical-align: middle;\n",
       "    }\n",
       "\n",
       "    .dataframe tbody tr th {\n",
       "        vertical-align: top;\n",
       "    }\n",
       "\n",
       "    .dataframe thead th {\n",
       "        text-align: right;\n",
       "    }\n",
       "</style>\n",
       "<table border=\"1\" class=\"dataframe\">\n",
       "  <thead>\n",
       "    <tr style=\"text-align: right;\">\n",
       "      <th></th>\n",
       "      <th>Converted</th>\n",
       "      <th>Prospect ID</th>\n",
       "      <th>0</th>\n",
       "    </tr>\n",
       "  </thead>\n",
       "  <tbody>\n",
       "    <tr>\n",
       "      <th>0</th>\n",
       "      <td>0</td>\n",
       "      <td>7681</td>\n",
       "      <td>0.052130</td>\n",
       "    </tr>\n",
       "    <tr>\n",
       "      <th>1</th>\n",
       "      <td>0</td>\n",
       "      <td>984</td>\n",
       "      <td>0.023873</td>\n",
       "    </tr>\n",
       "    <tr>\n",
       "      <th>2</th>\n",
       "      <td>0</td>\n",
       "      <td>8135</td>\n",
       "      <td>0.602445</td>\n",
       "    </tr>\n",
       "    <tr>\n",
       "      <th>3</th>\n",
       "      <td>0</td>\n",
       "      <td>6915</td>\n",
       "      <td>0.008604</td>\n",
       "    </tr>\n",
       "    <tr>\n",
       "      <th>4</th>\n",
       "      <td>1</td>\n",
       "      <td>2712</td>\n",
       "      <td>0.960961</td>\n",
       "    </tr>\n",
       "  </tbody>\n",
       "</table>\n",
       "</div>"
      ],
      "text/plain": [
       "   Converted  Prospect ID         0\n",
       "0          0         7681  0.052130\n",
       "1          0          984  0.023873\n",
       "2          0         8135  0.602445\n",
       "3          0         6915  0.008604\n",
       "4          1         2712  0.960961"
      ]
     },
     "execution_count": 192,
     "metadata": {},
     "output_type": "execute_result"
    }
   ],
   "source": [
    "# Check dataframe\n",
    "y_pred_final.head()"
   ]
  },
  {
   "cell_type": "code",
   "execution_count": 193,
   "id": "f577dfb1",
   "metadata": {},
   "outputs": [],
   "source": [
    "# Renaming column\n",
    "y_pred_final= y_pred_final.rename(columns={ 0 : 'Converted_prob'})"
   ]
  },
  {
   "cell_type": "code",
   "execution_count": 194,
   "id": "3d0d77fa",
   "metadata": {},
   "outputs": [],
   "source": [
    "# Assign probabability score based on cutoff of 0.2\n",
    "y_pred_final['final_Predicted'] = y_pred_final.Converted_prob.map(lambda x: 1 if x > 0.2 else 0)"
   ]
  },
  {
   "cell_type": "code",
   "execution_count": 195,
   "id": "1713f0ca",
   "metadata": {},
   "outputs": [
    {
     "data": {
      "text/html": [
       "<div>\n",
       "<style scoped>\n",
       "    .dataframe tbody tr th:only-of-type {\n",
       "        vertical-align: middle;\n",
       "    }\n",
       "\n",
       "    .dataframe tbody tr th {\n",
       "        vertical-align: top;\n",
       "    }\n",
       "\n",
       "    .dataframe thead th {\n",
       "        text-align: right;\n",
       "    }\n",
       "</style>\n",
       "<table border=\"1\" class=\"dataframe\">\n",
       "  <thead>\n",
       "    <tr style=\"text-align: right;\">\n",
       "      <th></th>\n",
       "      <th>Converted</th>\n",
       "      <th>Prospect ID</th>\n",
       "      <th>Converted_prob</th>\n",
       "      <th>final_Predicted</th>\n",
       "    </tr>\n",
       "  </thead>\n",
       "  <tbody>\n",
       "    <tr>\n",
       "      <th>0</th>\n",
       "      <td>0</td>\n",
       "      <td>7681</td>\n",
       "      <td>0.052130</td>\n",
       "      <td>0</td>\n",
       "    </tr>\n",
       "    <tr>\n",
       "      <th>1</th>\n",
       "      <td>0</td>\n",
       "      <td>984</td>\n",
       "      <td>0.023873</td>\n",
       "      <td>0</td>\n",
       "    </tr>\n",
       "    <tr>\n",
       "      <th>2</th>\n",
       "      <td>0</td>\n",
       "      <td>8135</td>\n",
       "      <td>0.602445</td>\n",
       "      <td>1</td>\n",
       "    </tr>\n",
       "    <tr>\n",
       "      <th>3</th>\n",
       "      <td>0</td>\n",
       "      <td>6915</td>\n",
       "      <td>0.008604</td>\n",
       "      <td>0</td>\n",
       "    </tr>\n",
       "    <tr>\n",
       "      <th>4</th>\n",
       "      <td>1</td>\n",
       "      <td>2712</td>\n",
       "      <td>0.960961</td>\n",
       "      <td>1</td>\n",
       "    </tr>\n",
       "  </tbody>\n",
       "</table>\n",
       "</div>"
      ],
      "text/plain": [
       "   Converted  Prospect ID  Converted_prob  final_Predicted\n",
       "0          0         7681        0.052130                0\n",
       "1          0          984        0.023873                0\n",
       "2          0         8135        0.602445                1\n",
       "3          0         6915        0.008604                0\n",
       "4          1         2712        0.960961                1"
      ]
     },
     "execution_count": 195,
     "metadata": {},
     "output_type": "execute_result"
    }
   ],
   "source": [
    "y_pred_final.head()"
   ]
  },
  {
   "cell_type": "code",
   "execution_count": 196,
   "id": "84392014",
   "metadata": {},
   "outputs": [
    {
     "data": {
      "text/plain": [
       "0.9214445271779598"
      ]
     },
     "execution_count": 196,
     "metadata": {},
     "output_type": "execute_result"
    }
   ],
   "source": [
    "# Checking overall accuracy\n",
    "metrics.accuracy_score(y_pred_final.Converted, y_pred_final.final_Predicted)"
   ]
  },
  {
   "cell_type": "markdown",
   "id": "cdbfac45",
   "metadata": {},
   "source": [
    "#### 3. Confusion Matrix"
   ]
  },
  {
   "cell_type": "code",
   "execution_count": 197,
   "id": "869cd423",
   "metadata": {},
   "outputs": [],
   "source": [
    "confusion2 = metrics.confusion_matrix(y_pred_final.Converted, y_pred_final.final_Predicted )"
   ]
  },
  {
   "cell_type": "code",
   "execution_count": 198,
   "id": "9ad2fafb",
   "metadata": {},
   "outputs": [
    {
     "data": {
      "text/plain": [
       "array([[1582,   94],\n",
       "       [ 117,  893]], dtype=int64)"
      ]
     },
     "execution_count": 198,
     "metadata": {},
     "output_type": "execute_result"
    }
   ],
   "source": [
    "confusion2"
   ]
  },
  {
   "cell_type": "code",
   "execution_count": 199,
   "id": "596094ad",
   "metadata": {},
   "outputs": [
    {
     "name": "stdout",
     "output_type": "stream",
     "text": [
      "True Positive 893\n",
      "True Negative 1582\n",
      "False Positive 94\n",
      "False Negative 117\n"
     ]
    }
   ],
   "source": [
    "TP = confusion2[1,1] # true positive \n",
    "TN = confusion2[0,0] # true negatives\n",
    "FP = confusion2[0,1] # false positives\n",
    "FN = confusion2[1,0] # false negatives\n",
    "\n",
    "print(\"True Positive\", TP)\n",
    "print(\"True Negative\", TN)\n",
    "print(\"False Positive\", FP)\n",
    "print(\"False Negative\", FN)"
   ]
  },
  {
   "cell_type": "code",
   "execution_count": 200,
   "id": "957572d7",
   "metadata": {},
   "outputs": [
    {
     "data": {
      "text/plain": [
       "0.9439140811455847"
      ]
     },
     "execution_count": 200,
     "metadata": {},
     "output_type": "execute_result"
    }
   ],
   "source": [
    "# Specificity\n",
    "TN / float(TN+FP)"
   ]
  },
  {
   "cell_type": "code",
   "execution_count": 201,
   "id": "5450c856",
   "metadata": {},
   "outputs": [
    {
     "data": {
      "text/plain": [
       "0.8841584158415842"
      ]
     },
     "execution_count": 201,
     "metadata": {},
     "output_type": "execute_result"
    }
   ],
   "source": [
    "# Sensitivity\n",
    "TP / float(TP+FN)"
   ]
  },
  {
   "cell_type": "code",
   "execution_count": 202,
   "id": "31aa873a",
   "metadata": {},
   "outputs": [
    {
     "data": {
      "text/plain": [
       "0.9047619047619048"
      ]
     },
     "execution_count": 202,
     "metadata": {},
     "output_type": "execute_result"
    }
   ],
   "source": [
    "# Precision\n",
    "precision_score(y_pred_final.Converted , y_pred_final.final_Predicted)"
   ]
  },
  {
   "cell_type": "code",
   "execution_count": 203,
   "id": "52eb181e",
   "metadata": {},
   "outputs": [
    {
     "data": {
      "text/plain": [
       "0.8841584158415842"
      ]
     },
     "execution_count": 203,
     "metadata": {},
     "output_type": "execute_result"
    }
   ],
   "source": [
    "# Recall\n",
    "recall_score(y_pred_final.Converted, y_pred_final.final_Predicted)"
   ]
  },
  {
   "cell_type": "markdown",
   "id": "2333eeca",
   "metadata": {},
   "source": [
    "#### 4. Conclusion On Test Dataset\n",
    "\n",
    "=> After running the trained model on the test dataset, we got below values :-\n",
    "    \n",
    "     . Accuracy:    92.14%\n",
    "     . Sensitivity: 88.40%\n",
    "     . Specificity: 94.39%"
   ]
  },
  {
   "cell_type": "markdown",
   "id": "8ab6008b",
   "metadata": {},
   "source": [
    "## Step 7 : Final Observation"
   ]
  },
  {
   "cell_type": "markdown",
   "id": "70353bb7",
   "metadata": {},
   "source": [
    "### Comparing the values obtained by our Train and Test dataset:\n",
    "\n",
    "1. Train Dataset\n",
    "     - Accuracy:    91.75%\n",
    "     - Sensitivity: 88%\n",
    "     - Specificity: 94.04%\n",
    "     \n",
    "     \n",
    "2. Test Dataset\n",
    "     - Accuracy:    92.14%\n",
    "     - Sensitivity: 88.40%\n",
    "     - Specificity: 94.39%"
   ]
  },
  {
   "cell_type": "markdown",
   "id": "c825b0be",
   "metadata": {},
   "source": [
    "Based on the above performance parameters, our model looks good enough to give decision makers a fair understanding about making the right business calls."
   ]
  }
 ],
 "metadata": {
  "kernelspec": {
   "display_name": "Python 3 (ipykernel)",
   "language": "python",
   "name": "python3"
  },
  "language_info": {
   "codemirror_mode": {
    "name": "ipython",
    "version": 3
   },
   "file_extension": ".py",
   "mimetype": "text/x-python",
   "name": "python",
   "nbconvert_exporter": "python",
   "pygments_lexer": "ipython3",
   "version": "3.9.12"
  }
 },
 "nbformat": 4,
 "nbformat_minor": 5
}
